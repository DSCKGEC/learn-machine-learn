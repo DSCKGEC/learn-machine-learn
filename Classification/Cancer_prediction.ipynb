{
 "cells": [
  {
   "cell_type": "markdown",
   "id": "e9109d62-5d63-4920-a893-67bffd44ed23",
   "metadata": {
    "id": "e9109d62-5d63-4920-a893-67bffd44ed23"
   },
   "source": [
    "# Cancer Prediction\n",
    "\n",
    "This notebook is a part of **Developer Student Clubs KGEC**.\n"
   ]
  },
  {
   "cell_type": "markdown",
   "id": "7008492c-9648-4a8d-81ec-33404ff684e3",
   "metadata": {
    "id": "7008492c-9648-4a8d-81ec-33404ff684e3"
   },
   "source": [
    "## Module imports"
   ]
  },
  {
   "cell_type": "code",
   "execution_count": 39,
   "id": "7b052a51-7fa2-441f-9c93-f4e0085b3fe4",
   "metadata": {
    "id": "7b052a51-7fa2-441f-9c93-f4e0085b3fe4"
   },
   "outputs": [],
   "source": [
    "import pandas as pd\n",
    "import numpy as np\n",
    "\n",
    "# Data visualization libraries\n",
    "import seaborn as sns\n",
    "import matplotlib.pyplot as plt\n",
    "\n",
    "# Scikit-Learn\n",
    "from sklearn.model_selection import train_test_split\n",
    "\n",
    "# Evaluation metrics\n",
    "from sklearn.metrics import accuracy_score,classification_report,confusion_matrix"
   ]
  },
  {
   "cell_type": "markdown",
   "id": "01b6b267-0515-4135-9bdc-fb1d1e622961",
   "metadata": {
    "id": "01b6b267-0515-4135-9bdc-fb1d1e622961"
   },
   "source": [
    "## Importing dataset"
   ]
  },
  {
   "cell_type": "markdown",
   "id": "WGvtYUVDu01n",
   "metadata": {
    "id": "WGvtYUVDu01n"
   },
   "source": [
    "`Please upload the dataset in zip format direclty in google colab(not through google drive)`"
   ]
  },
  {
   "cell_type": "code",
   "execution_count": 40,
   "id": "f2u7NMUji1uo",
   "metadata": {
    "colab": {
     "base_uri": "https://localhost:8080/"
    },
    "id": "f2u7NMUji1uo",
    "outputId": "2c03f61a-0977-441c-f114-1821053e4c34"
   },
   "outputs": [],
   "source": [
    "# !unzip /content/cancer_data.csv.zip"
   ]
  },
  {
   "cell_type": "code",
   "execution_count": 41,
   "id": "2e34f4d0-20ad-4f8c-a5e8-36b88065479d",
   "metadata": {
    "id": "2e34f4d0-20ad-4f8c-a5e8-36b88065479d"
   },
   "outputs": [],
   "source": [
    "DATASET_PATH = 'Datasets/cancer_data.csv'\n",
    "cancer_data = pd.read_csv(DATASET_PATH)"
   ]
  },
  {
   "cell_type": "markdown",
   "id": "70ce000f-dfbd-4de6-ae1b-04ffe9ed46c8",
   "metadata": {
    "id": "70ce000f-dfbd-4de6-ae1b-04ffe9ed46c8"
   },
   "source": [
    "## Exploratory Data Analysis"
   ]
  },
  {
   "cell_type": "code",
   "execution_count": 42,
   "id": "dd944250-abbf-4468-8f19-34e3999c4f82",
   "metadata": {
    "colab": {
     "base_uri": "https://localhost:8080/"
    },
    "id": "dd944250-abbf-4468-8f19-34e3999c4f82",
    "outputId": "4d917903-e698-41ba-be52-7752b86a341b"
   },
   "outputs": [
    {
     "data": {
      "text/plain": [
       "(683, 11)"
      ]
     },
     "execution_count": 42,
     "metadata": {},
     "output_type": "execute_result"
    }
   ],
   "source": [
    "cancer_data.shape"
   ]
  },
  {
   "cell_type": "code",
   "execution_count": 43,
   "id": "9d3e7d53-848b-47a2-b2ef-da8cdcd38697",
   "metadata": {
    "colab": {
     "base_uri": "https://localhost:8080/"
    },
    "id": "9d3e7d53-848b-47a2-b2ef-da8cdcd38697",
    "outputId": "0b4309cc-6a20-4f03-8dc6-e5ebb7fd254d"
   },
   "outputs": [
    {
     "data": {
      "text/plain": [
       "Sample code number             0\n",
       "Clump Thickness                0\n",
       "Uniformity of Cell Size        0\n",
       "Uniformity of Cell Shape       0\n",
       "Marginal Adhesion              0\n",
       "Single Epithelial Cell Size    0\n",
       "Bare Nuclei                    0\n",
       "Bland Chromatin                0\n",
       "Normal Nucleoli                0\n",
       "Mitoses                        0\n",
       "Class                          0\n",
       "dtype: int64"
      ]
     },
     "execution_count": 43,
     "metadata": {},
     "output_type": "execute_result"
    }
   ],
   "source": [
    "## Checking for null values\n",
    "cancer_data.isnull().sum()"
   ]
  },
  {
   "cell_type": "code",
   "execution_count": 44,
   "id": "3488d2b3-f069-40d5-bc96-2d788a21419e",
   "metadata": {
    "colab": {
     "base_uri": "https://localhost:8080/"
    },
    "id": "3488d2b3-f069-40d5-bc96-2d788a21419e",
    "outputId": "526df08d-10cb-4f29-f2a0-efe93ad2017f"
   },
   "outputs": [
    {
     "data": {
      "text/plain": [
       "Index(['Sample code number', 'Clump Thickness', 'Uniformity of Cell Size',\n",
       "       'Uniformity of Cell Shape', 'Marginal Adhesion',\n",
       "       'Single Epithelial Cell Size', 'Bare Nuclei', 'Bland Chromatin',\n",
       "       'Normal Nucleoli', 'Mitoses', 'Class'],\n",
       "      dtype='object')"
      ]
     },
     "execution_count": 44,
     "metadata": {},
     "output_type": "execute_result"
    }
   ],
   "source": [
    "cancer_data.columns"
   ]
  },
  {
   "cell_type": "code",
   "execution_count": 45,
   "id": "46c74d9d-96f0-4ba7-b9b4-4989d4543610",
   "metadata": {
    "colab": {
     "base_uri": "https://localhost:8080/",
     "height": 301
    },
    "id": "46c74d9d-96f0-4ba7-b9b4-4989d4543610",
    "outputId": "35aec0d3-8d78-49a5-f047-138d67f8aba6"
   },
   "outputs": [
    {
     "data": {
      "text/html": [
       "<div>\n",
       "<style scoped>\n",
       "    .dataframe tbody tr th:only-of-type {\n",
       "        vertical-align: middle;\n",
       "    }\n",
       "\n",
       "    .dataframe tbody tr th {\n",
       "        vertical-align: top;\n",
       "    }\n",
       "\n",
       "    .dataframe thead th {\n",
       "        text-align: right;\n",
       "    }\n",
       "</style>\n",
       "<table border=\"1\" class=\"dataframe\">\n",
       "  <thead>\n",
       "    <tr style=\"text-align: right;\">\n",
       "      <th></th>\n",
       "      <th>Sample code number</th>\n",
       "      <th>Clump Thickness</th>\n",
       "      <th>Uniformity of Cell Size</th>\n",
       "      <th>Uniformity of Cell Shape</th>\n",
       "      <th>Marginal Adhesion</th>\n",
       "      <th>Single Epithelial Cell Size</th>\n",
       "      <th>Bare Nuclei</th>\n",
       "      <th>Bland Chromatin</th>\n",
       "      <th>Normal Nucleoli</th>\n",
       "      <th>Mitoses</th>\n",
       "      <th>Class</th>\n",
       "    </tr>\n",
       "  </thead>\n",
       "  <tbody>\n",
       "    <tr>\n",
       "      <th>0</th>\n",
       "      <td>1000025</td>\n",
       "      <td>5</td>\n",
       "      <td>1</td>\n",
       "      <td>1</td>\n",
       "      <td>1</td>\n",
       "      <td>2</td>\n",
       "      <td>1</td>\n",
       "      <td>3</td>\n",
       "      <td>1</td>\n",
       "      <td>1</td>\n",
       "      <td>2</td>\n",
       "    </tr>\n",
       "    <tr>\n",
       "      <th>1</th>\n",
       "      <td>1002945</td>\n",
       "      <td>5</td>\n",
       "      <td>4</td>\n",
       "      <td>4</td>\n",
       "      <td>5</td>\n",
       "      <td>7</td>\n",
       "      <td>10</td>\n",
       "      <td>3</td>\n",
       "      <td>2</td>\n",
       "      <td>1</td>\n",
       "      <td>2</td>\n",
       "    </tr>\n",
       "    <tr>\n",
       "      <th>2</th>\n",
       "      <td>1015425</td>\n",
       "      <td>3</td>\n",
       "      <td>1</td>\n",
       "      <td>1</td>\n",
       "      <td>1</td>\n",
       "      <td>2</td>\n",
       "      <td>2</td>\n",
       "      <td>3</td>\n",
       "      <td>1</td>\n",
       "      <td>1</td>\n",
       "      <td>2</td>\n",
       "    </tr>\n",
       "    <tr>\n",
       "      <th>3</th>\n",
       "      <td>1016277</td>\n",
       "      <td>6</td>\n",
       "      <td>8</td>\n",
       "      <td>8</td>\n",
       "      <td>1</td>\n",
       "      <td>3</td>\n",
       "      <td>4</td>\n",
       "      <td>3</td>\n",
       "      <td>7</td>\n",
       "      <td>1</td>\n",
       "      <td>2</td>\n",
       "    </tr>\n",
       "    <tr>\n",
       "      <th>4</th>\n",
       "      <td>1017023</td>\n",
       "      <td>4</td>\n",
       "      <td>1</td>\n",
       "      <td>1</td>\n",
       "      <td>3</td>\n",
       "      <td>2</td>\n",
       "      <td>1</td>\n",
       "      <td>3</td>\n",
       "      <td>1</td>\n",
       "      <td>1</td>\n",
       "      <td>2</td>\n",
       "    </tr>\n",
       "  </tbody>\n",
       "</table>\n",
       "</div>"
      ],
      "text/plain": [
       "   Sample code number  Clump Thickness  Uniformity of Cell Size  \\\n",
       "0             1000025                5                        1   \n",
       "1             1002945                5                        4   \n",
       "2             1015425                3                        1   \n",
       "3             1016277                6                        8   \n",
       "4             1017023                4                        1   \n",
       "\n",
       "   Uniformity of Cell Shape  Marginal Adhesion  Single Epithelial Cell Size  \\\n",
       "0                         1                  1                            2   \n",
       "1                         4                  5                            7   \n",
       "2                         1                  1                            2   \n",
       "3                         8                  1                            3   \n",
       "4                         1                  3                            2   \n",
       "\n",
       "   Bare Nuclei  Bland Chromatin  Normal Nucleoli  Mitoses  Class  \n",
       "0            1                3                1        1      2  \n",
       "1           10                3                2        1      2  \n",
       "2            2                3                1        1      2  \n",
       "3            4                3                7        1      2  \n",
       "4            1                3                1        1      2  "
      ]
     },
     "execution_count": 45,
     "metadata": {},
     "output_type": "execute_result"
    }
   ],
   "source": [
    "cancer_data.head()"
   ]
  },
  {
   "cell_type": "code",
   "execution_count": 46,
   "id": "3da16071",
   "metadata": {},
   "outputs": [
    {
     "data": {
      "text/html": [
       "<div>\n",
       "<style scoped>\n",
       "    .dataframe tbody tr th:only-of-type {\n",
       "        vertical-align: middle;\n",
       "    }\n",
       "\n",
       "    .dataframe tbody tr th {\n",
       "        vertical-align: top;\n",
       "    }\n",
       "\n",
       "    .dataframe thead th {\n",
       "        text-align: right;\n",
       "    }\n",
       "</style>\n",
       "<table border=\"1\" class=\"dataframe\">\n",
       "  <thead>\n",
       "    <tr style=\"text-align: right;\">\n",
       "      <th></th>\n",
       "      <th>Sample code number</th>\n",
       "      <th>Clump Thickness</th>\n",
       "      <th>Uniformity of Cell Size</th>\n",
       "      <th>Uniformity of Cell Shape</th>\n",
       "      <th>Marginal Adhesion</th>\n",
       "      <th>Single Epithelial Cell Size</th>\n",
       "      <th>Bare Nuclei</th>\n",
       "      <th>Bland Chromatin</th>\n",
       "      <th>Normal Nucleoli</th>\n",
       "      <th>Mitoses</th>\n",
       "      <th>Class</th>\n",
       "    </tr>\n",
       "  </thead>\n",
       "  <tbody>\n",
       "    <tr>\n",
       "      <th>678</th>\n",
       "      <td>776715</td>\n",
       "      <td>3</td>\n",
       "      <td>1</td>\n",
       "      <td>1</td>\n",
       "      <td>1</td>\n",
       "      <td>3</td>\n",
       "      <td>2</td>\n",
       "      <td>1</td>\n",
       "      <td>1</td>\n",
       "      <td>1</td>\n",
       "      <td>2</td>\n",
       "    </tr>\n",
       "    <tr>\n",
       "      <th>679</th>\n",
       "      <td>841769</td>\n",
       "      <td>2</td>\n",
       "      <td>1</td>\n",
       "      <td>1</td>\n",
       "      <td>1</td>\n",
       "      <td>2</td>\n",
       "      <td>1</td>\n",
       "      <td>1</td>\n",
       "      <td>1</td>\n",
       "      <td>1</td>\n",
       "      <td>2</td>\n",
       "    </tr>\n",
       "    <tr>\n",
       "      <th>680</th>\n",
       "      <td>888820</td>\n",
       "      <td>5</td>\n",
       "      <td>10</td>\n",
       "      <td>10</td>\n",
       "      <td>3</td>\n",
       "      <td>7</td>\n",
       "      <td>3</td>\n",
       "      <td>8</td>\n",
       "      <td>10</td>\n",
       "      <td>2</td>\n",
       "      <td>4</td>\n",
       "    </tr>\n",
       "    <tr>\n",
       "      <th>681</th>\n",
       "      <td>897471</td>\n",
       "      <td>4</td>\n",
       "      <td>8</td>\n",
       "      <td>6</td>\n",
       "      <td>4</td>\n",
       "      <td>3</td>\n",
       "      <td>4</td>\n",
       "      <td>10</td>\n",
       "      <td>6</td>\n",
       "      <td>1</td>\n",
       "      <td>4</td>\n",
       "    </tr>\n",
       "    <tr>\n",
       "      <th>682</th>\n",
       "      <td>897471</td>\n",
       "      <td>4</td>\n",
       "      <td>8</td>\n",
       "      <td>8</td>\n",
       "      <td>5</td>\n",
       "      <td>4</td>\n",
       "      <td>5</td>\n",
       "      <td>10</td>\n",
       "      <td>4</td>\n",
       "      <td>1</td>\n",
       "      <td>4</td>\n",
       "    </tr>\n",
       "  </tbody>\n",
       "</table>\n",
       "</div>"
      ],
      "text/plain": [
       "     Sample code number  Clump Thickness  Uniformity of Cell Size  \\\n",
       "678              776715                3                        1   \n",
       "679              841769                2                        1   \n",
       "680              888820                5                       10   \n",
       "681              897471                4                        8   \n",
       "682              897471                4                        8   \n",
       "\n",
       "     Uniformity of Cell Shape  Marginal Adhesion  Single Epithelial Cell Size  \\\n",
       "678                         1                  1                            3   \n",
       "679                         1                  1                            2   \n",
       "680                        10                  3                            7   \n",
       "681                         6                  4                            3   \n",
       "682                         8                  5                            4   \n",
       "\n",
       "     Bare Nuclei  Bland Chromatin  Normal Nucleoli  Mitoses  Class  \n",
       "678            2                1                1        1      2  \n",
       "679            1                1                1        1      2  \n",
       "680            3                8               10        2      4  \n",
       "681            4               10                6        1      4  \n",
       "682            5               10                4        1      4  "
      ]
     },
     "execution_count": 46,
     "metadata": {},
     "output_type": "execute_result"
    }
   ],
   "source": [
    "cancer_data.tail()"
   ]
  },
  {
   "cell_type": "code",
   "execution_count": 47,
   "id": "7edfbf1f",
   "metadata": {},
   "outputs": [
    {
     "data": {
      "text/plain": [
       "Sample code number             int64\n",
       "Clump Thickness                int64\n",
       "Uniformity of Cell Size        int64\n",
       "Uniformity of Cell Shape       int64\n",
       "Marginal Adhesion              int64\n",
       "Single Epithelial Cell Size    int64\n",
       "Bare Nuclei                    int64\n",
       "Bland Chromatin                int64\n",
       "Normal Nucleoli                int64\n",
       "Mitoses                        int64\n",
       "Class                          int64\n",
       "dtype: object"
      ]
     },
     "execution_count": 47,
     "metadata": {},
     "output_type": "execute_result"
    }
   ],
   "source": [
    "# Get dtypes of the dataset\n",
    "cancer_data.dtypes"
   ]
  },
  {
   "cell_type": "code",
   "execution_count": 48,
   "id": "62bc4d8b-48fc-4f89-868e-de03e4fa4c90",
   "metadata": {
    "colab": {
     "base_uri": "https://localhost:8080/"
    },
    "id": "62bc4d8b-48fc-4f89-868e-de03e4fa4c90",
    "outputId": "52f48aa2-e73e-4a4e-aa46-cc5a21241420"
   },
   "outputs": [
    {
     "data": {
      "text/plain": [
       "array([2, 4], dtype=int64)"
      ]
     },
     "execution_count": 48,
     "metadata": {},
     "output_type": "execute_result"
    }
   ],
   "source": [
    "## Let's see what are the classes\n",
    "cancer_data['Class'].unique()"
   ]
  },
  {
   "cell_type": "markdown",
   "id": "b70a209f-387b-445d-93a2-bd195f9082ed",
   "metadata": {
    "id": "b70a209f-387b-445d-93a2-bd195f9082ed"
   },
   "source": [
    "**2 : Non cancerous**\n",
    "**4 : Cancerous**\n",
    "\n",
    "We are mapping `2` with **0** (non cancerous) and `4` with **1** (cancerous)"
   ]
  },
  {
   "cell_type": "code",
   "execution_count": 49,
   "id": "2975c450-abc9-485a-a9c9-5730665fddf2",
   "metadata": {
    "id": "2975c450-abc9-485a-a9c9-5730665fddf2"
   },
   "outputs": [],
   "source": [
    "cancer_data['Class'] = cancer_data['Class'].map({2:0,4:1})"
   ]
  },
  {
   "cell_type": "code",
   "execution_count": 50,
   "id": "IXeL35f1tsDd",
   "metadata": {
    "id": "IXeL35f1tsDd"
   },
   "outputs": [],
   "source": [
    "class_names = ['non-cancerous','cancerous']"
   ]
  },
  {
   "cell_type": "code",
   "execution_count": 51,
   "id": "8c270845",
   "metadata": {},
   "outputs": [
    {
     "name": "stdout",
     "output_type": "stream",
     "text": [
      "Function Initialized Successfully\n"
     ]
    }
   ],
   "source": [
    "def count_of_categories(category_name):\n",
    "    col = [column for column in cancer_data.columns]\n",
    "    try:\n",
    "        sns.countplot(x = cancer_data[category_name])\n",
    "        plt.xticks(rotation=360)\n",
    "        plt.show()\n",
    "    except:\n",
    "        print(f\"\"\"Please Enter an Existing Category Name: Please choose from below: \\n\n",
    "{col}\"\"\")\n",
    "\n",
    "print(\"Function Initialized Successfully\")\n",
    "# Note: You can call this function anytime to get a count of the any of the existing columns"
   ]
  },
  {
   "cell_type": "code",
   "execution_count": 52,
   "id": "1f8b6de2",
   "metadata": {},
   "outputs": [
    {
     "data": {
      "image/png": "[encoded data removed]",
      "text/plain": [
       "<Figure size 432x288 with 1 Axes>"
      ]
     },
     "metadata": {
      "needs_background": "light"
     },
     "output_type": "display_data"
    }
   ],
   "source": [
    "# Class Category Count\n",
    "count_of_categories(\"Class\")"
   ]
  },
  {
   "cell_type": "code",
   "execution_count": 53,
   "id": "4a1240ac",
   "metadata": {},
   "outputs": [
    {
     "data": {
      "image/png": "[encoded data removed]",
      "text/plain": [
       "<Figure size 432x288 with 1 Axes>"
      ]
     },
     "metadata": {
      "needs_background": "light"
     },
     "output_type": "display_data"
    }
   ],
   "source": [
    "# Mitoses Category Count\n",
    "count_of_categories(\"Mitoses\")"
   ]
  },
  {
   "cell_type": "markdown",
   "id": "0cb183c1-e46e-40b6-8055-f0b7d672e893",
   "metadata": {
    "id": "0cb183c1-e46e-40b6-8055-f0b7d672e893"
   },
   "source": [
    "These is an imbalance dataset"
   ]
  },
  {
   "cell_type": "code",
   "execution_count": 54,
   "id": "ea350ebb-15c9-40c5-9b15-3cd919468815",
   "metadata": {
    "id": "ea350ebb-15c9-40c5-9b15-3cd919468815"
   },
   "outputs": [],
   "source": [
    "## Dropping the sample code number\n",
    "cancer_data.drop('Sample code number', axis=1, inplace=True)"
   ]
  },
  {
   "cell_type": "markdown",
   "id": "2f10ff87-a172-45b3-bc6f-fae5bd5061df",
   "metadata": {
    "id": "2f10ff87-a172-45b3-bc6f-fae5bd5061df"
   },
   "source": [
    "## Splitting the dataset into Train and test set"
   ]
  },
  {
   "cell_type": "code",
   "execution_count": 55,
   "id": "9ff8c274-edf5-4611-b07f-0a3d77624050",
   "metadata": {
    "id": "9ff8c274-edf5-4611-b07f-0a3d77624050"
   },
   "outputs": [],
   "source": [
    "x_train, x_test, y_train, y_test = train_test_split(cancer_data.drop('Class',axis=1),cancer_data['Class'],test_size=0.2,random_state=42)"
   ]
  },
  {
   "cell_type": "code",
   "execution_count": 56,
   "id": "JVe9cmIqpn7r",
   "metadata": {
    "id": "JVe9cmIqpn7r"
   },
   "outputs": [],
   "source": [
    "x_train = x_train.to_numpy()\n",
    "x_test = x_test.to_numpy()\n",
    "y_train = y_train.to_numpy()\n",
    "y_test = y_test.to_numpy()"
   ]
  },
  {
   "cell_type": "code",
   "execution_count": 57,
   "id": "82b97b66-c4f3-4e46-b1fe-ac5df398d8ac",
   "metadata": {
    "colab": {
     "base_uri": "https://localhost:8080/"
    },
    "id": "82b97b66-c4f3-4e46-b1fe-ac5df398d8ac",
    "outputId": "c358f7bd-d9f1-45b0-b598-7647b27f32f6"
   },
   "outputs": [
    {
     "name": "stdout",
     "output_type": "stream",
     "text": [
      "Shape of x train :  (546, 9)\n",
      "Shape of x test :  (137, 9)\n",
      "Shape of y train :  (546,)\n",
      "Shape of y test :  (137,)\n"
     ]
    }
   ],
   "source": [
    "print('Shape of x train : ', x_train.shape)\n",
    "print('Shape of x test : ', x_test.shape)\n",
    "print('Shape of y train : ', y_train.shape)\n",
    "print('Shape of y test : ', y_test.shape)"
   ]
  },
  {
   "cell_type": "markdown",
   "id": "87eqgLlsjr04",
   "metadata": {
    "id": "87eqgLlsjr04"
   },
   "source": [
    "## Models"
   ]
  },
  {
   "cell_type": "code",
   "execution_count": 58,
   "id": "HzlhQdeZuOFq",
   "metadata": {
    "id": "HzlhQdeZuOFq"
   },
   "outputs": [],
   "source": [
    "from sklearn.metrics import f1_score\n",
    "\n",
    "\n",
    "def metrics(y_true,y_pred):\n",
    "  print('f1 score :',f1_score(y_true,y_pred))\n",
    "  print()\n",
    "  print('accuracy :',accuracy_score(y_true,y_pred))\n",
    "  print()\n",
    "  print('Classification Report--')\n",
    "  print(classification_report(y_true,y_pred,target_names=class_names))\n",
    "  print()\n",
    "  print('Confussion matrix--')\n",
    "  print(confusion_matrix(y_true,y_pred))\n",
    "\n"
   ]
  },
  {
   "cell_type": "markdown",
   "id": "jQBH1bdRmgDT",
   "metadata": {
    "id": "jQBH1bdRmgDT"
   },
   "source": [
    "### 1. Naive Bias"
   ]
  },
  {
   "cell_type": "code",
   "execution_count": 59,
   "id": "WiwQbjiymiUw",
   "metadata": {
    "colab": {
     "base_uri": "https://localhost:8080/"
    },
    "id": "WiwQbjiymiUw",
    "outputId": "02b3ec1f-cfdb-4c2a-8caa-2499422be0c7"
   },
   "outputs": [
    {
     "data": {
      "text/plain": [
       "(0.9615384615384616, 0.9708029197080292)"
      ]
     },
     "execution_count": 59,
     "metadata": {},
     "output_type": "execute_result"
    }
   ],
   "source": [
    "from sklearn.naive_bayes import GaussianNB\n",
    "np.random.seed(42)\n",
    "\n",
    "# Fir the Model\n",
    "naive_bias_clf = GaussianNB(priors=[0.3, 0.7]).fit(x_train, y_train)\n",
    "\n",
    "# Make a prediction\n",
    "y_preds_naive_bias = naive_bias_clf.predict(x_test)\n",
    "\n",
    "# Evaluate the model on the training and test data\n",
    "naive_bias_clf.score(x_train, y_train), naive_bias_clf.score(x_test, y_test)"
   ]
  },
  {
   "cell_type": "code",
   "execution_count": 60,
   "id": "-VAXG5wyviHy",
   "metadata": {
    "colab": {
     "base_uri": "https://localhost:8080/"
    },
    "id": "-VAXG5wyviHy",
    "outputId": "07164e98-f10c-47a0-8006-8ae958b4591b"
   },
   "outputs": [
    {
     "name": "stdout",
     "output_type": "stream",
     "text": [
      "f1 score : 0.9661016949152542\n",
      "\n",
      "accuracy : 0.9708029197080292\n",
      "\n",
      "Classification Report--\n",
      "               precision    recall  f1-score   support\n",
      "\n",
      "non-cancerous       0.99      0.96      0.97        79\n",
      "    cancerous       0.95      0.98      0.97        58\n",
      "\n",
      "     accuracy                           0.97       137\n",
      "    macro avg       0.97      0.97      0.97       137\n",
      " weighted avg       0.97      0.97      0.97       137\n",
      "\n",
      "\n",
      "Confussion matrix--\n",
      "[[76  3]\n",
      " [ 1 57]]\n"
     ]
    }
   ],
   "source": [
    "metrics(y_test, y_preds_naive_bias)"
   ]
  },
  {
   "cell_type": "markdown",
   "id": "RztTOiF0sbgV",
   "metadata": {
    "id": "RztTOiF0sbgV"
   },
   "source": [
    "### 2. Ridge classifier"
   ]
  },
  {
   "cell_type": "code",
   "execution_count": 61,
   "id": "2bf8823a",
   "metadata": {},
   "outputs": [
    {
     "data": {
      "text/plain": [
       "0.7309035355739851"
      ]
     },
     "execution_count": 61,
     "metadata": {},
     "output_type": "execute_result"
    }
   ],
   "source": [
    "from sklearn.linear_model import RidgeClassifier\n",
    "from sklearn.metrics import r2_score\n",
    "from sklearn.model_selection import RandomizedSearchCV, GridSearchCV\n",
    "rc_clf = RidgeClassifier()\n",
    "rc_clf.fit(x_train,y_train)\n",
    "r2_score(y_test,rc_clf.predict(x_test))"
   ]
  },
  {
   "cell_type": "code",
   "execution_count": 62,
   "id": "e3ecc9df",
   "metadata": {},
   "outputs": [
    {
     "name": "stdout",
     "output_type": "stream",
     "text": [
      "{'alpha': 0.1}\n"
     ]
    }
   ],
   "source": [
    "param_grid_rc = { \n",
    "    'alpha' : [0.1, 0.2, 0.3, 0.4, 0.5, 0.6, 0.7, 0.8, 0.9, 1.0],\n",
    "}\n",
    "\n",
    "CV_rc = GridSearchCV(estimator=rc_clf, param_grid=param_grid_rc, cv= 5);\n",
    "CV_rc.fit(x_test, y_test);\n",
    "print(CV_rc.best_params_)"
   ]
  },
  {
   "cell_type": "code",
   "execution_count": 63,
   "id": "8dfa8241",
   "metadata": {},
   "outputs": [
    {
     "name": "stdout",
     "output_type": "stream",
     "text": [
      "f1 score : 0.9369369369369369\n",
      "\n",
      "accuracy : 0.948905109489051\n",
      "\n",
      "Classification Report--\n",
      "               precision    recall  f1-score   support\n",
      "\n",
      "non-cancerous       0.93      0.99      0.96        79\n",
      "    cancerous       0.98      0.90      0.94        58\n",
      "\n",
      "     accuracy                           0.95       137\n",
      "    macro avg       0.95      0.94      0.95       137\n",
      " weighted avg       0.95      0.95      0.95       137\n",
      "\n",
      "\n",
      "Confussion matrix--\n",
      "[[78  1]\n",
      " [ 6 52]]\n"
     ]
    }
   ],
   "source": [
    "y_preds_rc = CV_rc.predict(x_test)\n",
    "metrics(y_test,y_preds_rc)"
   ]
  },
  {
   "cell_type": "markdown",
   "id": "HBW_v7J5ndjI",
   "metadata": {
    "id": "HBW_v7J5ndjI"
   },
   "source": [
    "### 3. Random Forest Classifier"
   ]
  },
  {
   "cell_type": "code",
   "execution_count": 64,
   "id": "f8b49943",
   "metadata": {},
   "outputs": [],
   "source": [
    "# Choose the right model and hyperparameters\n",
    "from sklearn.ensemble import RandomForestClassifier\n",
    "from sklearn.model_selection import RandomizedSearchCV, GridSearchCV\n",
    "random_forest_clf = RandomForestClassifier(n_jobs=-1, max_features= 'sqrt' , n_estimators=200, oob_score = True)\n",
    "\n",
    "# Fit the model to the training data\n",
    "random_forest_clf.fit(x_train, y_train)\n",
    "\n",
    "# Make a prediction\n",
    "y_preds_random_forest_clf = random_forest_clf.predict(x_test);"
   ]
  },
  {
   "cell_type": "code",
   "execution_count": 65,
   "id": "61a73430",
   "metadata": {},
   "outputs": [
    {
     "data": {
      "text/plain": [
       "(1.0, 0.9562043795620438)"
      ]
     },
     "execution_count": 65,
     "metadata": {},
     "output_type": "execute_result"
    }
   ],
   "source": [
    "# Evaluate the model on the training and test data\n",
    "random_forest_clf.score(x_train, y_train), random_forest_clf.score(x_test, y_test)"
   ]
  },
  {
   "cell_type": "code",
   "execution_count": 66,
   "id": "dc5d4bbb",
   "metadata": {},
   "outputs": [
    {
     "name": "stdout",
     "output_type": "stream",
     "text": [
      "{'max_features': 'sqrt', 'n_estimators': 200}\n"
     ]
    }
   ],
   "source": [
    "param_grid = { \n",
    "    'n_estimators': [200, 700],\n",
    "    'max_features': ['sqrt', 'log2']\n",
    "}\n",
    "\n",
    "CV_rfc = GridSearchCV(estimator=random_forest_clf, param_grid=param_grid, cv= 5);\n",
    "CV_rfc.fit(x_test, y_test);\n",
    "print(CV_rfc.best_params_)"
   ]
  },
  {
   "cell_type": "code",
   "execution_count": 67,
   "id": "b59cf285",
   "metadata": {},
   "outputs": [],
   "source": [
    "y_preds_random_forest_clf = CV_rfc.predict(x_test);"
   ]
  },
  {
   "cell_type": "code",
   "execution_count": 68,
   "id": "f7654496",
   "metadata": {},
   "outputs": [
    {
     "name": "stdout",
     "output_type": "stream",
     "text": [
      "f1 score : 1.0\n",
      "\n",
      "accuracy : 1.0\n",
      "\n",
      "Classification Report--\n",
      "               precision    recall  f1-score   support\n",
      "\n",
      "non-cancerous       1.00      1.00      1.00        79\n",
      "    cancerous       1.00      1.00      1.00        58\n",
      "\n",
      "     accuracy                           1.00       137\n",
      "    macro avg       1.00      1.00      1.00       137\n",
      " weighted avg       1.00      1.00      1.00       137\n",
      "\n",
      "\n",
      "Confussion matrix--\n",
      "[[79  0]\n",
      " [ 0 58]]\n"
     ]
    }
   ],
   "source": [
    "# Get the metrices\n",
    "metrics(y_test, y_preds_random_forest_clf)"
   ]
  },
  {
   "cell_type": "markdown",
   "id": "0wAreq80woad",
   "metadata": {
    "id": "0wAreq80woad"
   },
   "source": [
    "### 4. Logistic Regression"
   ]
  },
  {
   "cell_type": "code",
   "execution_count": 69,
   "id": "8f275be8",
   "metadata": {},
   "outputs": [],
   "source": [
    "from sklearn.linear_model import LogisticRegression\n",
    "log_reg = LogisticRegression()"
   ]
  },
  {
   "cell_type": "code",
   "execution_count": 70,
   "id": "4613edad",
   "metadata": {},
   "outputs": [
    {
     "data": {
      "text/html": [
       "<style>#sk-container-id-2 {color: black;background-color: white;}#sk-container-id-2 pre{padding: 0;}#sk-container-id-2 div.sk-toggleable {background-color: white;}#sk-container-id-2 label.sk-toggleable__label {cursor: pointer;display: block;width: 100%;margin-bottom: 0;padding: 0.3em;box-sizing: border-box;text-align: center;}#sk-container-id-2 label.sk-toggleable__label-arrow:before {content: \"▸\";float: left;margin-right: 0.25em;color: #696969;}#sk-container-id-2 label.sk-toggleable__label-arrow:hover:before {color: black;}#sk-container-id-2 div.sk-estimator:hover label.sk-toggleable__label-arrow:before {color: black;}#sk-container-id-2 div.sk-toggleable__content {max-height: 0;max-width: 0;overflow: hidden;text-align: left;background-color: #f0f8ff;}#sk-container-id-2 div.sk-toggleable__content pre {margin: 0.2em;color: black;border-radius: 0.25em;background-color: #f0f8ff;}#sk-container-id-2 input.sk-toggleable__control:checked~div.sk-toggleable__content {max-height: 200px;max-width: 100%;overflow: auto;}#sk-container-id-2 input.sk-toggleable__control:checked~label.sk-toggleable__label-arrow:before {content: \"▾\";}#sk-container-id-2 div.sk-estimator input.sk-toggleable__control:checked~label.sk-toggleable__label {background-color: #d4ebff;}#sk-container-id-2 div.sk-label input.sk-toggleable__control:checked~label.sk-toggleable__label {background-color: #d4ebff;}#sk-container-id-2 input.sk-hidden--visually {border: 0;clip: rect(1px 1px 1px 1px);clip: rect(1px, 1px, 1px, 1px);height: 1px;margin: -1px;overflow: hidden;padding: 0;position: absolute;width: 1px;}#sk-container-id-2 div.sk-estimator {font-family: monospace;background-color: #f0f8ff;border: 1px dotted black;border-radius: 0.25em;box-sizing: border-box;margin-bottom: 0.5em;}#sk-container-id-2 div.sk-estimator:hover {background-color: #d4ebff;}#sk-container-id-2 div.sk-parallel-item::after {content: \"\";width: 100%;border-bottom: 1px solid gray;flex-grow: 1;}#sk-container-id-2 div.sk-label:hover label.sk-toggleable__label {background-color: #d4ebff;}#sk-container-id-2 div.sk-serial::before {content: \"\";position: absolute;border-left: 1px solid gray;box-sizing: border-box;top: 0;bottom: 0;left: 50%;z-index: 0;}#sk-container-id-2 div.sk-serial {display: flex;flex-direction: column;align-items: center;background-color: white;padding-right: 0.2em;padding-left: 0.2em;position: relative;}#sk-container-id-2 div.sk-item {position: relative;z-index: 1;}#sk-container-id-2 div.sk-parallel {display: flex;align-items: stretch;justify-content: center;background-color: white;position: relative;}#sk-container-id-2 div.sk-item::before, #sk-container-id-2 div.sk-parallel-item::before {content: \"\";position: absolute;border-left: 1px solid gray;box-sizing: border-box;top: 0;bottom: 0;left: 50%;z-index: -1;}#sk-container-id-2 div.sk-parallel-item {display: flex;flex-direction: column;z-index: 1;position: relative;background-color: white;}#sk-container-id-2 div.sk-parallel-item:first-child::after {align-self: flex-end;width: 50%;}#sk-container-id-2 div.sk-parallel-item:last-child::after {align-self: flex-start;width: 50%;}#sk-container-id-2 div.sk-parallel-item:only-child::after {width: 0;}#sk-container-id-2 div.sk-dashed-wrapped {border: 1px dashed gray;margin: 0 0.4em 0.5em 0.4em;box-sizing: border-box;padding-bottom: 0.4em;background-color: white;}#sk-container-id-2 div.sk-label label {font-family: monospace;font-weight: bold;display: inline-block;line-height: 1.2em;}#sk-container-id-2 div.sk-label-container {text-align: center;}#sk-container-id-2 div.sk-container {/* jupyter's `normalize.less` sets `[hidden] { display: none; }` but bootstrap.min.css set `[hidden] { display: none !important; }` so we also need the `!important` here to be able to override the default hidden behavior on the sphinx rendered scikit-learn.org. See: https://github.com/scikit-learn/scikit-learn/issues/21755 */display: inline-block !important;position: relative;}#sk-container-id-2 div.sk-text-repr-fallback {display: none;}</style><div id=\"sk-container-id-2\" class=\"sk-top-container\"><div class=\"sk-text-repr-fallback\"><pre>LogisticRegression()</pre><b>In a Jupyter environment, please rerun this cell to show the HTML representation or trust the notebook. <br />On GitHub, the HTML representation is unable to render, please try loading this page with nbviewer.org.</b></div><div class=\"sk-container\" hidden><div class=\"sk-item\"><div class=\"sk-estimator sk-toggleable\"><input class=\"sk-toggleable__control sk-hidden--visually\" id=\"sk-estimator-id-2\" type=\"checkbox\" checked><label for=\"sk-estimator-id-2\" class=\"sk-toggleable__label sk-toggleable__label-arrow\">LogisticRegression</label><div class=\"sk-toggleable__content\"><pre>LogisticRegression()</pre></div></div></div></div></div>"
      ],
      "text/plain": [
       "LogisticRegression()"
      ]
     },
     "execution_count": 70,
     "metadata": {},
     "output_type": "execute_result"
    }
   ],
   "source": [
    "log_reg.fit(x_train,y_train)"
   ]
  },
  {
   "cell_type": "code",
   "execution_count": 71,
   "id": "67ee4d3f",
   "metadata": {},
   "outputs": [
    {
     "data": {
      "text/plain": [
       "0.8206023570493234"
      ]
     },
     "execution_count": 71,
     "metadata": {},
     "output_type": "execute_result"
    }
   ],
   "source": [
    "#Evaluating with default parameters\n",
    "from sklearn.metrics import r2_score\n",
    "r2_score(y_test,log_reg.predict(x_test))"
   ]
  },
  {
   "cell_type": "code",
   "execution_count": 72,
   "id": "e2995bed",
   "metadata": {},
   "outputs": [
    {
     "name": "stdout",
     "output_type": "stream",
     "text": [
      "{'C': 0.1, 'penalty': 'l2', 'solver': 'newton-cg'}\n"
     ]
    }
   ],
   "source": [
    "#finding the best parameters for accuracy\n",
    "param_grid_lr = { \n",
    "    'solver' : ['newton-cg', 'lbfgs', 'liblinear'],\n",
    "    'penalty' : ['l2'],\n",
    "    'C' : [100, 10, 1.0, 0.1, 0.01]\n",
    "}\n",
    "\n",
    "CV_lr = GridSearchCV(estimator=log_reg, param_grid=param_grid_lr, cv= 5);\n",
    "CV_lr.fit(x_test, y_test);\n",
    "print(CV_lr.best_params_)"
   ]
  },
  {
   "cell_type": "code",
   "execution_count": 73,
   "id": "2e87bdba",
   "metadata": {},
   "outputs": [],
   "source": [
    "y_preds_log_reg = CV_lr.predict(x_test);"
   ]
  },
  {
   "cell_type": "code",
   "execution_count": 74,
   "id": "e08527de",
   "metadata": {},
   "outputs": [
    {
     "name": "stdout",
     "output_type": "stream",
     "text": [
      "f1 score : 0.9827586206896551\n",
      "\n",
      "accuracy : 0.9854014598540146\n",
      "\n",
      "Classification Report--\n",
      "               precision    recall  f1-score   support\n",
      "\n",
      "non-cancerous       0.99      0.99      0.99        79\n",
      "    cancerous       0.98      0.98      0.98        58\n",
      "\n",
      "     accuracy                           0.99       137\n",
      "    macro avg       0.99      0.99      0.99       137\n",
      " weighted avg       0.99      0.99      0.99       137\n",
      "\n",
      "\n",
      "Confussion matrix--\n",
      "[[78  1]\n",
      " [ 1 57]]\n"
     ]
    }
   ],
   "source": [
    "metrics(y_test,y_preds_log_reg)"
   ]
  },
  {
   "cell_type": "markdown",
   "id": "Dim3uGy9x6pS",
   "metadata": {
    "id": "Dim3uGy9x6pS"
   },
   "source": [
    "### 5. K-Nearest Neighbour"
   ]
  },
  {
   "cell_type": "code",
   "execution_count": 75,
   "id": "7d8b972b",
   "metadata": {},
   "outputs": [],
   "source": [
    "#Applying Hyperparameter Tuning to find the best parameters\n",
    "from sklearn.model_selection import GridSearchCV\n",
    "from sklearn.neighbors import KNeighborsClassifier\n",
    "CV_knn_clf=GridSearchCV(KNeighborsClassifier(),{\n",
    "    'n_neighbors':[i for i in range(1,40)],\n",
    "    'weights':['uniform','distance'],\n",
    "    'algorithm':['auto','ball_tree','kd_tree','brute'],\n",
    "    'p':[1,2]\n",
    "},cv=30,return_train_score=False)\n",
    "CV_knn_clf.fit(x_train,y_train)\n",
    "CV_knn_clf.best_score_,CV_knn_clf.best_params_"
   ]
  },
  {
   "cell_type": "code",
   "execution_count": 76,
   "id": "cf5c8e37",
   "metadata": {},
   "outputs": [],
   "source": [
    "#Predicting and printing f1-score, accuracy and confusion matrix\n",
    "y_pred_knn=CV_knn_clf.predict(x_test)\n",
    "metrics(y_test,y_pred_knn)"
   ]
  },
  {
   "cell_type": "markdown",
   "id": "0482baf2",
   "metadata": {},
   "source": [
    "### 6. Feed-forward-neural-network"
   ]
  },
  {
   "cell_type": "markdown",
   "id": "cb8a5821",
   "metadata": {},
   "source": [
    "### Visualization of results"
   ]
  },
  {
   "cell_type": "code",
   "execution_count": 77,
   "id": "a6e53d98",
   "metadata": {},
   "outputs": [],
   "source": [
    "def cmatrix(y_test,y_pred):\n",
    "  cm=confusion_matrix(y_test,y_pred)\n",
    "  group_names=['True Neg','False Pos','False Neg','True Pos']\n",
    "  group_counts = [\"{0:0.0f}\".format(value) for value in\n",
    "                  cm.flatten()]\n",
    "  group_percentages = [\"{0:.2%}\".format(value) for value in\n",
    "                      cm.flatten()/np.sum(cm)]\n",
    "  labels = [f\"{v1}\\n{v2}\\n{v3}\" for v1, v2, v3 in\n",
    "            zip(group_names,group_counts,group_percentages)]\n",
    "  labels = np.asarray(labels).reshape(2,2)\n",
    "  categories = ['Zero', 'One']\n",
    "  accuracy  = np.trace(cm) / float(np.sum(cm))\n",
    "  precision = cm[1,1] / sum(cm[:,1])\n",
    "  recall    = cm[1,1] / sum(cm[1,:])\n",
    "  f1_score  = 2*precision*recall / (precision + recall)\n",
    "  stats_text = \"\\n\\n Accuracy={:0.3f}\\n Precision={:0.3f}\\n Recall={:0.3f}\\n F1 Score={:0.3f}\".format(accuracy,precision,recall,f1_score)\n",
    "  sns.heatmap(cm, xticklabels=categories,yticklabels=categories,annot=labels, fmt='', cmap='coolwarm')\n",
    "  plt.xlabel('Predicted label'+stats_text)\n",
    "  plt.ylabel('True label')\n",
    "  plt.show()"
   ]
  },
  {
   "cell_type": "code",
   "execution_count": 78,
   "id": "ca972c02",
   "metadata": {},
   "outputs": [
    {
     "data": {
      "image/png": "[encoded data removed]",
      "text/plain": [
       "<Figure size 432x288 with 2 Axes>"
      ]
     },
     "metadata": {
      "needs_background": "light"
     },
     "output_type": "display_data"
    }
   ],
   "source": [
    "cmatrix(y_test,y_preds_naive_bias)"
   ]
  },
  {
   "cell_type": "code",
   "execution_count": null,
   "id": "110cc322",
   "metadata": {},
   "outputs": [],
   "source": []
  }
 ],
 "metadata": {
  "colab": {
   "collapsed_sections": [
    "7008492c-9648-4a8d-81ec-33404ff684e3",
    "01b6b267-0515-4135-9bdc-fb1d1e622961",
    "70ce000f-dfbd-4de6-ae1b-04ffe9ed46c8",
    "2f10ff87-a172-45b3-bc6f-fae5bd5061df",
    "71a56074-0baa-4c48-bdb8-526377d6e82b",
    "e996e6cf-b8f8-4b78-892c-e1e23059bc25",
    "4dde51e6-7c85-4379-945d-3d518a265f33",
    "87eqgLlsjr04",
    "jQBH1bdRmgDT",
    "RztTOiF0sbgV",
    "HBW_v7J5ndjI",
    "0wAreq80woad",
    "Dim3uGy9x6pS",
    "6_qVizHnylij"
   ],
   "name": "Cancer_prediction.ipynb",
   "provenance": []
  },
  "gpuClass": "standard",
  "kernelspec": {
   "display_name": "Python 3.8.12 ('base')",
   "language": "python",
   "name": "python3"
  },
  "language_info": {
   "codemirror_mode": {
    "name": "ipython",
    "version": 3
   },
   "file_extension": ".py",
   "mimetype": "text/x-python",
   "name": "python",
   "nbconvert_exporter": "python",
   "pygments_lexer": "ipython3",
   "version": "3.8.12"
  },
  "vscode": {
   "interpreter": {
    "hash": "1a98dfdbf5f4dedf5e8d8f4bfd1359a63aa6179b015a1f011f140876f85c4cf3"
   }
  }
 },
 "nbformat": 4,
 "nbformat_minor": 5
}
