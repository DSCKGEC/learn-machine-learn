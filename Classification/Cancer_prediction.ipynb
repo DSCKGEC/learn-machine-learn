{
 "cells": [
  {
   "cell_type": "markdown",
   "id": "06b4bc87",
   "metadata": {
    "cell_id": "54ef5e44-a049-44a8-ab09-5133a5b2d350",
    "deepnote_cell_height": 120.390625,
    "deepnote_cell_type": "markdown",
    "id": "e9109d62-5d63-4920-a893-67bffd44ed23"
   },
   "source": [
    "# Cancer Prediction\n",
    "\n",
    "This notebook is a part of **Developer Student Clubs KGEC**.\n"
   ]
  },
  {
   "cell_type": "markdown",
   "id": "a7e1f15b",
   "metadata": {
    "cell_id": "00001-13577728-2a0f-4c79-a87e-2cbcbf768805",
    "deepnote_cell_height": 70,
    "deepnote_cell_type": "markdown",
    "id": "7008492c-9648-4a8d-81ec-33404ff684e3"
   },
   "source": [
    "## Module imports"
   ]
  },
  {
   "cell_type": "code",
   "execution_count": 1,
   "id": "1478ec97",
   "metadata": {
    "cell_id": "00002-6275c402-7453-4530-b748-e58aa5e47533",
    "deepnote_cell_height": 274,
    "deepnote_cell_type": "code",
    "deepnote_to_be_reexecuted": false,
    "execution_millis": 1137,
    "execution_start": 1659080386177,
    "id": "7b052a51-7fa2-441f-9c93-f4e0085b3fe4",
    "source_hash": "83de634a"
   },
   "outputs": [],
   "source": [
    "import pandas as pd\n",
    "import numpy as np\n",
    "\n",
    "# Data visualization libraries\n",
    "import seaborn as sns\n",
    "import matplotlib.pyplot as plt\n",
    "\n",
    "# Scikit-Learn\n",
    "from sklearn.model_selection import train_test_split\n",
    "\n",
    "# Evaluation metrics\n",
    "from sklearn.metrics import accuracy_score,classification_report,confusion_matrix"
   ]
  },
  {
   "cell_type": "markdown",
   "id": "f58d0c70",
   "metadata": {
    "cell_id": "00003-d8dd48aa-1ce7-46ac-a6c1-6998037995d3",
    "deepnote_cell_height": 70,
    "deepnote_cell_type": "markdown",
    "id": "01b6b267-0515-4135-9bdc-fb1d1e622961"
   },
   "source": [
    "## Importing dataset"
   ]
  },
  {
   "cell_type": "markdown",
   "id": "27580472",
   "metadata": {
    "cell_id": "00004-a7d707ce-7e39-4b05-bd48-a0e2be7a6a54",
    "deepnote_cell_height": 52.390625,
    "deepnote_cell_type": "markdown",
    "id": "WGvtYUVDu01n"
   },
   "source": [
    "`Please upload the dataset in zip format direclty in google colab(not through google drive)`"
   ]
  },
  {
   "cell_type": "code",
   "execution_count": null,
   "id": "265a3908",
   "metadata": {
    "cell_id": "00005-9552bf23-e10c-4616-96cd-8f3cbe29dccf",
    "colab": {
     "base_uri": "https://localhost:8080/"
    },
    "deepnote_cell_height": 76,
    "deepnote_cell_type": "code",
    "deepnote_to_be_reexecuted": false,
    "execution_millis": 3,
    "execution_start": 1659080387318,
    "id": "f2u7NMUji1uo",
    "outputId": "2c03f61a-0977-441c-f114-1821053e4c34",
    "source_hash": "5fb2beda"
   },
   "outputs": [],
   "source": [
    "!unzip /content/cancer_data.csv.zip"
   ]
  },
  {
   "cell_type": "code",
   "execution_count": null,
   "id": "175247f8",
   "metadata": {
    "cell_id": "00006-0b1cd47f-4cb2-4ccd-926a-7cc76da9d1cd",
    "deepnote_cell_height": 94,
    "deepnote_cell_type": "code",
    "deepnote_to_be_reexecuted": false,
    "execution_millis": 5,
    "execution_start": 1659080387325,
    "id": "2e34f4d0-20ad-4f8c-a5e8-36b88065479d",
    "source_hash": "4110fbcb"
   },
   "outputs": [],
   "source": [
    "DATASET_PATH = 'Datasets/cancer_data.csv'\n",
    "cancer_data = pd.read_csv('cancer_data.csv')"
   ]
  },
  {
   "cell_type": "markdown",
   "id": "9506a295",
   "metadata": {
    "cell_id": "00007-a148ec88-d55c-4732-82ed-ce3711611d78",
    "deepnote_cell_height": 70,
    "deepnote_cell_type": "markdown",
    "id": "70ce000f-dfbd-4de6-ae1b-04ffe9ed46c8"
   },
   "source": [
    "## Exploratory Data Analysis"
   ]
  },
  {
   "cell_type": "code",
   "execution_count": 4,
   "id": "19cf00f4",
   "metadata": {
    "cell_id": "00008-2d7afc19-9edb-4abe-a206-6ae5d4d75fa6",
    "colab": {
     "base_uri": "https://localhost:8080/"
    },
    "deepnote_cell_height": 113.171875,
    "deepnote_cell_type": "code",
    "deepnote_output_heights": [
     21.1875
    ],
    "deepnote_to_be_reexecuted": false,
    "execution_millis": 4,
    "execution_start": 1659080387339,
    "id": "dd944250-abbf-4468-8f19-34e3999c4f82",
    "outputId": "4d917903-e698-41ba-be52-7752b86a341b",
    "source_hash": "7e04af3e"
   },
   "outputs": [
    {
     "data": {
      "text/plain": [
       "(683, 11)"
      ]
     },
     "execution_count": 4,
     "metadata": {},
     "output_type": "execute_result"
    }
   ],
   "source": [
    "cancer_data.shape"
   ]
  },
  {
   "cell_type": "code",
   "execution_count": 5,
   "id": "147063d3",
   "metadata": {
    "cell_id": "00009-4e13af7a-f978-4bf5-a4e0-818d8989cc7f",
    "colab": {
     "base_uri": "https://localhost:8080/"
    },
    "deepnote_cell_height": 342.296875,
    "deepnote_cell_type": "code",
    "deepnote_output_heights": [
     232.3125
    ],
    "deepnote_to_be_reexecuted": false,
    "execution_millis": 42,
    "execution_start": 1659080387348,
    "id": "9d3e7d53-848b-47a2-b2ef-da8cdcd38697",
    "outputId": "0b4309cc-6a20-4f03-8dc6-e5ebb7fd254d",
    "source_hash": "8d21359e"
   },
   "outputs": [
    {
     "data": {
      "text/plain": [
       "Sample code number             0\n",
       "Clump Thickness                0\n",
       "Uniformity of Cell Size        0\n",
       "Uniformity of Cell Shape       0\n",
       "Marginal Adhesion              0\n",
       "Single Epithelial Cell Size    0\n",
       "Bare Nuclei                    0\n",
       "Bland Chromatin                0\n",
       "Normal Nucleoli                0\n",
       "Mitoses                        0\n",
       "Class                          0\n",
       "dtype: int64"
      ]
     },
     "execution_count": 5,
     "metadata": {},
     "output_type": "execute_result"
    }
   ],
   "source": [
    "## Checking for null values\n",
    "cancer_data.isnull().sum()"
   ]
  },
  {
   "cell_type": "code",
   "execution_count": 6,
   "id": "8171f6b6",
   "metadata": {
    "cell_id": "00010-a684758d-7d00-49d8-b53e-b1e6c66afed7",
    "colab": {
     "base_uri": "https://localhost:8080/"
    },
    "deepnote_cell_height": 190,
    "deepnote_cell_type": "code",
    "deepnote_output_heights": [
     97.953125
    ],
    "deepnote_to_be_reexecuted": false,
    "execution_millis": 5,
    "execution_start": 1659080387386,
    "id": "3488d2b3-f069-40d5-bc96-2d788a21419e",
    "outputId": "526df08d-10cb-4f29-f2a0-efe93ad2017f",
    "source_hash": "34126874"
   },
   "outputs": [
    {
     "data": {
      "text/plain": [
       "Index(['Sample code number', 'Clump Thickness', 'Uniformity of Cell Size',\n",
       "       'Uniformity of Cell Shape', 'Marginal Adhesion',\n",
       "       'Single Epithelial Cell Size', 'Bare Nuclei', 'Bland Chromatin',\n",
       "       'Normal Nucleoli', 'Mitoses', 'Class'],\n",
       "      dtype='object')"
      ]
     },
     "execution_count": 6,
     "metadata": {},
     "output_type": "execute_result"
    }
   ],
   "source": [
    "cancer_data.columns"
   ]
  },
  {
   "cell_type": "code",
   "execution_count": 7,
   "id": "85e21e66",
   "metadata": {
    "cell_id": "00011-c16da1d1-5443-416c-94e8-a46af76622e3",
    "colab": {
     "base_uri": "https://localhost:8080/",
     "height": 301
    },
    "deepnote_cell_height": 405.265625,
    "deepnote_cell_type": "code",
    "deepnote_output_heights": [
     177
    ],
    "deepnote_to_be_reexecuted": false,
    "execution_millis": 16,
    "execution_start": 1659080387387,
    "id": "46c74d9d-96f0-4ba7-b9b4-4989d4543610",
    "outputId": "35aec0d3-8d78-49a5-f047-138d67f8aba6",
    "source_hash": "b6e8933c"
   },
   "outputs": [
    {
     "data": {
      "application/vnd.deepnote.dataframe.v3+json": {
       "column_count": 11,
       "columns": [
        {
         "dtype": "int64",
         "name": "Sample code number",
         "stats": {
          "histogram": [
           {
            "bin_end": 1001724.8,
            "bin_start": 1000025,
            "count": 1
           },
           {
            "bin_end": 1003424.6,
            "bin_start": 1001724.8,
            "count": 1
           },
           {
            "bin_end": 1005124.4,
            "bin_start": 1003424.6,
            "count": 0
           },
           {
            "bin_end": 1006824.2,
            "bin_start": 1005124.4,
            "count": 0
           },
           {
            "bin_end": 1008524,
            "bin_start": 1006824.2,
            "count": 0
           },
           {
            "bin_end": 1010223.8,
            "bin_start": 1008524,
            "count": 0
           },
           {
            "bin_end": 1011923.6,
            "bin_start": 1010223.8,
            "count": 0
           },
           {
            "bin_end": 1013623.4,
            "bin_start": 1011923.6,
            "count": 0
           },
           {
            "bin_end": 1015323.2,
            "bin_start": 1013623.4,
            "count": 0
           },
           {
            "bin_end": 1017023,
            "bin_start": 1015323.2,
            "count": 3
           }
          ],
          "max": "1017023",
          "min": "1000025",
          "nan_count": 0,
          "unique_count": 5
         }
        },
        {
         "dtype": "int64",
         "name": "Clump Thickness",
         "stats": {
          "histogram": [
           {
            "bin_end": 3.3,
            "bin_start": 3,
            "count": 1
           },
           {
            "bin_end": 3.6,
            "bin_start": 3.3,
            "count": 0
           },
           {
            "bin_end": 3.9,
            "bin_start": 3.6,
            "count": 0
           },
           {
            "bin_end": 4.2,
            "bin_start": 3.9,
            "count": 1
           },
           {
            "bin_end": 4.5,
            "bin_start": 4.2,
            "count": 0
           },
           {
            "bin_end": 4.8,
            "bin_start": 4.5,
            "count": 0
           },
           {
            "bin_end": 5.1,
            "bin_start": 4.8,
            "count": 2
           },
           {
            "bin_end": 5.4,
            "bin_start": 5.1,
            "count": 0
           },
           {
            "bin_end": 5.699999999999999,
            "bin_start": 5.4,
            "count": 0
           },
           {
            "bin_end": 6,
            "bin_start": 5.699999999999999,
            "count": 1
           }
          ],
          "max": "6",
          "min": "3",
          "nan_count": 0,
          "unique_count": 4
         }
        },
        {
         "dtype": "int64",
         "name": "Uniformity of Cell Size",
         "stats": {
          "histogram": [
           {
            "bin_end": 1.7,
            "bin_start": 1,
            "count": 3
           },
           {
            "bin_end": 2.4,
            "bin_start": 1.7,
            "count": 0
           },
           {
            "bin_end": 3.0999999999999996,
            "bin_start": 2.4,
            "count": 0
           },
           {
            "bin_end": 3.8,
            "bin_start": 3.0999999999999996,
            "count": 0
           },
           {
            "bin_end": 4.5,
            "bin_start": 3.8,
            "count": 1
           },
           {
            "bin_end": 5.199999999999999,
            "bin_start": 4.5,
            "count": 0
           },
           {
            "bin_end": 5.8999999999999995,
            "bin_start": 5.199999999999999,
            "count": 0
           },
           {
            "bin_end": 6.6,
            "bin_start": 5.8999999999999995,
            "count": 0
           },
           {
            "bin_end": 7.3,
            "bin_start": 6.6,
            "count": 0
           },
           {
            "bin_end": 8,
            "bin_start": 7.3,
            "count": 1
           }
          ],
          "max": "8",
          "min": "1",
          "nan_count": 0,
          "unique_count": 3
         }
        },
        {
         "dtype": "int64",
         "name": "Uniformity of Cell Shape",
         "stats": {
          "histogram": [
           {
            "bin_end": 1.7,
            "bin_start": 1,
            "count": 3
           },
           {
            "bin_end": 2.4,
            "bin_start": 1.7,
            "count": 0
           },
           {
            "bin_end": 3.0999999999999996,
            "bin_start": 2.4,
            "count": 0
           },
           {
            "bin_end": 3.8,
            "bin_start": 3.0999999999999996,
            "count": 0
           },
           {
            "bin_end": 4.5,
            "bin_start": 3.8,
            "count": 1
           },
           {
            "bin_end": 5.199999999999999,
            "bin_start": 4.5,
            "count": 0
           },
           {
            "bin_end": 5.8999999999999995,
            "bin_start": 5.199999999999999,
            "count": 0
           },
           {
            "bin_end": 6.6,
            "bin_start": 5.8999999999999995,
            "count": 0
           },
           {
            "bin_end": 7.3,
            "bin_start": 6.6,
            "count": 0
           },
           {
            "bin_end": 8,
            "bin_start": 7.3,
            "count": 1
           }
          ],
          "max": "8",
          "min": "1",
          "nan_count": 0,
          "unique_count": 3
         }
        },
        {
         "dtype": "int64",
         "name": "Marginal Adhesion",
         "stats": {
          "histogram": [
           {
            "bin_end": 1.4,
            "bin_start": 1,
            "count": 3
           },
           {
            "bin_end": 1.8,
            "bin_start": 1.4,
            "count": 0
           },
           {
            "bin_end": 2.2,
            "bin_start": 1.8,
            "count": 0
           },
           {
            "bin_end": 2.6,
            "bin_start": 2.2,
            "count": 0
           },
           {
            "bin_end": 3,
            "bin_start": 2.6,
            "count": 0
           },
           {
            "bin_end": 3.4000000000000004,
            "bin_start": 3,
            "count": 1
           },
           {
            "bin_end": 3.8000000000000003,
            "bin_start": 3.4000000000000004,
            "count": 0
           },
           {
            "bin_end": 4.2,
            "bin_start": 3.8000000000000003,
            "count": 0
           },
           {
            "bin_end": 4.6,
            "bin_start": 4.2,
            "count": 0
           },
           {
            "bin_end": 5,
            "bin_start": 4.6,
            "count": 1
           }
          ],
          "max": "5",
          "min": "1",
          "nan_count": 0,
          "unique_count": 3
         }
        },
        {
         "dtype": "int64",
         "name": "Single Epithelial Cell Size",
         "stats": {
          "histogram": [
           {
            "bin_end": 2.5,
            "bin_start": 2,
            "count": 3
           },
           {
            "bin_end": 3,
            "bin_start": 2.5,
            "count": 0
           },
           {
            "bin_end": 3.5,
            "bin_start": 3,
            "count": 1
           },
           {
            "bin_end": 4,
            "bin_start": 3.5,
            "count": 0
           },
           {
            "bin_end": 4.5,
            "bin_start": 4,
            "count": 0
           },
           {
            "bin_end": 5,
            "bin_start": 4.5,
            "count": 0
           },
           {
            "bin_end": 5.5,
            "bin_start": 5,
            "count": 0
           },
           {
            "bin_end": 6,
            "bin_start": 5.5,
            "count": 0
           },
           {
            "bin_end": 6.5,
            "bin_start": 6,
            "count": 0
           },
           {
            "bin_end": 7,
            "bin_start": 6.5,
            "count": 1
           }
          ],
          "max": "7",
          "min": "2",
          "nan_count": 0,
          "unique_count": 3
         }
        },
        {
         "dtype": "int64",
         "name": "Bare Nuclei",
         "stats": {
          "histogram": [
           {
            "bin_end": 1.9,
            "bin_start": 1,
            "count": 2
           },
           {
            "bin_end": 2.8,
            "bin_start": 1.9,
            "count": 1
           },
           {
            "bin_end": 3.7,
            "bin_start": 2.8,
            "count": 0
           },
           {
            "bin_end": 4.6,
            "bin_start": 3.7,
            "count": 1
           },
           {
            "bin_end": 5.5,
            "bin_start": 4.6,
            "count": 0
           },
           {
            "bin_end": 6.4,
            "bin_start": 5.5,
            "count": 0
           },
           {
            "bin_end": 7.3,
            "bin_start": 6.4,
            "count": 0
           },
           {
            "bin_end": 8.2,
            "bin_start": 7.3,
            "count": 0
           },
           {
            "bin_end": 9.1,
            "bin_start": 8.2,
            "count": 0
           },
           {
            "bin_end": 10,
            "bin_start": 9.1,
            "count": 1
           }
          ],
          "max": "10",
          "min": "1",
          "nan_count": 0,
          "unique_count": 4
         }
        },
        {
         "dtype": "int64",
         "name": "Bland Chromatin",
         "stats": {
          "histogram": [
           {
            "bin_end": 2.6,
            "bin_start": 2.5,
            "count": 0
           },
           {
            "bin_end": 2.7,
            "bin_start": 2.6,
            "count": 0
           },
           {
            "bin_end": 2.8,
            "bin_start": 2.7,
            "count": 0
           },
           {
            "bin_end": 2.9,
            "bin_start": 2.8,
            "count": 0
           },
           {
            "bin_end": 3,
            "bin_start": 2.9,
            "count": 0
           },
           {
            "bin_end": 3.1,
            "bin_start": 3,
            "count": 5
           },
           {
            "bin_end": 3.2,
            "bin_start": 3.1,
            "count": 0
           },
           {
            "bin_end": 3.3,
            "bin_start": 3.2,
            "count": 0
           },
           {
            "bin_end": 3.4,
            "bin_start": 3.3,
            "count": 0
           },
           {
            "bin_end": 3.5,
            "bin_start": 3.4,
            "count": 0
           }
          ],
          "max": "3",
          "min": "3",
          "nan_count": 0,
          "unique_count": 1
         }
        },
        {
         "dtype": "int64",
         "name": "Normal Nucleoli",
         "stats": {
          "histogram": [
           {
            "bin_end": 1.6,
            "bin_start": 1,
            "count": 3
           },
           {
            "bin_end": 2.2,
            "bin_start": 1.6,
            "count": 1
           },
           {
            "bin_end": 2.8,
            "bin_start": 2.2,
            "count": 0
           },
           {
            "bin_end": 3.4,
            "bin_start": 2.8,
            "count": 0
           },
           {
            "bin_end": 4,
            "bin_start": 3.4,
            "count": 0
           },
           {
            "bin_end": 4.6,
            "bin_start": 4,
            "count": 0
           },
           {
            "bin_end": 5.2,
            "bin_start": 4.6,
            "count": 0
           },
           {
            "bin_end": 5.8,
            "bin_start": 5.2,
            "count": 0
           },
           {
            "bin_end": 6.3999999999999995,
            "bin_start": 5.8,
            "count": 0
           },
           {
            "bin_end": 7,
            "bin_start": 6.3999999999999995,
            "count": 1
           }
          ],
          "max": "7",
          "min": "1",
          "nan_count": 0,
          "unique_count": 3
         }
        },
        {
         "dtype": "int64",
         "name": "Mitoses",
         "stats": {
          "histogram": [
           {
            "bin_end": 0.6,
            "bin_start": 0.5,
            "count": 0
           },
           {
            "bin_end": 0.7,
            "bin_start": 0.6,
            "count": 0
           },
           {
            "bin_end": 0.8,
            "bin_start": 0.7,
            "count": 0
           },
           {
            "bin_end": 0.9,
            "bin_start": 0.8,
            "count": 0
           },
           {
            "bin_end": 1,
            "bin_start": 0.9,
            "count": 0
           },
           {
            "bin_end": 1.1,
            "bin_start": 1,
            "count": 5
           },
           {
            "bin_end": 1.2000000000000002,
            "bin_start": 1.1,
            "count": 0
           },
           {
            "bin_end": 1.3,
            "bin_start": 1.2000000000000002,
            "count": 0
           },
           {
            "bin_end": 1.4,
            "bin_start": 1.3,
            "count": 0
           },
           {
            "bin_end": 1.5,
            "bin_start": 1.4,
            "count": 0
           }
          ],
          "max": "1",
          "min": "1",
          "nan_count": 0,
          "unique_count": 1
         }
        },
        {
         "dtype": "int64",
         "name": "Class",
         "stats": {
          "histogram": [
           {
            "bin_end": 1.6,
            "bin_start": 1.5,
            "count": 0
           },
           {
            "bin_end": 1.7,
            "bin_start": 1.6,
            "count": 0
           },
           {
            "bin_end": 1.8,
            "bin_start": 1.7,
            "count": 0
           },
           {
            "bin_end": 1.9,
            "bin_start": 1.8,
            "count": 0
           },
           {
            "bin_end": 2,
            "bin_start": 1.9,
            "count": 0
           },
           {
            "bin_end": 2.1,
            "bin_start": 2,
            "count": 5
           },
           {
            "bin_end": 2.2,
            "bin_start": 2.1,
            "count": 0
           },
           {
            "bin_end": 2.3,
            "bin_start": 2.2,
            "count": 0
           },
           {
            "bin_end": 2.4,
            "bin_start": 2.3,
            "count": 0
           },
           {
            "bin_end": 2.5,
            "bin_start": 2.4,
            "count": 0
           }
          ],
          "max": "2",
          "min": "2",
          "nan_count": 0,
          "unique_count": 1
         }
        },
        {
         "dtype": "int64",
         "name": "_deepnote_index_column"
        }
       ],
       "row_count": 5,
       "rows": [
        {
         "Bare Nuclei": 1,
         "Bland Chromatin": 3,
         "Class": 2,
         "Clump Thickness": 5,
         "Marginal Adhesion": 1,
         "Mitoses": 1,
         "Normal Nucleoli": 1,
         "Sample code number": 1000025,
         "Single Epithelial Cell Size": 2,
         "Uniformity of Cell Shape": 1,
         "Uniformity of Cell Size": 1,
         "_deepnote_index_column": 0
        },
        {
         "Bare Nuclei": 10,
         "Bland Chromatin": 3,
         "Class": 2,
         "Clump Thickness": 5,
         "Marginal Adhesion": 5,
         "Mitoses": 1,
         "Normal Nucleoli": 2,
         "Sample code number": 1002945,
         "Single Epithelial Cell Size": 7,
         "Uniformity of Cell Shape": 4,
         "Uniformity of Cell Size": 4,
         "_deepnote_index_column": 1
        },
        {
         "Bare Nuclei": 2,
         "Bland Chromatin": 3,
         "Class": 2,
         "Clump Thickness": 3,
         "Marginal Adhesion": 1,
         "Mitoses": 1,
         "Normal Nucleoli": 1,
         "Sample code number": 1015425,
         "Single Epithelial Cell Size": 2,
         "Uniformity of Cell Shape": 1,
         "Uniformity of Cell Size": 1,
         "_deepnote_index_column": 2
        },
        {
         "Bare Nuclei": 4,
         "Bland Chromatin": 3,
         "Class": 2,
         "Clump Thickness": 6,
         "Marginal Adhesion": 1,
         "Mitoses": 1,
         "Normal Nucleoli": 7,
         "Sample code number": 1016277,
         "Single Epithelial Cell Size": 3,
         "Uniformity of Cell Shape": 8,
         "Uniformity of Cell Size": 8,
         "_deepnote_index_column": 3
        },
        {
         "Bare Nuclei": 1,
         "Bland Chromatin": 3,
         "Class": 2,
         "Clump Thickness": 4,
         "Marginal Adhesion": 3,
         "Mitoses": 1,
         "Normal Nucleoli": 1,
         "Sample code number": 1017023,
         "Single Epithelial Cell Size": 2,
         "Uniformity of Cell Shape": 1,
         "Uniformity of Cell Size": 1,
         "_deepnote_index_column": 4
        }
       ]
      },
      "text/html": [
       "<div>\n",
       "<style scoped>\n",
       "    .dataframe tbody tr th:only-of-type {\n",
       "        vertical-align: middle;\n",
       "    }\n",
       "\n",
       "    .dataframe tbody tr th {\n",
       "        vertical-align: top;\n",
       "    }\n",
       "\n",
       "    .dataframe thead th {\n",
       "        text-align: right;\n",
       "    }\n",
       "</style>\n",
       "<table border=\"1\" class=\"dataframe\">\n",
       "  <thead>\n",
       "    <tr style=\"text-align: right;\">\n",
       "      <th></th>\n",
       "      <th>Sample code number</th>\n",
       "      <th>Clump Thickness</th>\n",
       "      <th>Uniformity of Cell Size</th>\n",
       "      <th>Uniformity of Cell Shape</th>\n",
       "      <th>Marginal Adhesion</th>\n",
       "      <th>Single Epithelial Cell Size</th>\n",
       "      <th>Bare Nuclei</th>\n",
       "      <th>Bland Chromatin</th>\n",
       "      <th>Normal Nucleoli</th>\n",
       "      <th>Mitoses</th>\n",
       "      <th>Class</th>\n",
       "    </tr>\n",
       "  </thead>\n",
       "  <tbody>\n",
       "    <tr>\n",
       "      <th>0</th>\n",
       "      <td>1000025</td>\n",
       "      <td>5</td>\n",
       "      <td>1</td>\n",
       "      <td>1</td>\n",
       "      <td>1</td>\n",
       "      <td>2</td>\n",
       "      <td>1</td>\n",
       "      <td>3</td>\n",
       "      <td>1</td>\n",
       "      <td>1</td>\n",
       "      <td>2</td>\n",
       "    </tr>\n",
       "    <tr>\n",
       "      <th>1</th>\n",
       "      <td>1002945</td>\n",
       "      <td>5</td>\n",
       "      <td>4</td>\n",
       "      <td>4</td>\n",
       "      <td>5</td>\n",
       "      <td>7</td>\n",
       "      <td>10</td>\n",
       "      <td>3</td>\n",
       "      <td>2</td>\n",
       "      <td>1</td>\n",
       "      <td>2</td>\n",
       "    </tr>\n",
       "    <tr>\n",
       "      <th>2</th>\n",
       "      <td>1015425</td>\n",
       "      <td>3</td>\n",
       "      <td>1</td>\n",
       "      <td>1</td>\n",
       "      <td>1</td>\n",
       "      <td>2</td>\n",
       "      <td>2</td>\n",
       "      <td>3</td>\n",
       "      <td>1</td>\n",
       "      <td>1</td>\n",
       "      <td>2</td>\n",
       "    </tr>\n",
       "    <tr>\n",
       "      <th>3</th>\n",
       "      <td>1016277</td>\n",
       "      <td>6</td>\n",
       "      <td>8</td>\n",
       "      <td>8</td>\n",
       "      <td>1</td>\n",
       "      <td>3</td>\n",
       "      <td>4</td>\n",
       "      <td>3</td>\n",
       "      <td>7</td>\n",
       "      <td>1</td>\n",
       "      <td>2</td>\n",
       "    </tr>\n",
       "    <tr>\n",
       "      <th>4</th>\n",
       "      <td>1017023</td>\n",
       "      <td>4</td>\n",
       "      <td>1</td>\n",
       "      <td>1</td>\n",
       "      <td>3</td>\n",
       "      <td>2</td>\n",
       "      <td>1</td>\n",
       "      <td>3</td>\n",
       "      <td>1</td>\n",
       "      <td>1</td>\n",
       "      <td>2</td>\n",
       "    </tr>\n",
       "  </tbody>\n",
       "</table>\n",
       "</div>"
      ],
      "text/plain": [
       "   Sample code number  Clump Thickness  Uniformity of Cell Size  \\\n",
       "0             1000025                5                        1   \n",
       "1             1002945                5                        4   \n",
       "2             1015425                3                        1   \n",
       "3             1016277                6                        8   \n",
       "4             1017023                4                        1   \n",
       "\n",
       "   Uniformity of Cell Shape  Marginal Adhesion  Single Epithelial Cell Size  \\\n",
       "0                         1                  1                            2   \n",
       "1                         4                  5                            7   \n",
       "2                         1                  1                            2   \n",
       "3                         8                  1                            3   \n",
       "4                         1                  3                            2   \n",
       "\n",
       "   Bare Nuclei  Bland Chromatin  Normal Nucleoli  Mitoses  Class  \n",
       "0            1                3                1        1      2  \n",
       "1           10                3                2        1      2  \n",
       "2            2                3                1        1      2  \n",
       "3            4                3                7        1      2  \n",
       "4            1                3                1        1      2  "
      ]
     },
     "execution_count": 7,
     "metadata": {},
     "output_type": "execute_result"
    }
   ],
   "source": [
    "cancer_data.head()"
   ]
  },
  {
   "cell_type": "code",
   "execution_count": 8,
   "id": "c169d99a",
   "metadata": {
    "cell_id": "00012-9b26c822-8a90-4be4-b6e5-bd159d3b625c",
    "deepnote_cell_height": 405.265625,
    "deepnote_cell_type": "code",
    "deepnote_output_heights": [
     177
    ],
    "deepnote_to_be_reexecuted": false,
    "execution_millis": 15,
    "execution_start": 1659080387408,
    "source_hash": "2f5fbec2"
   },
   "outputs": [
    {
     "data": {
      "application/vnd.deepnote.dataframe.v3+json": {
       "column_count": 11,
       "columns": [
        {
         "dtype": "int64",
         "name": "Sample code number",
         "stats": {
          "histogram": [
           {
            "bin_end": 788790.6,
            "bin_start": 776715,
            "count": 1
           },
           {
            "bin_end": 800866.2,
            "bin_start": 788790.6,
            "count": 0
           },
           {
            "bin_end": 812941.8,
            "bin_start": 800866.2,
            "count": 0
           },
           {
            "bin_end": 825017.4,
            "bin_start": 812941.8,
            "count": 0
           },
           {
            "bin_end": 837093,
            "bin_start": 825017.4,
            "count": 0
           },
           {
            "bin_end": 849168.6,
            "bin_start": 837093,
            "count": 1
           },
           {
            "bin_end": 861244.2,
            "bin_start": 849168.6,
            "count": 0
           },
           {
            "bin_end": 873319.8,
            "bin_start": 861244.2,
            "count": 0
           },
           {
            "bin_end": 885395.4,
            "bin_start": 873319.8,
            "count": 0
           },
           {
            "bin_end": 897471,
            "bin_start": 885395.4,
            "count": 3
           }
          ],
          "max": "897471",
          "min": "776715",
          "nan_count": 0,
          "unique_count": 4
         }
        },
        {
         "dtype": "int64",
         "name": "Clump Thickness",
         "stats": {
          "histogram": [
           {
            "bin_end": 2.3,
            "bin_start": 2,
            "count": 1
           },
           {
            "bin_end": 2.6,
            "bin_start": 2.3,
            "count": 0
           },
           {
            "bin_end": 2.9,
            "bin_start": 2.6,
            "count": 0
           },
           {
            "bin_end": 3.2,
            "bin_start": 2.9,
            "count": 1
           },
           {
            "bin_end": 3.5,
            "bin_start": 3.2,
            "count": 0
           },
           {
            "bin_end": 3.8,
            "bin_start": 3.5,
            "count": 0
           },
           {
            "bin_end": 4.1,
            "bin_start": 3.8,
            "count": 2
           },
           {
            "bin_end": 4.4,
            "bin_start": 4.1,
            "count": 0
           },
           {
            "bin_end": 4.699999999999999,
            "bin_start": 4.4,
            "count": 0
           },
           {
            "bin_end": 5,
            "bin_start": 4.699999999999999,
            "count": 1
           }
          ],
          "max": "5",
          "min": "2",
          "nan_count": 0,
          "unique_count": 4
         }
        },
        {
         "dtype": "int64",
         "name": "Uniformity of Cell Size",
         "stats": {
          "histogram": [
           {
            "bin_end": 1.9,
            "bin_start": 1,
            "count": 2
           },
           {
            "bin_end": 2.8,
            "bin_start": 1.9,
            "count": 0
           },
           {
            "bin_end": 3.7,
            "bin_start": 2.8,
            "count": 0
           },
           {
            "bin_end": 4.6,
            "bin_start": 3.7,
            "count": 0
           },
           {
            "bin_end": 5.5,
            "bin_start": 4.6,
            "count": 0
           },
           {
            "bin_end": 6.4,
            "bin_start": 5.5,
            "count": 0
           },
           {
            "bin_end": 7.3,
            "bin_start": 6.4,
            "count": 0
           },
           {
            "bin_end": 8.2,
            "bin_start": 7.3,
            "count": 2
           },
           {
            "bin_end": 9.1,
            "bin_start": 8.2,
            "count": 0
           },
           {
            "bin_end": 10,
            "bin_start": 9.1,
            "count": 1
           }
          ],
          "max": "10",
          "min": "1",
          "nan_count": 0,
          "unique_count": 3
         }
        },
        {
         "dtype": "int64",
         "name": "Uniformity of Cell Shape",
         "stats": {
          "histogram": [
           {
            "bin_end": 1.9,
            "bin_start": 1,
            "count": 2
           },
           {
            "bin_end": 2.8,
            "bin_start": 1.9,
            "count": 0
           },
           {
            "bin_end": 3.7,
            "bin_start": 2.8,
            "count": 0
           },
           {
            "bin_end": 4.6,
            "bin_start": 3.7,
            "count": 0
           },
           {
            "bin_end": 5.5,
            "bin_start": 4.6,
            "count": 0
           },
           {
            "bin_end": 6.4,
            "bin_start": 5.5,
            "count": 1
           },
           {
            "bin_end": 7.3,
            "bin_start": 6.4,
            "count": 0
           },
           {
            "bin_end": 8.2,
            "bin_start": 7.3,
            "count": 1
           },
           {
            "bin_end": 9.1,
            "bin_start": 8.2,
            "count": 0
           },
           {
            "bin_end": 10,
            "bin_start": 9.1,
            "count": 1
           }
          ],
          "max": "10",
          "min": "1",
          "nan_count": 0,
          "unique_count": 4
         }
        },
        {
         "dtype": "int64",
         "name": "Marginal Adhesion",
         "stats": {
          "histogram": [
           {
            "bin_end": 1.4,
            "bin_start": 1,
            "count": 2
           },
           {
            "bin_end": 1.8,
            "bin_start": 1.4,
            "count": 0
           },
           {
            "bin_end": 2.2,
            "bin_start": 1.8,
            "count": 0
           },
           {
            "bin_end": 2.6,
            "bin_start": 2.2,
            "count": 0
           },
           {
            "bin_end": 3,
            "bin_start": 2.6,
            "count": 0
           },
           {
            "bin_end": 3.4000000000000004,
            "bin_start": 3,
            "count": 1
           },
           {
            "bin_end": 3.8000000000000003,
            "bin_start": 3.4000000000000004,
            "count": 0
           },
           {
            "bin_end": 4.2,
            "bin_start": 3.8000000000000003,
            "count": 1
           },
           {
            "bin_end": 4.6,
            "bin_start": 4.2,
            "count": 0
           },
           {
            "bin_end": 5,
            "bin_start": 4.6,
            "count": 1
           }
          ],
          "max": "5",
          "min": "1",
          "nan_count": 0,
          "unique_count": 4
         }
        },
        {
         "dtype": "int64",
         "name": "Single Epithelial Cell Size",
         "stats": {
          "histogram": [
           {
            "bin_end": 2.5,
            "bin_start": 2,
            "count": 1
           },
           {
            "bin_end": 3,
            "bin_start": 2.5,
            "count": 0
           },
           {
            "bin_end": 3.5,
            "bin_start": 3,
            "count": 2
           },
           {
            "bin_end": 4,
            "bin_start": 3.5,
            "count": 0
           },
           {
            "bin_end": 4.5,
            "bin_start": 4,
            "count": 1
           },
           {
            "bin_end": 5,
            "bin_start": 4.5,
            "count": 0
           },
           {
            "bin_end": 5.5,
            "bin_start": 5,
            "count": 0
           },
           {
            "bin_end": 6,
            "bin_start": 5.5,
            "count": 0
           },
           {
            "bin_end": 6.5,
            "bin_start": 6,
            "count": 0
           },
           {
            "bin_end": 7,
            "bin_start": 6.5,
            "count": 1
           }
          ],
          "max": "7",
          "min": "2",
          "nan_count": 0,
          "unique_count": 4
         }
        },
        {
         "dtype": "int64",
         "name": "Bare Nuclei",
         "stats": {
          "histogram": [
           {
            "bin_end": 1.4,
            "bin_start": 1,
            "count": 1
           },
           {
            "bin_end": 1.8,
            "bin_start": 1.4,
            "count": 0
           },
           {
            "bin_end": 2.2,
            "bin_start": 1.8,
            "count": 1
           },
           {
            "bin_end": 2.6,
            "bin_start": 2.2,
            "count": 0
           },
           {
            "bin_end": 3,
            "bin_start": 2.6,
            "count": 0
           },
           {
            "bin_end": 3.4000000000000004,
            "bin_start": 3,
            "count": 1
           },
           {
            "bin_end": 3.8000000000000003,
            "bin_start": 3.4000000000000004,
            "count": 0
           },
           {
            "bin_end": 4.2,
            "bin_start": 3.8000000000000003,
            "count": 1
           },
           {
            "bin_end": 4.6,
            "bin_start": 4.2,
            "count": 0
           },
           {
            "bin_end": 5,
            "bin_start": 4.6,
            "count": 1
           }
          ],
          "max": "5",
          "min": "1",
          "nan_count": 0,
          "unique_count": 5
         }
        },
        {
         "dtype": "int64",
         "name": "Bland Chromatin",
         "stats": {
          "histogram": [
           {
            "bin_end": 1.9,
            "bin_start": 1,
            "count": 2
           },
           {
            "bin_end": 2.8,
            "bin_start": 1.9,
            "count": 0
           },
           {
            "bin_end": 3.7,
            "bin_start": 2.8,
            "count": 0
           },
           {
            "bin_end": 4.6,
            "bin_start": 3.7,
            "count": 0
           },
           {
            "bin_end": 5.5,
            "bin_start": 4.6,
            "count": 0
           },
           {
            "bin_end": 6.4,
            "bin_start": 5.5,
            "count": 0
           },
           {
            "bin_end": 7.3,
            "bin_start": 6.4,
            "count": 0
           },
           {
            "bin_end": 8.2,
            "bin_start": 7.3,
            "count": 1
           },
           {
            "bin_end": 9.1,
            "bin_start": 8.2,
            "count": 0
           },
           {
            "bin_end": 10,
            "bin_start": 9.1,
            "count": 2
           }
          ],
          "max": "10",
          "min": "1",
          "nan_count": 0,
          "unique_count": 3
         }
        },
        {
         "dtype": "int64",
         "name": "Normal Nucleoli",
         "stats": {
          "histogram": [
           {
            "bin_end": 1.9,
            "bin_start": 1,
            "count": 2
           },
           {
            "bin_end": 2.8,
            "bin_start": 1.9,
            "count": 0
           },
           {
            "bin_end": 3.7,
            "bin_start": 2.8,
            "count": 0
           },
           {
            "bin_end": 4.6,
            "bin_start": 3.7,
            "count": 1
           },
           {
            "bin_end": 5.5,
            "bin_start": 4.6,
            "count": 0
           },
           {
            "bin_end": 6.4,
            "bin_start": 5.5,
            "count": 1
           },
           {
            "bin_end": 7.3,
            "bin_start": 6.4,
            "count": 0
           },
           {
            "bin_end": 8.2,
            "bin_start": 7.3,
            "count": 0
           },
           {
            "bin_end": 9.1,
            "bin_start": 8.2,
            "count": 0
           },
           {
            "bin_end": 10,
            "bin_start": 9.1,
            "count": 1
           }
          ],
          "max": "10",
          "min": "1",
          "nan_count": 0,
          "unique_count": 4
         }
        },
        {
         "dtype": "int64",
         "name": "Mitoses",
         "stats": {
          "histogram": [
           {
            "bin_end": 1.1,
            "bin_start": 1,
            "count": 4
           },
           {
            "bin_end": 1.2,
            "bin_start": 1.1,
            "count": 0
           },
           {
            "bin_end": 1.3,
            "bin_start": 1.2,
            "count": 0
           },
           {
            "bin_end": 1.4,
            "bin_start": 1.3,
            "count": 0
           },
           {
            "bin_end": 1.5,
            "bin_start": 1.4,
            "count": 0
           },
           {
            "bin_end": 1.6,
            "bin_start": 1.5,
            "count": 0
           },
           {
            "bin_end": 1.7000000000000002,
            "bin_start": 1.6,
            "count": 0
           },
           {
            "bin_end": 1.8,
            "bin_start": 1.7000000000000002,
            "count": 0
           },
           {
            "bin_end": 1.9,
            "bin_start": 1.8,
            "count": 0
           },
           {
            "bin_end": 2,
            "bin_start": 1.9,
            "count": 1
           }
          ],
          "max": "2",
          "min": "1",
          "nan_count": 0,
          "unique_count": 2
         }
        },
        {
         "dtype": "int64",
         "name": "Class",
         "stats": {
          "histogram": [
           {
            "bin_end": 2.2,
            "bin_start": 2,
            "count": 2
           },
           {
            "bin_end": 2.4,
            "bin_start": 2.2,
            "count": 0
           },
           {
            "bin_end": 2.6,
            "bin_start": 2.4,
            "count": 0
           },
           {
            "bin_end": 2.8,
            "bin_start": 2.6,
            "count": 0
           },
           {
            "bin_end": 3,
            "bin_start": 2.8,
            "count": 0
           },
           {
            "bin_end": 3.2,
            "bin_start": 3,
            "count": 0
           },
           {
            "bin_end": 3.4000000000000004,
            "bin_start": 3.2,
            "count": 0
           },
           {
            "bin_end": 3.6,
            "bin_start": 3.4000000000000004,
            "count": 0
           },
           {
            "bin_end": 3.8,
            "bin_start": 3.6,
            "count": 0
           },
           {
            "bin_end": 4,
            "bin_start": 3.8,
            "count": 3
           }
          ],
          "max": "4",
          "min": "2",
          "nan_count": 0,
          "unique_count": 2
         }
        },
        {
         "dtype": "int64",
         "name": "_deepnote_index_column"
        }
       ],
       "row_count": 5,
       "rows": [
        {
         "Bare Nuclei": 2,
         "Bland Chromatin": 1,
         "Class": 2,
         "Clump Thickness": 3,
         "Marginal Adhesion": 1,
         "Mitoses": 1,
         "Normal Nucleoli": 1,
         "Sample code number": 776715,
         "Single Epithelial Cell Size": 3,
         "Uniformity of Cell Shape": 1,
         "Uniformity of Cell Size": 1,
         "_deepnote_index_column": 678
        },
        {
         "Bare Nuclei": 1,
         "Bland Chromatin": 1,
         "Class": 2,
         "Clump Thickness": 2,
         "Marginal Adhesion": 1,
         "Mitoses": 1,
         "Normal Nucleoli": 1,
         "Sample code number": 841769,
         "Single Epithelial Cell Size": 2,
         "Uniformity of Cell Shape": 1,
         "Uniformity of Cell Size": 1,
         "_deepnote_index_column": 679
        },
        {
         "Bare Nuclei": 3,
         "Bland Chromatin": 8,
         "Class": 4,
         "Clump Thickness": 5,
         "Marginal Adhesion": 3,
         "Mitoses": 2,
         "Normal Nucleoli": 10,
         "Sample code number": 888820,
         "Single Epithelial Cell Size": 7,
         "Uniformity of Cell Shape": 10,
         "Uniformity of Cell Size": 10,
         "_deepnote_index_column": 680
        },
        {
         "Bare Nuclei": 4,
         "Bland Chromatin": 10,
         "Class": 4,
         "Clump Thickness": 4,
         "Marginal Adhesion": 4,
         "Mitoses": 1,
         "Normal Nucleoli": 6,
         "Sample code number": 897471,
         "Single Epithelial Cell Size": 3,
         "Uniformity of Cell Shape": 6,
         "Uniformity of Cell Size": 8,
         "_deepnote_index_column": 681
        },
        {
         "Bare Nuclei": 5,
         "Bland Chromatin": 10,
         "Class": 4,
         "Clump Thickness": 4,
         "Marginal Adhesion": 5,
         "Mitoses": 1,
         "Normal Nucleoli": 4,
         "Sample code number": 897471,
         "Single Epithelial Cell Size": 4,
         "Uniformity of Cell Shape": 8,
         "Uniformity of Cell Size": 8,
         "_deepnote_index_column": 682
        }
       ]
      },
      "text/html": [
       "<div>\n",
       "<style scoped>\n",
       "    .dataframe tbody tr th:only-of-type {\n",
       "        vertical-align: middle;\n",
       "    }\n",
       "\n",
       "    .dataframe tbody tr th {\n",
       "        vertical-align: top;\n",
       "    }\n",
       "\n",
       "    .dataframe thead th {\n",
       "        text-align: right;\n",
       "    }\n",
       "</style>\n",
       "<table border=\"1\" class=\"dataframe\">\n",
       "  <thead>\n",
       "    <tr style=\"text-align: right;\">\n",
       "      <th></th>\n",
       "      <th>Sample code number</th>\n",
       "      <th>Clump Thickness</th>\n",
       "      <th>Uniformity of Cell Size</th>\n",
       "      <th>Uniformity of Cell Shape</th>\n",
       "      <th>Marginal Adhesion</th>\n",
       "      <th>Single Epithelial Cell Size</th>\n",
       "      <th>Bare Nuclei</th>\n",
       "      <th>Bland Chromatin</th>\n",
       "      <th>Normal Nucleoli</th>\n",
       "      <th>Mitoses</th>\n",
       "      <th>Class</th>\n",
       "    </tr>\n",
       "  </thead>\n",
       "  <tbody>\n",
       "    <tr>\n",
       "      <th>678</th>\n",
       "      <td>776715</td>\n",
       "      <td>3</td>\n",
       "      <td>1</td>\n",
       "      <td>1</td>\n",
       "      <td>1</td>\n",
       "      <td>3</td>\n",
       "      <td>2</td>\n",
       "      <td>1</td>\n",
       "      <td>1</td>\n",
       "      <td>1</td>\n",
       "      <td>2</td>\n",
       "    </tr>\n",
       "    <tr>\n",
       "      <th>679</th>\n",
       "      <td>841769</td>\n",
       "      <td>2</td>\n",
       "      <td>1</td>\n",
       "      <td>1</td>\n",
       "      <td>1</td>\n",
       "      <td>2</td>\n",
       "      <td>1</td>\n",
       "      <td>1</td>\n",
       "      <td>1</td>\n",
       "      <td>1</td>\n",
       "      <td>2</td>\n",
       "    </tr>\n",
       "    <tr>\n",
       "      <th>680</th>\n",
       "      <td>888820</td>\n",
       "      <td>5</td>\n",
       "      <td>10</td>\n",
       "      <td>10</td>\n",
       "      <td>3</td>\n",
       "      <td>7</td>\n",
       "      <td>3</td>\n",
       "      <td>8</td>\n",
       "      <td>10</td>\n",
       "      <td>2</td>\n",
       "      <td>4</td>\n",
       "    </tr>\n",
       "    <tr>\n",
       "      <th>681</th>\n",
       "      <td>897471</td>\n",
       "      <td>4</td>\n",
       "      <td>8</td>\n",
       "      <td>6</td>\n",
       "      <td>4</td>\n",
       "      <td>3</td>\n",
       "      <td>4</td>\n",
       "      <td>10</td>\n",
       "      <td>6</td>\n",
       "      <td>1</td>\n",
       "      <td>4</td>\n",
       "    </tr>\n",
       "    <tr>\n",
       "      <th>682</th>\n",
       "      <td>897471</td>\n",
       "      <td>4</td>\n",
       "      <td>8</td>\n",
       "      <td>8</td>\n",
       "      <td>5</td>\n",
       "      <td>4</td>\n",
       "      <td>5</td>\n",
       "      <td>10</td>\n",
       "      <td>4</td>\n",
       "      <td>1</td>\n",
       "      <td>4</td>\n",
       "    </tr>\n",
       "  </tbody>\n",
       "</table>\n",
       "</div>"
      ],
      "text/plain": [
       "     Sample code number  Clump Thickness  Uniformity of Cell Size  \\\n",
       "678              776715                3                        1   \n",
       "679              841769                2                        1   \n",
       "680              888820                5                       10   \n",
       "681              897471                4                        8   \n",
       "682              897471                4                        8   \n",
       "\n",
       "     Uniformity of Cell Shape  Marginal Adhesion  Single Epithelial Cell Size  \\\n",
       "678                         1                  1                            3   \n",
       "679                         1                  1                            2   \n",
       "680                        10                  3                            7   \n",
       "681                         6                  4                            3   \n",
       "682                         8                  5                            4   \n",
       "\n",
       "     Bare Nuclei  Bland Chromatin  Normal Nucleoli  Mitoses  Class  \n",
       "678            2                1                1        1      2  \n",
       "679            1                1                1        1      2  \n",
       "680            3                8               10        2      4  \n",
       "681            4               10                6        1      4  \n",
       "682            5               10                4        1      4  "
      ]
     },
     "execution_count": 8,
     "metadata": {},
     "output_type": "execute_result"
    }
   ],
   "source": [
    "cancer_data.tail()"
   ]
  },
  {
   "cell_type": "code",
   "execution_count": 9,
   "id": "84cffcb8",
   "metadata": {
    "cell_id": "00013-3c6720f2-ad6e-4e4b-b8fc-ecd0353a00ec",
    "deepnote_cell_height": 342.296875,
    "deepnote_cell_type": "code",
    "deepnote_output_heights": [
     232.3125
    ],
    "deepnote_to_be_reexecuted": false,
    "execution_millis": 2,
    "execution_start": 1659080387427,
    "source_hash": "eadb36ff"
   },
   "outputs": [
    {
     "data": {
      "text/plain": [
       "Sample code number             int64\n",
       "Clump Thickness                int64\n",
       "Uniformity of Cell Size        int64\n",
       "Uniformity of Cell Shape       int64\n",
       "Marginal Adhesion              int64\n",
       "Single Epithelial Cell Size    int64\n",
       "Bare Nuclei                    int64\n",
       "Bland Chromatin                int64\n",
       "Normal Nucleoli                int64\n",
       "Mitoses                        int64\n",
       "Class                          int64\n",
       "dtype: object"
      ]
     },
     "execution_count": 9,
     "metadata": {},
     "output_type": "execute_result"
    }
   ],
   "source": [
    "# Get dtypes of the dataset\n",
    "cancer_data.dtypes"
   ]
  },
  {
   "cell_type": "code",
   "execution_count": 10,
   "id": "d8e71e98",
   "metadata": {
    "cell_id": "00014-4e263858-835d-4d76-93ce-c7ec873261cb",
    "colab": {
     "base_uri": "https://localhost:8080/"
    },
    "deepnote_cell_height": 131.171875,
    "deepnote_cell_type": "code",
    "deepnote_output_heights": [
     21.1875
    ],
    "deepnote_to_be_reexecuted": false,
    "execution_millis": 47649,
    "execution_start": 1659080387459,
    "id": "62bc4d8b-48fc-4f89-868e-de03e4fa4c90",
    "outputId": "52f48aa2-e73e-4a4e-aa46-cc5a21241420",
    "source_hash": "84892023"
   },
   "outputs": [
    {
     "data": {
      "text/plain": [
       "array([2, 4])"
      ]
     },
     "execution_count": 10,
     "metadata": {},
     "output_type": "execute_result"
    }
   ],
   "source": [
    "## Let's see what are the classes\n",
    "cancer_data['Class'].unique()"
   ]
  },
  {
   "cell_type": "markdown",
   "id": "85247b5f",
   "metadata": {
    "cell_id": "00015-6eb2825b-4957-4dc2-92e7-ac07d00121d0",
    "deepnote_cell_height": 111.1875,
    "deepnote_cell_type": "markdown",
    "id": "b70a209f-387b-445d-93a2-bd195f9082ed"
   },
   "source": [
    "**2 : Non cancerous**\n",
    "**4 : Cancerous**\n",
    "\n",
    "We are mapping `2` with **0** (non cancerous) and `4` with **1** (cancerous)"
   ]
  },
  {
   "cell_type": "code",
   "execution_count": 11,
   "id": "d0f75fff",
   "metadata": {
    "cell_id": "00016-bdf7780f-a6ff-41ec-a098-1ae795aef691",
    "deepnote_cell_height": 76,
    "deepnote_cell_type": "code",
    "deepnote_to_be_reexecuted": false,
    "execution_millis": 2,
    "execution_start": 1659080387460,
    "id": "2975c450-abc9-485a-a9c9-5730665fddf2",
    "source_hash": "cb8d249"
   },
   "outputs": [],
   "source": [
    "cancer_data['Class'] = cancer_data['Class'].map({2:0,4:1})"
   ]
  },
  {
   "cell_type": "code",
   "execution_count": 12,
   "id": "9f3ef06c",
   "metadata": {
    "cell_id": "00017-a6dc3476-83dd-4442-942d-a668104dbdb9",
    "deepnote_cell_height": 76,
    "deepnote_cell_type": "code",
    "deepnote_to_be_reexecuted": false,
    "execution_millis": 47646,
    "execution_start": 1659080387460,
    "id": "IXeL35f1tsDd",
    "source_hash": "2704656e"
   },
   "outputs": [],
   "source": [
    "class_names = ['non-cancerous','cancerous']"
   ]
  },
  {
   "cell_type": "code",
   "execution_count": 13,
   "id": "35386026",
   "metadata": {
    "cell_id": "00018-1db28972-c468-4048-8d61-33bc99bb344b",
    "deepnote_cell_height": 305,
    "deepnote_cell_type": "code",
    "deepnote_to_be_reexecuted": false,
    "execution_millis": 47643,
    "execution_start": 1659080387461,
    "source_hash": "9392e7c5"
   },
   "outputs": [
    {
     "name": "stdout",
     "output_type": "stream",
     "text": [
      "Function Initialized Successfully\n"
     ]
    }
   ],
   "source": [
    "def count_of_categories(category_name):\n",
    "    col = [column for column in cancer_data.columns]\n",
    "    try:\n",
    "        sns.countplot(x = cancer_data[category_name])\n",
    "        plt.xticks(rotation=360)\n",
    "        plt.show()\n",
    "    except:\n",
    "        print(f\"\"\"Please Enter an Existing Category Name: Please choose from below: \\n\n",
    "{col}\"\"\")\n",
    "\n",
    "print(\"Function Initialized Successfully\")\n",
    "# Note: You can call this function anytime to get a count of the any of the existing columns"
   ]
  },
  {
   "cell_type": "code",
   "execution_count": 14,
   "id": "dd51e810",
   "metadata": {
    "cell_id": "00019-016cc346-dad6-49ec-87a9-269e44ce9a3b",
    "deepnote_cell_height": 374,
    "deepnote_cell_type": "code",
    "deepnote_output_heights": [
     264
    ],
    "deepnote_to_be_reexecuted": false,
    "execution_millis": 133,
    "execution_start": 1659080387468,
    "source_hash": "b8fcd2c2"
   },
   "outputs": [
    {
     "data": {
      "image/png": "[encoded data removed]",
      "text/plain": [
       "<Figure size 432x288 with 1 Axes>"
      ]
     },
     "metadata": {
      "image/png": {
       "height": 262,
       "width": 389
      },
      "needs_background": "light"
     },
     "output_type": "display_data"
    }
   ],
   "source": [
    "# Class Category Count\n",
    "count_of_categories(\"Class\")"
   ]
  },
  {
   "cell_type": "code",
   "execution_count": 15,
   "id": "319aadc1",
   "metadata": {
    "cell_id": "00020-f164d70c-812c-4041-b3da-a7d8750448c4",
    "deepnote_cell_height": 374,
    "deepnote_cell_type": "code",
    "deepnote_output_heights": [
     264
    ],
    "deepnote_to_be_reexecuted": false,
    "execution_millis": 176,
    "execution_start": 1659080387606,
    "source_hash": "3fd35e1c"
   },
   "outputs": [
    {
     "data": {
      "image/png": "[encoded data removed]",
      "text/plain": [
       "<Figure size 432x288 with 1 Axes>"
      ]
     },
     "metadata": {
      "image/png": {
       "height": 262,
       "width": 389
      },
      "needs_background": "light"
     },
     "output_type": "display_data"
    }
   ],
   "source": [
    "# Mitoses Category Count\n",
    "count_of_categories(\"Mitoses\")"
   ]
  },
  {
   "cell_type": "markdown",
   "id": "d91d9554",
   "metadata": {
    "cell_id": "00021-a55c5435-69cd-4ae1-adbc-ea471a2224fa",
    "deepnote_cell_height": 52.390625,
    "deepnote_cell_type": "markdown",
    "id": "0cb183c1-e46e-40b6-8055-f0b7d672e893"
   },
   "source": [
    "These is an imbalance dataset"
   ]
  },
  {
   "cell_type": "markdown",
   "id": "548305e4",
   "metadata": {
    "cell_id": "05864fe72ec94f0e9a9cb80db16bfd9d",
    "deepnote_cell_type": "text-cell-p",
    "formattedRanges": [],
    "is_collapsed": false,
    "tags": []
   },
   "source": [
    "Understanding Correlation between Variables"
   ]
  },
  {
   "cell_type": "code",
   "execution_count": 43,
   "id": "94b87326",
   "metadata": {
    "cell_id": "e69909a0477449d49d0da1a700d2a58c",
    "deepnote_cell_height": 1282,
    "deepnote_cell_type": "code",
    "deepnote_output_heights": [
     21,
     370,
     611
    ],
    "deepnote_to_be_reexecuted": false,
    "execution_millis": 2524,
    "execution_start": 1659081439888,
    "source_hash": "d0118c5b",
    "tags": []
   },
   "outputs": [
    {
     "data": {
      "text/plain": [
       "<seaborn.matrix.ClusterGrid at 0x7f033d34da00>"
      ]
     },
     "execution_count": 43,
     "metadata": {},
     "output_type": "execute_result"
    },
    {
     "data": {
      "image/png": "[encoded data removed]",
      "text/plain": [
       "<Figure size 432x288 with 2 Axes>"
      ]
     },
     "metadata": {
      "image/png": {
       "height": 368,
       "width": 465
      },
      "needs_background": "light"
     },
     "output_type": "display_data"
    },
    {
     "data": {
      "image/png": "[encoded data removed]",
      "text/plain": [
       "<Figure size 720x720 with 4 Axes>"
      ]
     },
     "metadata": {
      "image/png": {
       "height": 713,
       "width": 712
      },
      "needs_background": "light"
     },
     "output_type": "display_data"
    }
   ],
   "source": [
    "# calculate the correlations\n",
    "correlations = cancer_data.corr()\n",
    "\n",
    "# plot the heatmap \n",
    "sns.heatmap(correlations, xticklabels=correlations.columns, yticklabels=correlations.columns, annot=True)\n",
    "\n",
    "# plot the clustermap \n",
    "sns.clustermap(correlations, xticklabels=correlations.columns, yticklabels=correlations.columns, annot=True)"
   ]
  },
  {
   "cell_type": "markdown",
   "id": "3627c520",
   "metadata": {
    "cell_id": "e03b1be0598641d689dcd5579e2cb7c4",
    "deepnote_cell_height": 74.78125,
    "deepnote_cell_type": "markdown",
    "tags": []
   },
   "source": [
    "Need to remove `Uniformity of Cell Size` column as Naive Bayes performs a poorer than expected if there are highly-correlated columns in the training dataset, as in our case."
   ]
  },
  {
   "cell_type": "code",
   "execution_count": null,
   "id": "8e9e422d",
   "metadata": {
    "cell_id": "00022-366efa19-1661-473a-893b-7e2b2642f8cc",
    "deepnote_cell_height": 94,
    "deepnote_cell_type": "code",
    "deepnote_to_be_reexecuted": false,
    "execution_millis": 10,
    "execution_start": 1659080387784,
    "id": "ea350ebb-15c9-40c5-9b15-3cd919468815",
    "source_hash": "b1f0d55e"
   },
   "outputs": [],
   "source": [
    "## Dropping the sample code number and uniformity of cell size\n",
    "cancer_data.drop(['Sample code number', 'Uniformity of Cell Size'], axis=1, inplace=True)"
   ]
  },
  {
   "cell_type": "markdown",
   "id": "db0d3262",
   "metadata": {
    "cell_id": "00023-e7bc7961-fbd6-4e7e-9507-7f604ae74327",
    "deepnote_cell_height": 70,
    "deepnote_cell_type": "markdown",
    "id": "2f10ff87-a172-45b3-bc6f-fae5bd5061df"
   },
   "source": [
    "## Splitting the dataset into Train and test set"
   ]
  },
  {
   "cell_type": "code",
   "execution_count": 17,
   "id": "5dd4ca89",
   "metadata": {
    "cell_id": "00024-81280f81-fcd6-4a84-a1a0-18a893d1b4d5",
    "deepnote_cell_height": 81,
    "deepnote_cell_type": "code",
    "deepnote_to_be_reexecuted": false,
    "execution_millis": 3,
    "execution_start": 1659080387802,
    "id": "9ff8c274-edf5-4611-b07f-0a3d77624050",
    "source_hash": "65cd5eec"
   },
   "outputs": [],
   "source": [
    "x_train, x_test, y_train, y_test = train_test_split(cancer_data.drop('Class',axis=1),cancer_data['Class'],test_size=0.2,random_state=42)"
   ]
  },
  {
   "cell_type": "code",
   "execution_count": 18,
   "id": "6dfa5316",
   "metadata": {
    "cell_id": "00025-0998a2a8-aacb-4dde-88d7-595072669d8f",
    "deepnote_cell_height": 130,
    "deepnote_cell_type": "code",
    "deepnote_to_be_reexecuted": false,
    "execution_millis": 4,
    "execution_start": 1659080387810,
    "id": "JVe9cmIqpn7r",
    "source_hash": "8d680b7f"
   },
   "outputs": [],
   "source": [
    "x_train = x_train.to_numpy()\n",
    "x_test = x_test.to_numpy()\n",
    "y_train = y_train.to_numpy()\n",
    "y_test = y_test.to_numpy()"
   ]
  },
  {
   "cell_type": "code",
   "execution_count": 19,
   "id": "ddcdccc6",
   "metadata": {
    "cell_id": "00026-5eefe76b-c27c-4ddf-969d-dd353dc87f46",
    "colab": {
     "base_uri": "https://localhost:8080/"
    },
    "deepnote_cell_height": 220.671875,
    "deepnote_cell_type": "code",
    "deepnote_to_be_reexecuted": false,
    "execution_millis": 1,
    "execution_start": 1659080387840,
    "id": "82b97b66-c4f3-4e46-b1fe-ac5df398d8ac",
    "outputId": "c358f7bd-d9f1-45b0-b598-7647b27f32f6",
    "source_hash": "cf4d2f1d"
   },
   "outputs": [
    {
     "name": "stdout",
     "output_type": "stream",
     "text": [
      "Shape of x train :  (546, 8)\n",
      "Shape of x test :  (137, 8)\n",
      "Shape of y train :  (546,)\n",
      "Shape of y test :  (137,)\n"
     ]
    }
   ],
   "source": [
    "print('Shape of x train : ', x_train.shape)\n",
    "print('Shape of x test : ', x_test.shape)\n",
    "print('Shape of y train : ', y_train.shape)\n",
    "print('Shape of y test : ', y_test.shape)"
   ]
  },
  {
   "cell_type": "markdown",
   "id": "2a82f8eb",
   "metadata": {
    "cell_id": "00027-d66caa85-a2a4-4c64-a89b-639c56382882",
    "deepnote_cell_height": 70,
    "deepnote_cell_type": "markdown",
    "id": "87eqgLlsjr04"
   },
   "source": [
    "## Models"
   ]
  },
  {
   "cell_type": "code",
   "execution_count": 20,
   "id": "167e10fe",
   "metadata": {
    "cell_id": "00028-645dfc6c-5324-4d69-9fb6-b711af99de04",
    "deepnote_cell_height": 328,
    "deepnote_cell_type": "code",
    "deepnote_to_be_reexecuted": false,
    "execution_millis": 3,
    "execution_start": 1659080387841,
    "id": "HzlhQdeZuOFq",
    "source_hash": "6e3e049"
   },
   "outputs": [],
   "source": [
    "from sklearn.metrics import f1_score\n",
    "\n",
    "\n",
    "def metrics(y_true,y_pred):\n",
    "  print('f1 score :',f1_score(y_true,y_pred))\n",
    "  print()\n",
    "  print('accuracy :',accuracy_score(y_true,y_pred))\n",
    "  print()\n",
    "  print('Classification Report--')\n",
    "  print(classification_report(y_true,y_pred,target_names=class_names))\n",
    "  print()\n",
    "  print('Confussion matrix--')\n",
    "  print(confusion_matrix(y_true,y_pred))\n",
    "\n"
   ]
  },
  {
   "cell_type": "markdown",
   "id": "3360f17e",
   "metadata": {
    "cell_id": "00029-ea014260-842f-4221-9947-e767b154946f",
    "deepnote_cell_height": 62,
    "deepnote_cell_type": "markdown",
    "id": "jQBH1bdRmgDT"
   },
   "source": [
    "### 1. Naive Bias"
   ]
  },
  {
   "cell_type": "markdown",
   "id": "879d7b2d",
   "metadata": {
    "cell_id": "55f1b06e42a34829ac4cb75638b37797",
    "deepnote_cell_height": 54,
    "deepnote_cell_type": "markdown",
    "tags": []
   },
   "source": [
    "##### Gaussian Naive Bayes"
   ]
  },
  {
   "cell_type": "code",
   "execution_count": 21,
   "id": "712e80fd",
   "metadata": {
    "cell_id": "00030-d1aaf4fd-b7c9-42a9-81d6-ab5140f3c52f",
    "colab": {
     "base_uri": "https://localhost:8080/"
    },
    "deepnote_cell_height": 293.171875,
    "deepnote_cell_type": "code",
    "deepnote_output_heights": [
     21.1875
    ],
    "deepnote_to_be_reexecuted": false,
    "execution_millis": 1,
    "execution_start": 1659080387842,
    "id": "WiwQbjiymiUw",
    "outputId": "02b3ec1f-cfdb-4c2a-8caa-2499422be0c7",
    "source_hash": "ac553a0a"
   },
   "outputs": [
    {
     "data": {
      "text/plain": [
       "(0.9633699633699634, 0.9562043795620438)"
      ]
     },
     "execution_count": 21,
     "metadata": {},
     "output_type": "execute_result"
    }
   ],
   "source": [
    "from sklearn.naive_bayes import GaussianNB\n",
    "np.random.seed(42)\n",
    "\n",
    "# Fit the Model\n",
    "naive_bias_clf = GaussianNB().fit(x_train, y_train)\n",
    "\n",
    "# Make a prediction\n",
    "y_preds_naive_bias = naive_bias_clf.predict(x_test)\n",
    "\n",
    "# Evaluate the model on the training and test data\n",
    "naive_bias_clf.score(x_train, y_train), naive_bias_clf.score(x_test, y_test)"
   ]
  },
  {
   "cell_type": "code",
   "execution_count": 22,
   "id": "9262fb69",
   "metadata": {
    "cell_id": "00031-5252aa19-3572-4107-9557-6b48efb8b2de",
    "colab": {
     "base_uri": "https://localhost:8080/"
    },
    "deepnote_cell_height": 446,
    "deepnote_cell_type": "code",
    "deepnote_to_be_reexecuted": false,
    "execution_millis": 10,
    "execution_start": 1659080387847,
    "id": "-VAXG5wyviHy",
    "outputId": "07164e98-f10c-47a0-8006-8ae958b4591b",
    "source_hash": "44e0b5a8"
   },
   "outputs": [
    {
     "name": "stdout",
     "output_type": "stream",
     "text": [
      "f1 score : 0.9482758620689655\n",
      "\n",
      "accuracy : 0.9562043795620438\n",
      "\n",
      "Classification Report--\n",
      "               precision    recall  f1-score   support\n",
      "\n",
      "non-cancerous       0.96      0.96      0.96        79\n",
      "    cancerous       0.95      0.95      0.95        58\n",
      "\n",
      "     accuracy                           0.96       137\n",
      "    macro avg       0.96      0.96      0.96       137\n",
      " weighted avg       0.96      0.96      0.96       137\n",
      "\n",
      "\n",
      "Confussion matrix--\n",
      "[[76  3]\n",
      " [ 3 55]]\n"
     ]
    }
   ],
   "source": [
    "metrics(y_test, y_preds_naive_bias)"
   ]
  },
  {
   "cell_type": "markdown",
   "id": "2d7288bb",
   "metadata": {
    "cell_id": "00032-25c0983d-f80d-4987-af6b-59d9ef3193be",
    "deepnote_cell_height": 62,
    "deepnote_cell_type": "markdown",
    "id": "RztTOiF0sbgV"
   },
   "source": [
    "### 2. Ridge classifier"
   ]
  },
  {
   "cell_type": "markdown",
   "id": "68600a3a",
   "metadata": {
    "cell_id": "00033-b2e5a986-d20b-4a8a-84f5-39cbe2a96558",
    "deepnote_cell_height": 62,
    "deepnote_cell_type": "markdown",
    "id": "HBW_v7J5ndjI"
   },
   "source": [
    "### 3. Random Forest Classifier"
   ]
  },
  {
   "cell_type": "code",
   "execution_count": 29,
   "id": "0acad846",
   "metadata": {
    "cell_id": "00034-8f7f74b7-8e92-4556-8b6f-c4488223569e",
    "deepnote_cell_height": 238,
    "deepnote_cell_type": "code",
    "deepnote_to_be_reexecuted": false,
    "execution_millis": 471,
    "execution_start": 1659080387951,
    "source_hash": "fe1e20eb"
   },
   "outputs": [],
   "source": [
    "# Choose the right model and hyperparameters\n",
    "from sklearn.ensemble import RandomForestClassifier\n",
    "from sklearn.model_selection import RandomizedSearchCV, GridSearchCV\n",
    "random_forest_clf = RandomForestClassifier(n_jobs=-1, max_features= 'sqrt' , n_estimators=200, oob_score = True)\n",
    "\n",
    "# Fit the model to the training data\n",
    "random_forest_clf.fit(x_train, y_train)\n",
    "\n",
    "# Make a prediction\n",
    "y_preds_random_forest_clf = random_forest_clf.predict(x_test);"
   ]
  },
  {
   "cell_type": "code",
   "execution_count": 30,
   "id": "8879d928",
   "metadata": {
    "cell_id": "00035-48fd6786-a4f1-41a9-92ac-7c87695e5171",
    "deepnote_cell_height": 131.171875,
    "deepnote_cell_type": "code",
    "deepnote_output_heights": [
     21.1875
    ],
    "deepnote_to_be_reexecuted": false,
    "execution_millis": 680,
    "execution_start": 1659080388425,
    "source_hash": "ad3f5007"
   },
   "outputs": [
    {
     "data": {
      "text/plain": [
       "(1.0, 0.9708029197080292)"
      ]
     },
     "execution_count": 30,
     "metadata": {},
     "output_type": "execute_result"
    }
   ],
   "source": [
    "# Evaluate the model on the training and test data\n",
    "random_forest_clf.score(x_train, y_train), random_forest_clf.score(x_test, y_test)"
   ]
  },
  {
   "cell_type": "code",
   "execution_count": 31,
   "id": "6f279840",
   "metadata": {
    "cell_id": "00036-3e537dcc-3dd3-456f-99ae-fcbf42591579",
    "deepnote_cell_height": 233,
    "deepnote_cell_type": "code",
    "deepnote_to_be_reexecuted": false,
    "execution_millis": 16136,
    "execution_start": 1659080388522,
    "source_hash": "7639f8f"
   },
   "outputs": [
    {
     "name": "stdout",
     "output_type": "stream",
     "text": [
      "{'max_features': 'sqrt', 'n_estimators': 200}\n"
     ]
    }
   ],
   "source": [
    "param_grid = { \n",
    "    'n_estimators': [200, 700],\n",
    "    'max_features': ['sqrt', 'log2']\n",
    "}\n",
    "\n",
    "CV_rfc = GridSearchCV(estimator=random_forest_clf, param_grid=param_grid, cv= 5);\n",
    "CV_rfc.fit(x_test, y_test);\n",
    "print(CV_rfc.best_params_)"
   ]
  },
  {
   "cell_type": "code",
   "execution_count": 32,
   "id": "a7ba1fa8",
   "metadata": {
    "cell_id": "00037-d0405fa5-422c-4bf9-9fde-ffc3dd8fdff4",
    "deepnote_cell_height": 76,
    "deepnote_cell_type": "code",
    "deepnote_to_be_reexecuted": false,
    "execution_millis": 41,
    "execution_start": 1659080404662,
    "source_hash": "9cc611ed"
   },
   "outputs": [],
   "source": [
    "y_preds_random_forest_clf = CV_rfc.predict(x_test);"
   ]
  },
  {
   "cell_type": "code",
   "execution_count": 33,
   "id": "182499ac",
   "metadata": {
    "cell_id": "00038-0f83d175-6903-419a-9782-7f20fe9b9696",
    "deepnote_cell_height": 463.5625,
    "deepnote_cell_type": "code",
    "deepnote_to_be_reexecuted": false,
    "execution_millis": 8,
    "execution_start": 1659080404708,
    "source_hash": "62262ee6"
   },
   "outputs": [
    {
     "name": "stdout",
     "output_type": "stream",
     "text": [
      "f1 score : 1.0\n",
      "\n",
      "accuracy : 1.0\n",
      "\n",
      "Classification Report--\n",
      "               precision    recall  f1-score   support\n",
      "\n",
      "non-cancerous       1.00      1.00      1.00        79\n",
      "    cancerous       1.00      1.00      1.00        58\n",
      "\n",
      "     accuracy                           1.00       137\n",
      "    macro avg       1.00      1.00      1.00       137\n",
      " weighted avg       1.00      1.00      1.00       137\n",
      "\n",
      "\n",
      "Confussion matrix--\n",
      "[[79  0]\n",
      " [ 0 58]]\n"
     ]
    }
   ],
   "source": [
    "# Get the metrices\n",
    "metrics(y_test, y_preds_random_forest_clf)"
   ]
  },
  {
   "cell_type": "markdown",
   "id": "cb7ecf57",
   "metadata": {
    "cell_id": "00039-7b5ebe96-8134-4e69-a735-c367d3b67af4",
    "deepnote_cell_height": 62,
    "deepnote_cell_type": "markdown",
    "id": "0wAreq80woad"
   },
   "source": [
    "### 4. Logistic Regression"
   ]
  },
  {
   "cell_type": "code",
   "execution_count": 34,
   "id": "4d5c71b0",
   "metadata": {
    "cell_id": "00040-8284d80b-2ab8-46a9-9c05-ea0792e7cb11",
    "deepnote_cell_height": 94,
    "deepnote_cell_type": "code",
    "deepnote_to_be_reexecuted": false,
    "execution_millis": 0,
    "execution_start": 1659080404737,
    "source_hash": "97a7aa51"
   },
   "outputs": [],
   "source": [
    "from sklearn.linear_model import LogisticRegression\n",
    "log_reg = LogisticRegression()"
   ]
  },
  {
   "cell_type": "code",
   "execution_count": 35,
   "id": "359850bd",
   "metadata": {
    "cell_id": "00041-57dd3f13-eca6-4717-af5d-a6256acb9f2b",
    "deepnote_cell_height": 152.34375,
    "deepnote_cell_type": "code",
    "deepnote_output_heights": [
     60.359375
    ],
    "deepnote_to_be_reexecuted": false,
    "execution_millis": 3,
    "execution_start": 1659080404737,
    "source_hash": "5d3adbf5"
   },
   "outputs": [
    {
     "data": {
      "text/html": [
       "<style>#sk-container-id-1 {color: black;background-color: white;}#sk-container-id-1 pre{padding: 0;}#sk-container-id-1 div.sk-toggleable {background-color: white;}#sk-container-id-1 label.sk-toggleable__label {cursor: pointer;display: block;width: 100%;margin-bottom: 0;padding: 0.3em;box-sizing: border-box;text-align: center;}#sk-container-id-1 label.sk-toggleable__label-arrow:before {content: \"▸\";float: left;margin-right: 0.25em;color: #696969;}#sk-container-id-1 label.sk-toggleable__label-arrow:hover:before {color: black;}#sk-container-id-1 div.sk-estimator:hover label.sk-toggleable__label-arrow:before {color: black;}#sk-container-id-1 div.sk-toggleable__content {max-height: 0;max-width: 0;overflow: hidden;text-align: left;background-color: #f0f8ff;}#sk-container-id-1 div.sk-toggleable__content pre {margin: 0.2em;color: black;border-radius: 0.25em;background-color: #f0f8ff;}#sk-container-id-1 input.sk-toggleable__control:checked~div.sk-toggleable__content {max-height: 200px;max-width: 100%;overflow: auto;}#sk-container-id-1 input.sk-toggleable__control:checked~label.sk-toggleable__label-arrow:before {content: \"▾\";}#sk-container-id-1 div.sk-estimator input.sk-toggleable__control:checked~label.sk-toggleable__label {background-color: #d4ebff;}#sk-container-id-1 div.sk-label input.sk-toggleable__control:checked~label.sk-toggleable__label {background-color: #d4ebff;}#sk-container-id-1 input.sk-hidden--visually {border: 0;clip: rect(1px 1px 1px 1px);clip: rect(1px, 1px, 1px, 1px);height: 1px;margin: -1px;overflow: hidden;padding: 0;position: absolute;width: 1px;}#sk-container-id-1 div.sk-estimator {font-family: monospace;background-color: #f0f8ff;border: 1px dotted black;border-radius: 0.25em;box-sizing: border-box;margin-bottom: 0.5em;}#sk-container-id-1 div.sk-estimator:hover {background-color: #d4ebff;}#sk-container-id-1 div.sk-parallel-item::after {content: \"\";width: 100%;border-bottom: 1px solid gray;flex-grow: 1;}#sk-container-id-1 div.sk-label:hover label.sk-toggleable__label {background-color: #d4ebff;}#sk-container-id-1 div.sk-serial::before {content: \"\";position: absolute;border-left: 1px solid gray;box-sizing: border-box;top: 0;bottom: 0;left: 50%;z-index: 0;}#sk-container-id-1 div.sk-serial {display: flex;flex-direction: column;align-items: center;background-color: white;padding-right: 0.2em;padding-left: 0.2em;position: relative;}#sk-container-id-1 div.sk-item {position: relative;z-index: 1;}#sk-container-id-1 div.sk-parallel {display: flex;align-items: stretch;justify-content: center;background-color: white;position: relative;}#sk-container-id-1 div.sk-item::before, #sk-container-id-1 div.sk-parallel-item::before {content: \"\";position: absolute;border-left: 1px solid gray;box-sizing: border-box;top: 0;bottom: 0;left: 50%;z-index: -1;}#sk-container-id-1 div.sk-parallel-item {display: flex;flex-direction: column;z-index: 1;position: relative;background-color: white;}#sk-container-id-1 div.sk-parallel-item:first-child::after {align-self: flex-end;width: 50%;}#sk-container-id-1 div.sk-parallel-item:last-child::after {align-self: flex-start;width: 50%;}#sk-container-id-1 div.sk-parallel-item:only-child::after {width: 0;}#sk-container-id-1 div.sk-dashed-wrapped {border: 1px dashed gray;margin: 0 0.4em 0.5em 0.4em;box-sizing: border-box;padding-bottom: 0.4em;background-color: white;}#sk-container-id-1 div.sk-label label {font-family: monospace;font-weight: bold;display: inline-block;line-height: 1.2em;}#sk-container-id-1 div.sk-label-container {text-align: center;}#sk-container-id-1 div.sk-container {/* jupyter's `normalize.less` sets `[hidden] { display: none; }` but bootstrap.min.css set `[hidden] { display: none !important; }` so we also need the `!important` here to be able to override the default hidden behavior on the sphinx rendered scikit-learn.org. See: https://github.com/scikit-learn/scikit-learn/issues/21755 */display: inline-block !important;position: relative;}#sk-container-id-1 div.sk-text-repr-fallback {display: none;}</style><div id=\"sk-container-id-1\" class=\"sk-top-container\"><div class=\"sk-text-repr-fallback\"><pre>LogisticRegression()</pre><b>In a Jupyter environment, please rerun this cell to show the HTML representation or trust the notebook. <br />On GitHub, the HTML representation is unable to render, please try loading this page with nbviewer.org.</b></div><div class=\"sk-container\" hidden><div class=\"sk-item\"><div class=\"sk-estimator sk-toggleable\"><input class=\"sk-toggleable__control sk-hidden--visually\" id=\"sk-estimator-id-1\" type=\"checkbox\" checked><label for=\"sk-estimator-id-1\" class=\"sk-toggleable__label sk-toggleable__label-arrow\">LogisticRegression</label><div class=\"sk-toggleable__content\"><pre>LogisticRegression()</pre></div></div></div></div></div>"
      ],
      "text/plain": [
       "LogisticRegression()"
      ]
     },
     "execution_count": 35,
     "metadata": {},
     "output_type": "execute_result"
    }
   ],
   "source": [
    "log_reg.fit(x_train,y_train)"
   ]
  },
  {
   "cell_type": "code",
   "execution_count": 36,
   "id": "8f131dc1",
   "metadata": {
    "cell_id": "00042-ece06b41-37e2-4205-a5cf-a67b7ecdad20",
    "deepnote_cell_height": 149.171875,
    "deepnote_cell_type": "code",
    "deepnote_output_heights": [
     21.1875
    ],
    "deepnote_to_be_reexecuted": false,
    "execution_millis": 4,
    "execution_start": 1659080404743,
    "source_hash": "80be29e"
   },
   "outputs": [
    {
     "data": {
      "text/plain": [
       "0.8206023570493234"
      ]
     },
     "execution_count": 36,
     "metadata": {},
     "output_type": "execute_result"
    }
   ],
   "source": [
    "#Evaluating with default parameters\n",
    "from sklearn.metrics import r2_score\n",
    "r2_score(y_test,log_reg.predict(x_test))"
   ]
  },
  {
   "cell_type": "code",
   "execution_count": 37,
   "id": "3efb8f20",
   "metadata": {
    "cell_id": "00043-b74dd450-2fc1-46bc-8016-14e9a1674c45",
    "deepnote_cell_height": 268.90625,
    "deepnote_cell_type": "code",
    "deepnote_to_be_reexecuted": false,
    "execution_millis": 341,
    "execution_start": 1659080404790,
    "source_hash": "595815a3"
   },
   "outputs": [
    {
     "name": "stdout",
     "output_type": "stream",
     "text": [
      "{'C': 0.1, 'penalty': 'l2', 'solver': 'newton-cg'}\n"
     ]
    }
   ],
   "source": [
    "#finding the best parameters for accuracy\n",
    "param_grid_lr = { \n",
    "    'solver' : ['newton-cg', 'lbfgs', 'liblinear'],\n",
    "    'penalty' : ['l2'],\n",
    "    'C' : [100, 10, 1.0, 0.1, 0.01]\n",
    "}\n",
    "\n",
    "CV_lr = GridSearchCV(estimator=log_reg, param_grid=param_grid_lr, cv= 5);\n",
    "CV_lr.fit(x_test, y_test);\n",
    "print(CV_lr.best_params_)"
   ]
  },
  {
   "cell_type": "code",
   "execution_count": 38,
   "id": "19def4fc",
   "metadata": {
    "cell_id": "00044-6c959a6f-61e5-40e6-8cc1-8bdda10ad079",
    "deepnote_cell_height": 76,
    "deepnote_cell_type": "code",
    "deepnote_to_be_reexecuted": false,
    "execution_millis": 14,
    "execution_start": 1659080405134,
    "source_hash": "a4e35890"
   },
   "outputs": [],
   "source": [
    "y_preds_log_reg = CV_lr.predict(x_test);"
   ]
  },
  {
   "cell_type": "code",
   "execution_count": 39,
   "id": "17ff06fa",
   "metadata": {
    "cell_id": "00045-b1a53aaa-aafb-4cd5-a8d3-d11088e41002",
    "deepnote_cell_height": 445.5625,
    "deepnote_cell_type": "code",
    "deepnote_to_be_reexecuted": false,
    "execution_millis": 4,
    "execution_start": 1659080405156,
    "source_hash": "90649996"
   },
   "outputs": [
    {
     "name": "stdout",
     "output_type": "stream",
     "text": [
      "f1 score : 0.9827586206896551\n",
      "\n",
      "accuracy : 0.9854014598540146\n",
      "\n",
      "Classification Report--\n",
      "               precision    recall  f1-score   support\n",
      "\n",
      "non-cancerous       0.99      0.99      0.99        79\n",
      "    cancerous       0.98      0.98      0.98        58\n",
      "\n",
      "     accuracy                           0.99       137\n",
      "    macro avg       0.99      0.99      0.99       137\n",
      " weighted avg       0.99      0.99      0.99       137\n",
      "\n",
      "\n",
      "Confussion matrix--\n",
      "[[78  1]\n",
      " [ 1 57]]\n"
     ]
    }
   ],
   "source": [
    "metrics(y_test,y_preds_log_reg)"
   ]
  },
  {
   "cell_type": "markdown",
   "id": "9cbe3feb",
   "metadata": {
    "cell_id": "00046-6cce3eca-725b-43e1-8c70-07038601e1b7",
    "deepnote_cell_height": 62,
    "deepnote_cell_type": "markdown",
    "id": "Dim3uGy9x6pS"
   },
   "source": [
    "### 5. K-Nearest Neighbour"
   ]
  },
  {
   "cell_type": "markdown",
   "id": "29f99c33",
   "metadata": {
    "cell_id": "00047-a5e90fde-dad5-4150-8eae-94331bbfe26a",
    "deepnote_cell_height": 62,
    "deepnote_cell_type": "markdown"
   },
   "source": [
    "### 6. Feed-forward-neural-network"
   ]
  },
  {
   "cell_type": "markdown",
   "id": "fcebc769",
   "metadata": {
    "cell_id": "00048-de92dbfd-09fa-4a0f-addc-6c62c3a7ba36",
    "deepnote_cell_height": 62,
    "deepnote_cell_type": "markdown"
   },
   "source": [
    "### Visualization of results"
   ]
  },
  {
   "cell_type": "code",
   "execution_count": 40,
   "id": "e5b662f4",
   "metadata": {
    "cell_id": "00049-e292639b-dc24-49c2-8009-25710ba32653",
    "deepnote_cell_height": 423,
    "deepnote_cell_type": "code",
    "deepnote_to_be_reexecuted": false,
    "execution_millis": 47656,
    "execution_start": 1659080405170,
    "source_hash": "a53d4b0a"
   },
   "outputs": [],
   "source": [
    "def cmatrix(y_test,y_pred):\n",
    "  cm=confusion_matrix(y_test,y_pred)\n",
    "  group_names=['True Neg','False Pos','False Neg','True Pos']\n",
    "  group_counts = [\"{0:0.0f}\".format(value) for value in\n",
    "                  cm.flatten()]\n",
    "  group_percentages = [\"{0:.2%}\".format(value) for value in\n",
    "                      cm.flatten()/np.sum(cm)]\n",
    "  labels = [f\"{v1}\\n{v2}\\n{v3}\" for v1, v2, v3 in\n",
    "            zip(group_names,group_counts,group_percentages)]\n",
    "  labels = np.asarray(labels).reshape(2,2)\n",
    "  categories = ['Zero', 'One']\n",
    "  accuracy  = np.trace(cm) / float(np.sum(cm))\n",
    "  precision = cm[1,1] / sum(cm[:,1])\n",
    "  recall    = cm[1,1] / sum(cm[1,:])\n",
    "  f1_score  = 2*precision*recall / (precision + recall)\n",
    "  stats_text = \"\\n\\n Accuracy={:0.3f}\\n Precision={:0.3f}\\n Recall={:0.3f}\\n F1 Score={:0.3f}\".format(accuracy,precision,recall,f1_score)\n",
    "  sns.heatmap(cm, xticklabels=categories,yticklabels=categories,annot=labels, fmt='', cmap='coolwarm')\n",
    "  plt.xlabel('Predicted label'+stats_text)\n",
    "  plt.ylabel('True label')\n",
    "  plt.show()"
   ]
  },
  {
   "cell_type": "code",
   "execution_count": 41,
   "id": "1f7ee0ac",
   "metadata": {
    "cell_id": "00050-fb04e3ec-d246-4e3f-b70a-3658d83d2817",
    "deepnote_cell_height": 414,
    "deepnote_cell_type": "code",
    "deepnote_output_heights": [
     322
    ],
    "deepnote_to_be_reexecuted": false,
    "execution_millis": 280,
    "execution_start": 1659080405223,
    "source_hash": "60a79563"
   },
   "outputs": [
    {
     "data": {
      "image/png": "[encoded data removed]",
      "text/plain": [
       "<Figure size 432x288 with 2 Axes>"
      ]
     },
     "metadata": {
      "image/png": {
       "height": 320,
       "width": 360
      },
      "needs_background": "light"
     },
     "output_type": "display_data"
    }
   ],
   "source": [
    "cmatrix(y_test,y_preds_naive_bias)"
   ]
  },
  {
   "cell_type": "code",
   "execution_count": 41,
   "id": "75cc6129",
   "metadata": {
    "cell_id": "00051-24b48cf0-56d6-41f6-9f86-31bea0ac46fa",
    "deepnote_cell_height": 76,
    "deepnote_cell_type": "code",
    "deepnote_to_be_reexecuted": false,
    "execution_millis": 1,
    "execution_start": 1659080405430,
    "source_hash": "b623e53d"
   },
   "outputs": [],
   "source": []
  },
  {
   "cell_type": "markdown",
   "id": "a45067a9",
   "metadata": {
    "created_in_deepnote_cell": true,
    "deepnote_cell_type": "markdown",
    "tags": []
   },
   "source": [
    "<a style='text-decoration:none;line-height:16px;display:flex;color:#5B5B62;padding:10px;justify-content:end;' href='https://deepnote.com?utm_source=created-in-deepnote-cell&projectId=28023bdc-94e9-4836-9ed9-f8018f1ad1e0' target=\"_blank\">\n",
    "<img alt='Created in deepnote.com' style='display:inline;max-height:16px;margin:0px;margin-right:7.5px;' src='data:image/svg+xml;base64,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' > </img>\n",
    "Created in <span style='font-weight:600;margin-left:4px;'>Deepnote</span></a>"
   ]
  }
 ],
 "metadata": {
  "colab": {
   "collapsed_sections": [
    "7008492c-9648-4a8d-81ec-33404ff684e3",
    "01b6b267-0515-4135-9bdc-fb1d1e622961",
    "70ce000f-dfbd-4de6-ae1b-04ffe9ed46c8",
    "2f10ff87-a172-45b3-bc6f-fae5bd5061df",
    "71a56074-0baa-4c48-bdb8-526377d6e82b",
    "e996e6cf-b8f8-4b78-892c-e1e23059bc25",
    "4dde51e6-7c85-4379-945d-3d518a265f33",
    "87eqgLlsjr04",
    "jQBH1bdRmgDT",
    "RztTOiF0sbgV",
    "HBW_v7J5ndjI",
    "0wAreq80woad",
    "Dim3uGy9x6pS",
    "6_qVizHnylij"
   ],
   "name": "Cancer_prediction.ipynb",
   "provenance": []
  },
  "deepnote": {},
  "deepnote_execution_queue": [],
  "deepnote_notebook_id": "ed5278c8-487d-4ca9-a120-63b24bc93720",
  "gpuClass": "standard",
  "kernelspec": {
   "display_name": "Python 3 (ipykernel)",
   "language": "python",
   "name": "python3"
  },
  "language_info": {
   "codemirror_mode": {
    "name": "ipython",
    "version": 3
   },
   "file_extension": ".py",
   "mimetype": "text/x-python",
   "name": "python",
   "nbconvert_exporter": "python",
   "pygments_lexer": "ipython3",
   "version": "3.10.1"
  },
  "vscode": {
   "interpreter": {
    "hash": "5f819777ce403f3eae79b1bbc3c8eb73e452d36a9f6ddced39c789304c3092a3"
   }
  }
 },
 "nbformat": 4,
 "nbformat_minor": 5
}
