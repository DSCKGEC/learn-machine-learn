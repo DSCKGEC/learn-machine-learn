{
  "cells": [
    {
      "cell_type": "markdown",
      "id": "e9109d62-5d63-4920-a893-67bffd44ed23",
      "metadata": {
        "id": "e9109d62-5d63-4920-a893-67bffd44ed23"
      },
      "source": [
        "# Cancer prediction"
      ]
    },
    {
      "cell_type": "markdown",
      "id": "7008492c-9648-4a8d-81ec-33404ff684e3",
      "metadata": {
        "id": "7008492c-9648-4a8d-81ec-33404ff684e3"
      },
      "source": [
        "## Module imports"
      ]
    },
    {
      "cell_type": "code",
      "execution_count": 102,
      "id": "7b052a51-7fa2-441f-9c93-f4e0085b3fe4",
      "metadata": {
        "id": "7b052a51-7fa2-441f-9c93-f4e0085b3fe4"
      },
      "outputs": [],
      "source": [
        "import pandas as pd\n",
        "import numpy as np\n",
        "\n",
        "# Data visualization library\n",
        "import seaborn as sns\n",
        "import matplotlib.pyplot as plt\n",
        "\n",
        "# scikit-learn\n",
        "from sklearn.model_selection import train_test_split\n",
        "\n",
        "# Evaluation metrics\n",
        "from sklearn.metrics import accuracy_score,classification_report,confusion_matrix,f1_score"
      ]
    },
    {
      "cell_type": "markdown",
      "id": "01b6b267-0515-4135-9bdc-fb1d1e622961",
      "metadata": {
        "id": "01b6b267-0515-4135-9bdc-fb1d1e622961"
      },
      "source": [
        "## Importing dataset"
      ]
    },
    {
      "cell_type": "markdown",
      "source": [
        "`Please upload the dataset in zip format direclty in google colab(not through google drive)`"
      ],
      "metadata": {
        "id": "WGvtYUVDu01n"
      },
      "id": "WGvtYUVDu01n"
    },
    {
      "cell_type": "code",
      "execution_count": 103,
      "id": "f2u7NMUji1uo",
      "metadata": {
        "colab": {
          "base_uri": "https://localhost:8080/"
        },
        "id": "f2u7NMUji1uo",
        "outputId": "d8f42cfe-cc5e-46b3-eeeb-83969e2cb420"
      },
      "outputs": [
        {
          "output_type": "stream",
          "name": "stdout",
          "text": [
            "unzip:  cannot find or open /content/cancer_data.csv.zip, /content/cancer_data.csv.zip.zip or /content/cancer_data.csv.zip.ZIP.\n"
          ]
        }
      ],
      "source": [
        "!unzip /content/cancer_data.csv.zip"
      ]
    },
    {
      "cell_type": "code",
      "execution_count": 104,
      "id": "2e34f4d0-20ad-4f8c-a5e8-36b88065479d",
      "metadata": {
        "id": "2e34f4d0-20ad-4f8c-a5e8-36b88065479d"
      },
      "outputs": [],
      "source": [
        "DATASET_PATH = '/content/cancer_data.csv'\n",
        "df = pd.read_csv(DATASET_PATH)"
      ]
    },
    {
      "cell_type": "markdown",
      "id": "70ce000f-dfbd-4de6-ae1b-04ffe9ed46c8",
      "metadata": {
        "id": "70ce000f-dfbd-4de6-ae1b-04ffe9ed46c8"
      },
      "source": [
        "## Exploratory Data Analysis"
      ]
    },
    {
      "cell_type": "code",
      "execution_count": 105,
      "id": "dd944250-abbf-4468-8f19-34e3999c4f82",
      "metadata": {
        "colab": {
          "base_uri": "https://localhost:8080/"
        },
        "id": "dd944250-abbf-4468-8f19-34e3999c4f82",
        "outputId": "7fb4248c-2ced-42b1-9739-81a0ed6f8afa"
      },
      "outputs": [
        {
          "output_type": "execute_result",
          "data": {
            "text/plain": [
              "(683, 11)"
            ]
          },
          "metadata": {},
          "execution_count": 105
        }
      ],
      "source": [
        "df.shape"
      ]
    },
    {
      "cell_type": "code",
      "execution_count": 106,
      "id": "9d3e7d53-848b-47a2-b2ef-da8cdcd38697",
      "metadata": {
        "colab": {
          "base_uri": "https://localhost:8080/"
        },
        "id": "9d3e7d53-848b-47a2-b2ef-da8cdcd38697",
        "outputId": "b28409fb-578a-4ec5-9e64-20bb3d4452e1"
      },
      "outputs": [
        {
          "output_type": "execute_result",
          "data": {
            "text/plain": [
              "Sample code number             0\n",
              "Clump Thickness                0\n",
              "Uniformity of Cell Size        0\n",
              "Uniformity of Cell Shape       0\n",
              "Marginal Adhesion              0\n",
              "Single Epithelial Cell Size    0\n",
              "Bare Nuclei                    0\n",
              "Bland Chromatin                0\n",
              "Normal Nucleoli                0\n",
              "Mitoses                        0\n",
              "Class                          0\n",
              "dtype: int64"
            ]
          },
          "metadata": {},
          "execution_count": 106
        }
      ],
      "source": [
        "## Checking for null values\n",
        "df.isnull().sum()"
      ]
    },
    {
      "cell_type": "code",
      "execution_count": 107,
      "id": "3488d2b3-f069-40d5-bc96-2d788a21419e",
      "metadata": {
        "colab": {
          "base_uri": "https://localhost:8080/"
        },
        "id": "3488d2b3-f069-40d5-bc96-2d788a21419e",
        "outputId": "6c690104-2faa-4610-f644-345fa539d44c"
      },
      "outputs": [
        {
          "output_type": "execute_result",
          "data": {
            "text/plain": [
              "Index(['Sample code number', 'Clump Thickness', 'Uniformity of Cell Size',\n",
              "       'Uniformity of Cell Shape', 'Marginal Adhesion',\n",
              "       'Single Epithelial Cell Size', 'Bare Nuclei', 'Bland Chromatin',\n",
              "       'Normal Nucleoli', 'Mitoses', 'Class'],\n",
              "      dtype='object')"
            ]
          },
          "metadata": {},
          "execution_count": 107
        }
      ],
      "source": [
        "df.columns"
      ]
    },
    {
      "cell_type": "code",
      "execution_count": 108,
      "id": "46c74d9d-96f0-4ba7-b9b4-4989d4543610",
      "metadata": {
        "colab": {
          "base_uri": "https://localhost:8080/",
          "height": 285
        },
        "id": "46c74d9d-96f0-4ba7-b9b4-4989d4543610",
        "outputId": "4e244bd3-516b-4c33-f440-be1a19c6d087"
      },
      "outputs": [
        {
          "output_type": "execute_result",
          "data": {
            "text/plain": [
              "   Sample code number  Clump Thickness  Uniformity of Cell Size  \\\n",
              "0             1000025                5                        1   \n",
              "1             1002945                5                        4   \n",
              "2             1015425                3                        1   \n",
              "3             1016277                6                        8   \n",
              "4             1017023                4                        1   \n",
              "\n",
              "   Uniformity of Cell Shape  Marginal Adhesion  Single Epithelial Cell Size  \\\n",
              "0                         1                  1                            2   \n",
              "1                         4                  5                            7   \n",
              "2                         1                  1                            2   \n",
              "3                         8                  1                            3   \n",
              "4                         1                  3                            2   \n",
              "\n",
              "   Bare Nuclei  Bland Chromatin  Normal Nucleoli  Mitoses  Class  \n",
              "0            1                3                1        1      2  \n",
              "1           10                3                2        1      2  \n",
              "2            2                3                1        1      2  \n",
              "3            4                3                7        1      2  \n",
              "4            1                3                1        1      2  "
            ],
            "text/html": [
              "\n",
              "  <div id=\"df-b4558336-0189-475b-bafd-5d39d65c8979\">\n",
              "    <div class=\"colab-df-container\">\n",
              "      <div>\n",
              "<style scoped>\n",
              "    .dataframe tbody tr th:only-of-type {\n",
              "        vertical-align: middle;\n",
              "    }\n",
              "\n",
              "    .dataframe tbody tr th {\n",
              "        vertical-align: top;\n",
              "    }\n",
              "\n",
              "    .dataframe thead th {\n",
              "        text-align: right;\n",
              "    }\n",
              "</style>\n",
              "<table border=\"1\" class=\"dataframe\">\n",
              "  <thead>\n",
              "    <tr style=\"text-align: right;\">\n",
              "      <th></th>\n",
              "      <th>Sample code number</th>\n",
              "      <th>Clump Thickness</th>\n",
              "      <th>Uniformity of Cell Size</th>\n",
              "      <th>Uniformity of Cell Shape</th>\n",
              "      <th>Marginal Adhesion</th>\n",
              "      <th>Single Epithelial Cell Size</th>\n",
              "      <th>Bare Nuclei</th>\n",
              "      <th>Bland Chromatin</th>\n",
              "      <th>Normal Nucleoli</th>\n",
              "      <th>Mitoses</th>\n",
              "      <th>Class</th>\n",
              "    </tr>\n",
              "  </thead>\n",
              "  <tbody>\n",
              "    <tr>\n",
              "      <th>0</th>\n",
              "      <td>1000025</td>\n",
              "      <td>5</td>\n",
              "      <td>1</td>\n",
              "      <td>1</td>\n",
              "      <td>1</td>\n",
              "      <td>2</td>\n",
              "      <td>1</td>\n",
              "      <td>3</td>\n",
              "      <td>1</td>\n",
              "      <td>1</td>\n",
              "      <td>2</td>\n",
              "    </tr>\n",
              "    <tr>\n",
              "      <th>1</th>\n",
              "      <td>1002945</td>\n",
              "      <td>5</td>\n",
              "      <td>4</td>\n",
              "      <td>4</td>\n",
              "      <td>5</td>\n",
              "      <td>7</td>\n",
              "      <td>10</td>\n",
              "      <td>3</td>\n",
              "      <td>2</td>\n",
              "      <td>1</td>\n",
              "      <td>2</td>\n",
              "    </tr>\n",
              "    <tr>\n",
              "      <th>2</th>\n",
              "      <td>1015425</td>\n",
              "      <td>3</td>\n",
              "      <td>1</td>\n",
              "      <td>1</td>\n",
              "      <td>1</td>\n",
              "      <td>2</td>\n",
              "      <td>2</td>\n",
              "      <td>3</td>\n",
              "      <td>1</td>\n",
              "      <td>1</td>\n",
              "      <td>2</td>\n",
              "    </tr>\n",
              "    <tr>\n",
              "      <th>3</th>\n",
              "      <td>1016277</td>\n",
              "      <td>6</td>\n",
              "      <td>8</td>\n",
              "      <td>8</td>\n",
              "      <td>1</td>\n",
              "      <td>3</td>\n",
              "      <td>4</td>\n",
              "      <td>3</td>\n",
              "      <td>7</td>\n",
              "      <td>1</td>\n",
              "      <td>2</td>\n",
              "    </tr>\n",
              "    <tr>\n",
              "      <th>4</th>\n",
              "      <td>1017023</td>\n",
              "      <td>4</td>\n",
              "      <td>1</td>\n",
              "      <td>1</td>\n",
              "      <td>3</td>\n",
              "      <td>2</td>\n",
              "      <td>1</td>\n",
              "      <td>3</td>\n",
              "      <td>1</td>\n",
              "      <td>1</td>\n",
              "      <td>2</td>\n",
              "    </tr>\n",
              "  </tbody>\n",
              "</table>\n",
              "</div>\n",
              "      <button class=\"colab-df-convert\" onclick=\"convertToInteractive('df-b4558336-0189-475b-bafd-5d39d65c8979')\"\n",
              "              title=\"Convert this dataframe to an interactive table.\"\n",
              "              style=\"display:none;\">\n",
              "        \n",
              "  <svg xmlns=\"http://www.w3.org/2000/svg\" height=\"24px\"viewBox=\"0 0 24 24\"\n",
              "       width=\"24px\">\n",
              "    <path d=\"M0 0h24v24H0V0z\" fill=\"none\"/>\n",
              "    <path d=\"M18.56 5.44l.94 2.06.94-2.06 2.06-.94-2.06-.94-.94-2.06-.94 2.06-2.06.94zm-11 1L8.5 8.5l.94-2.06 2.06-.94-2.06-.94L8.5 2.5l-.94 2.06-2.06.94zm10 10l.94 2.06.94-2.06 2.06-.94-2.06-.94-.94-2.06-.94 2.06-2.06.94z\"/><path d=\"M17.41 7.96l-1.37-1.37c-.4-.4-.92-.59-1.43-.59-.52 0-1.04.2-1.43.59L10.3 9.45l-7.72 7.72c-.78.78-.78 2.05 0 2.83L4 21.41c.39.39.9.59 1.41.59.51 0 1.02-.2 1.41-.59l7.78-7.78 2.81-2.81c.8-.78.8-2.07 0-2.86zM5.41 20L4 18.59l7.72-7.72 1.47 1.35L5.41 20z\"/>\n",
              "  </svg>\n",
              "      </button>\n",
              "      \n",
              "  <style>\n",
              "    .colab-df-container {\n",
              "      display:flex;\n",
              "      flex-wrap:wrap;\n",
              "      gap: 12px;\n",
              "    }\n",
              "\n",
              "    .colab-df-convert {\n",
              "      background-color: #E8F0FE;\n",
              "      border: none;\n",
              "      border-radius: 50%;\n",
              "      cursor: pointer;\n",
              "      display: none;\n",
              "      fill: #1967D2;\n",
              "      height: 32px;\n",
              "      padding: 0 0 0 0;\n",
              "      width: 32px;\n",
              "    }\n",
              "\n",
              "    .colab-df-convert:hover {\n",
              "      background-color: #E2EBFA;\n",
              "      box-shadow: 0px 1px 2px rgba(60, 64, 67, 0.3), 0px 1px 3px 1px rgba(60, 64, 67, 0.15);\n",
              "      fill: #174EA6;\n",
              "    }\n",
              "\n",
              "    [theme=dark] .colab-df-convert {\n",
              "      background-color: #3B4455;\n",
              "      fill: #D2E3FC;\n",
              "    }\n",
              "\n",
              "    [theme=dark] .colab-df-convert:hover {\n",
              "      background-color: #434B5C;\n",
              "      box-shadow: 0px 1px 3px 1px rgba(0, 0, 0, 0.15);\n",
              "      filter: drop-shadow(0px 1px 2px rgba(0, 0, 0, 0.3));\n",
              "      fill: #FFFFFF;\n",
              "    }\n",
              "  </style>\n",
              "\n",
              "      <script>\n",
              "        const buttonEl =\n",
              "          document.querySelector('#df-b4558336-0189-475b-bafd-5d39d65c8979 button.colab-df-convert');\n",
              "        buttonEl.style.display =\n",
              "          google.colab.kernel.accessAllowed ? 'block' : 'none';\n",
              "\n",
              "        async function convertToInteractive(key) {\n",
              "          const element = document.querySelector('#df-b4558336-0189-475b-bafd-5d39d65c8979');\n",
              "          const dataTable =\n",
              "            await google.colab.kernel.invokeFunction('convertToInteractive',\n",
              "                                                     [key], {});\n",
              "          if (!dataTable) return;\n",
              "\n",
              "          const docLinkHtml = 'Like what you see? Visit the ' +\n",
              "            '<a target=\"_blank\" href=https://colab.research.google.com/notebooks/data_table.ipynb>data table notebook</a>'\n",
              "            + ' to learn more about interactive tables.';\n",
              "          element.innerHTML = '';\n",
              "          dataTable['output_type'] = 'display_data';\n",
              "          await google.colab.output.renderOutput(dataTable, element);\n",
              "          const docLink = document.createElement('div');\n",
              "          docLink.innerHTML = docLinkHtml;\n",
              "          element.appendChild(docLink);\n",
              "        }\n",
              "      </script>\n",
              "    </div>\n",
              "  </div>\n",
              "  "
            ]
          },
          "metadata": {},
          "execution_count": 108
        }
      ],
      "source": [
        "df.head()"
      ]
    },
    {
      "cell_type": "code",
      "execution_count": 109,
      "id": "62bc4d8b-48fc-4f89-868e-de03e4fa4c90",
      "metadata": {
        "colab": {
          "base_uri": "https://localhost:8080/"
        },
        "id": "62bc4d8b-48fc-4f89-868e-de03e4fa4c90",
        "outputId": "a8b30783-6c5d-443a-b750-446715e87067"
      },
      "outputs": [
        {
          "output_type": "execute_result",
          "data": {
            "text/plain": [
              "array([2, 4])"
            ]
          },
          "metadata": {},
          "execution_count": 109
        }
      ],
      "source": [
        "## Let's see what are the classes\n",
        "df['Class'].unique()"
      ]
    },
    {
      "cell_type": "markdown",
      "id": "b70a209f-387b-445d-93a2-bd195f9082ed",
      "metadata": {
        "id": "b70a209f-387b-445d-93a2-bd195f9082ed"
      },
      "source": [
        "2 : Non cancerous\n",
        "4 : Cancerous\n",
        "\n",
        "We are mapping 2 with 0(non cancerous) and 4 with 1(cancerous)"
      ]
    },
    {
      "cell_type": "code",
      "execution_count": 110,
      "id": "2975c450-abc9-485a-a9c9-5730665fddf2",
      "metadata": {
        "id": "2975c450-abc9-485a-a9c9-5730665fddf2"
      },
      "outputs": [],
      "source": [
        "df['Class'] = df['Class'].map({2:0,4:1})"
      ]
    },
    {
      "cell_type": "code",
      "execution_count": 111,
      "id": "IXeL35f1tsDd",
      "metadata": {
        "id": "IXeL35f1tsDd"
      },
      "outputs": [],
      "source": [
        "class_names = ['non-cancerous','cancerous']"
      ]
    },
    {
      "cell_type": "code",
      "execution_count": 112,
      "id": "0dc60ad6-7a36-428d-9eff-8530dc2c54cf",
      "metadata": {
        "colab": {
          "base_uri": "https://localhost:8080/",
          "height": 351
        },
        "id": "0dc60ad6-7a36-428d-9eff-8530dc2c54cf",
        "outputId": "6c7a4397-82a7-40ed-d860-6d55ba21227d"
      },
      "outputs": [
        {
          "output_type": "stream",
          "name": "stderr",
          "text": [
            "/usr/local/lib/python3.7/dist-packages/seaborn/_decorators.py:43: FutureWarning: Pass the following variable as a keyword arg: x. From version 0.12, the only valid positional argument will be `data`, and passing other arguments without an explicit keyword will result in an error or misinterpretation.\n",
            "  FutureWarning\n"
          ]
        },
        {
          "output_type": "execute_result",
          "data": {
            "text/plain": [
              "<matplotlib.axes._subplots.AxesSubplot at 0x7f258103ec90>"
            ]
          },
          "metadata": {},
          "execution_count": 112
        },
        {
          "output_type": "display_data",
          "data": {
            "text/plain": [
              "<Figure size 432x288 with 1 Axes>"
            ],
            "image/png": "[encoded data removed]"
          },
          "metadata": {
            "needs_background": "light"
          }
        }
      ],
      "source": [
        "## Total counts of these classes \n",
        "sns.countplot(df['Class'])"
      ]
    },
    {
      "cell_type": "markdown",
      "id": "0cb183c1-e46e-40b6-8055-f0b7d672e893",
      "metadata": {
        "id": "0cb183c1-e46e-40b6-8055-f0b7d672e893"
      },
      "source": [
        "These is an imbalance dataset"
      ]
    },
    {
      "cell_type": "code",
      "execution_count": 113,
      "id": "ea350ebb-15c9-40c5-9b15-3cd919468815",
      "metadata": {
        "id": "ea350ebb-15c9-40c5-9b15-3cd919468815"
      },
      "outputs": [],
      "source": [
        "## Dropping the sample code number\n",
        "df.drop('Sample code number',axis=1,inplace=True)"
      ]
    },
    {
      "cell_type": "markdown",
      "id": "2f10ff87-a172-45b3-bc6f-fae5bd5061df",
      "metadata": {
        "id": "2f10ff87-a172-45b3-bc6f-fae5bd5061df"
      },
      "source": [
        "## Splitting the dataset into Train and test set"
      ]
    },
    {
      "cell_type": "code",
      "execution_count": 114,
      "id": "9ff8c274-edf5-4611-b07f-0a3d77624050",
      "metadata": {
        "id": "9ff8c274-edf5-4611-b07f-0a3d77624050"
      },
      "outputs": [],
      "source": [
        "x_train,x_test,y_train,y_test = train_test_split(df.drop('Class',axis=1),df['Class'],test_size=0.2,random_state=42)"
      ]
    },
    {
      "cell_type": "code",
      "execution_count": 115,
      "id": "JVe9cmIqpn7r",
      "metadata": {
        "id": "JVe9cmIqpn7r"
      },
      "outputs": [],
      "source": [
        "x_train = x_train.to_numpy()\n",
        "x_test = x_test.to_numpy()\n",
        "y_train = y_train.to_numpy()\n",
        "y_test = y_test.to_numpy()"
      ]
    },
    {
      "cell_type": "code",
      "execution_count": 116,
      "id": "82b97b66-c4f3-4e46-b1fe-ac5df398d8ac",
      "metadata": {
        "colab": {
          "base_uri": "https://localhost:8080/"
        },
        "id": "82b97b66-c4f3-4e46-b1fe-ac5df398d8ac",
        "outputId": "09cd1d51-0568-46af-f7a4-da7ccc53c2c3"
      },
      "outputs": [
        {
          "output_type": "stream",
          "name": "stdout",
          "text": [
            "Shape of x train :  (546, 9)\n",
            "Shape of x test :  (137, 9)\n",
            "Shape of y train :  (546,)\n",
            "Shape of y test :  (137,)\n"
          ]
        }
      ],
      "source": [
        "print('Shape of x train : ', x_train.shape)\n",
        "print('Shape of x test : ', x_test.shape)\n",
        "print('Shape of y train : ', y_train.shape)\n",
        "print('Shape of y test : ', y_test.shape)"
      ]
    },
    {
      "cell_type": "markdown",
      "id": "87eqgLlsjr04",
      "metadata": {
        "id": "87eqgLlsjr04"
      },
      "source": [
        "## Models"
      ]
    },
    {
      "cell_type": "code",
      "execution_count": 117,
      "id": "HzlhQdeZuOFq",
      "metadata": {
        "id": "HzlhQdeZuOFq"
      },
      "outputs": [],
      "source": [
        "def metrics(y_true,y_pred):\n",
        "  print('f1 score :',f1_score(y_true,y_pred))\n",
        "  print()\n",
        "  print('accuracy :',accuracy_score(y_true,y_pred))\n",
        "  print()\n",
        "  print('Classification Report--')\n",
        "  print(classification_report(y_true,y_pred,target_names=class_names))\n",
        "  print()\n",
        "  print('Confussion matrix--')\n",
        "  print(confusion_matrix(y_true,y_pred))\n",
        "\n"
      ]
    },
    {
      "cell_type": "markdown",
      "id": "jQBH1bdRmgDT",
      "metadata": {
        "id": "jQBH1bdRmgDT"
      },
      "source": [
        "### Naive Bias"
      ]
    },
    {
      "cell_type": "code",
      "execution_count": 118,
      "id": "WiwQbjiymiUw",
      "metadata": {
        "id": "WiwQbjiymiUw",
        "colab": {
          "base_uri": "https://localhost:8080/"
        },
        "outputId": "417be8ba-aa78-4e7d-8a78-1bf557481102"
      },
      "outputs": [
        {
          "output_type": "execute_result",
          "data": {
            "text/plain": [
              "GaussianNB()"
            ]
          },
          "metadata": {},
          "execution_count": 118
        }
      ],
      "source": [
        "from sklearn.naive_bayes import GaussianNB\n",
        "nb = GaussianNB()\n",
        "nb.fit(x_train,y_train)"
      ]
    },
    {
      "cell_type": "code",
      "execution_count": 119,
      "id": "bAYY-o7_qUcX",
      "metadata": {
        "id": "bAYY-o7_qUcX"
      },
      "outputs": [],
      "source": [
        "y_pred = nb.predict(x_test)"
      ]
    },
    {
      "cell_type": "code",
      "execution_count": 120,
      "id": "-VAXG5wyviHy",
      "metadata": {
        "colab": {
          "base_uri": "https://localhost:8080/"
        },
        "id": "-VAXG5wyviHy",
        "outputId": "9beefce5-93ed-4275-cbae-f39fb5fa03b3"
      },
      "outputs": [
        {
          "output_type": "stream",
          "name": "stdout",
          "text": [
            "f1 score : 0.9482758620689655\n",
            "\n",
            "accuracy : 0.9562043795620438\n",
            "\n",
            "Classification Report--\n",
            "               precision    recall  f1-score   support\n",
            "\n",
            "non-cancerous       0.96      0.96      0.96        79\n",
            "    cancerous       0.95      0.95      0.95        58\n",
            "\n",
            "     accuracy                           0.96       137\n",
            "    macro avg       0.96      0.96      0.96       137\n",
            " weighted avg       0.96      0.96      0.96       137\n",
            "\n",
            "\n",
            "Confussion matrix--\n",
            "[[76  3]\n",
            " [ 3 55]]\n"
          ]
        }
      ],
      "source": [
        "metrics(y_test,y_pred)"
      ]
    },
    {
      "cell_type": "markdown",
      "id": "RztTOiF0sbgV",
      "metadata": {
        "id": "RztTOiF0sbgV"
      },
      "source": [
        "### Ridge classifier"
      ]
    },
    {
      "cell_type": "markdown",
      "id": "HBW_v7J5ndjI",
      "metadata": {
        "id": "HBW_v7J5ndjI"
      },
      "source": [
        "### Random forest classifier"
      ]
    },
    {
      "cell_type": "markdown",
      "id": "0wAreq80woad",
      "metadata": {
        "id": "0wAreq80woad"
      },
      "source": [
        "### Logistic Regression"
      ]
    },
    {
      "cell_type": "markdown",
      "id": "Dim3uGy9x6pS",
      "metadata": {
        "id": "Dim3uGy9x6pS"
      },
      "source": [
        "### k nearest neighbours"
      ]
    },
    {
      "cell_type": "markdown",
      "id": "6_qVizHnylij",
      "metadata": {
        "id": "6_qVizHnylij"
      },
      "source": [
        "### Feed-forward-neural-network"
      ]
    },
    {
      "cell_type": "markdown",
      "source": [
        "### Visualization of results"
      ],
      "metadata": {
        "id": "AyFdyKYBsFP0"
      },
      "id": "AyFdyKYBsFP0"
    },
    {
      "cell_type": "code",
      "source": [
        "def cmatrix(y_test,y_pred):\n",
        "  cm=confusion_matrix(y_test,y_pred)\n",
        "  group_names=['True Neg','False Pos','False Neg','True Pos']\n",
        "  group_counts = [\"{0:0.0f}\".format(value) for value in\n",
        "                  cm.flatten()]\n",
        "  group_percentages = [\"{0:.2%}\".format(value) for value in\n",
        "                      cm.flatten()/np.sum(cm)]\n",
        "  labels = [f\"{v1}\\n{v2}\\n{v3}\" for v1, v2, v3 in\n",
        "            zip(group_names,group_counts,group_percentages)]\n",
        "  labels = np.asarray(labels).reshape(2,2)\n",
        "  categories = ['Zero', 'One']\n",
        "  accuracy  = np.trace(cm) / float(np.sum(cm))\n",
        "  precision = cm[1,1] / sum(cm[:,1])\n",
        "  recall    = cm[1,1] / sum(cm[1,:])\n",
        "  f1_score  = 2*precision*recall / (precision + recall)\n",
        "  stats_text = \"\\n\\n Accuracy={:0.3f}\\n Precision={:0.3f}\\n Recall={:0.3f}\\n F1 Score={:0.3f}\".format(accuracy,precision,recall,f1_score)\n",
        "  sns.heatmap(cm, xticklabels=categories,yticklabels=categories,annot=labels, fmt='',cmap='coolwarm')\n",
        "  plt.xlabel('Predicted label'+stats_text)\n",
        "  plt.ylabel('True label')\n",
        "  plt.show()"
      ],
      "metadata": {
        "id": "NtJHsbAql-Dh"
      },
      "id": "NtJHsbAql-Dh",
      "execution_count": 135,
      "outputs": []
    },
    {
      "cell_type": "code",
      "source": [
        ""
      ],
      "metadata": {
        "id": "GaWWyBHTxZjz"
      },
      "id": "GaWWyBHTxZjz",
      "execution_count": 122,
      "outputs": []
    }
  ],
  "metadata": {
    "colab": {
      "collapsed_sections": [
        "RztTOiF0sbgV",
        "HBW_v7J5ndjI",
        "0wAreq80woad",
        "Dim3uGy9x6pS",
        "6_qVizHnylij"
      ],
      "name": "Cancer_prediction.ipynb",
      "provenance": []
    },
    "gpuClass": "standard",
    "kernelspec": {
      "display_name": "Python 3",
      "name": "python3"
    },
    "language_info": {
      "name": "python"
    }
  },
  "nbformat": 4,
  "nbformat_minor": 5
}