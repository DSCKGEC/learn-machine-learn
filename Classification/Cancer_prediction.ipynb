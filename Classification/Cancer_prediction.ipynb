{
 "cells": [
  {
   "cell_type": "markdown",
   "metadata": {
    "cell_id": "c6feeb7a-aad5-498c-81db-0873de509062",
    "deepnote_cell_height": 120.390625,
    "deepnote_cell_type": "markdown",
    "id": "e9109d62-5d63-4920-a893-67bffd44ed23"
   },
   "source": [
    "# Cancer Prediction\n",
    "\n",
    "This notebook is a part of **Developer Student Clubs KGEC**.\n"
   ]
  },
  {
   "cell_type": "markdown",
   "metadata": {
    "cell_id": "00001-47c1314b-f027-40e7-a929-3c89bf158bfd",
    "deepnote_cell_height": 70,
    "deepnote_cell_type": "markdown",
    "id": "7008492c-9648-4a8d-81ec-33404ff684e3"
   },
   "source": [
    "## Module imports"
   ]
  },
  {
   "cell_type": "code",
   "execution_count": 1,
   "metadata": {
    "cell_id": "00002-4c683bad-2175-47b1-a3f3-1c8496fa5cc8",
    "deepnote_cell_height": 274,
    "deepnote_cell_type": "code",
    "deepnote_to_be_reexecuted": false,
    "execution_millis": 2511,
    "execution_start": 1659161884093,
    "id": "7b052a51-7fa2-441f-9c93-f4e0085b3fe4",
    "source_hash": "83de634a"
   },
   "outputs": [],
   "source": [
    "import pandas as pd\n",
    "import numpy as np\n",
    "\n",
    "# Data visualization libraries\n",
    "import seaborn as sns\n",
    "import matplotlib.pyplot as plt\n",
    "\n",
    "# Scikit-Learn\n",
    "from sklearn.model_selection import train_test_split\n",
    "\n",
    "# Evaluation metrics\n",
    "from sklearn.metrics import accuracy_score,classification_report,confusion_matrix"
   ]
  },
  {
   "cell_type": "markdown",
   "metadata": {
    "cell_id": "00003-19992b92-97e1-4b7f-a3cc-0ebb64075c3e",
    "deepnote_cell_height": 70,
    "deepnote_cell_type": "markdown",
    "id": "01b6b267-0515-4135-9bdc-fb1d1e622961"
   },
   "source": [
    "## Importing dataset"
   ]
  },
  {
   "cell_type": "markdown",
   "metadata": {
    "cell_id": "00004-d599a9fd-01f5-4d3e-9394-6ccd6ad269c1",
    "deepnote_cell_height": 52.390625,
    "deepnote_cell_type": "markdown",
    "id": "WGvtYUVDu01n"
   },
   "source": [
    "`Please upload the dataset in zip format direclty in google colab(not through google drive)`"
   ]
  },
  {
   "cell_type": "code",
   "execution_count": 2,
   "metadata": {
    "cell_id": "00005-4fd26b67-52f5-4659-9d38-e523af08df76",
    "colab": {
     "base_uri": "https://localhost:8080/"
    },
    "deepnote_cell_height": 76,
    "deepnote_cell_type": "code",
    "deepnote_to_be_reexecuted": false,
    "execution_millis": 10,
    "execution_start": 1659161886613,
    "id": "f2u7NMUji1uo",
    "outputId": "2c03f61a-0977-441c-f114-1821053e4c34",
    "source_hash": "5fb2beda"
   },
   "outputs": [],
   "source": [
    "!unzip /content/cancer_data.csv.zip"
   ]
  },
  {
   "cell_type": "code",
   "execution_count": 3,
   "metadata": {
    "cell_id": "00006-0f3dc3b8-734c-4066-ae85-c3d258a914d2",
    "deepnote_cell_height": 94,
    "deepnote_cell_type": "code",
    "deepnote_to_be_reexecuted": false,
    "execution_millis": 26,
    "execution_start": 1659161886630,
    "id": "2e34f4d0-20ad-4f8c-a5e8-36b88065479d",
    "source_hash": "4110fbcb"
   },
   "outputs": [],
   "source": [
    "DATASET_PATH = 'Datasets/cancer_data.csv'\n",
    "cancer_data = pd.read_csv(DATASET_PATH)"
   ]
  },
  {
   "cell_type": "markdown",
   "metadata": {
    "cell_id": "00007-efc96f02-a72c-453f-b176-7faa99d5c748",
    "deepnote_cell_height": 70,
    "deepnote_cell_type": "markdown",
    "id": "70ce000f-dfbd-4de6-ae1b-04ffe9ed46c8"
   },
   "source": [
    "## Exploratory Data Analysis"
   ]
  },
  {
   "cell_type": "code",
   "execution_count": 4,
   "metadata": {
    "cell_id": "00008-c7f5d89c-1419-463e-abe9-d2976e68d1ce",
    "colab": {
     "base_uri": "https://localhost:8080/"
    },
    "deepnote_cell_height": 113.171875,
    "deepnote_cell_type": "code",
    "deepnote_output_heights": [
     21.1875
    ],
    "deepnote_to_be_reexecuted": false,
    "execution_millis": 26,
    "execution_start": 1659161886676,
    "id": "dd944250-abbf-4468-8f19-34e3999c4f82",
    "outputId": "4d917903-e698-41ba-be52-7752b86a341b",
    "source_hash": "7e04af3e"
   },
   "outputs": [
    {
     "data": {
      "text/plain": [
       "(683, 11)"
      ]
     },
     "execution_count": 4,
     "metadata": {},
     "output_type": "execute_result"
    }
   ],
   "source": [
    "cancer_data.shape"
   ]
  },
  {
   "cell_type": "code",
   "execution_count": 5,
   "metadata": {
    "cell_id": "00009-1a7b98dd-6eb5-4777-8083-329e165e0b62",
    "colab": {
     "base_uri": "https://localhost:8080/"
    },
    "deepnote_cell_height": 342.296875,
    "deepnote_cell_type": "code",
    "deepnote_output_heights": [
     232.3125
    ],
    "deepnote_to_be_reexecuted": false,
    "execution_millis": 52,
    "execution_start": 1659161886707,
    "id": "9d3e7d53-848b-47a2-b2ef-da8cdcd38697",
    "outputId": "0b4309cc-6a20-4f03-8dc6-e5ebb7fd254d",
    "source_hash": "8d21359e"
   },
   "outputs": [
    {
     "data": {
      "text/plain": [
       "Sample code number             0\n",
       "Clump Thickness                0\n",
       "Uniformity of Cell Size        0\n",
       "Uniformity of Cell Shape       0\n",
       "Marginal Adhesion              0\n",
       "Single Epithelial Cell Size    0\n",
       "Bare Nuclei                    0\n",
       "Bland Chromatin                0\n",
       "Normal Nucleoli                0\n",
       "Mitoses                        0\n",
       "Class                          0\n",
       "dtype: int64"
      ]
     },
     "execution_count": 5,
     "metadata": {},
     "output_type": "execute_result"
    }
   ],
   "source": [
    "## Checking for null values\n",
    "cancer_data.isnull().sum()"
   ]
  },
  {
   "cell_type": "code",
   "execution_count": 6,
   "metadata": {
    "cell_id": "00010-70f6692d-ad8b-42f1-acb0-59b656347544",
    "colab": {
     "base_uri": "https://localhost:8080/"
    },
    "deepnote_cell_height": 189.9375,
    "deepnote_cell_type": "code",
    "deepnote_output_heights": [
     97.953125
    ],
    "deepnote_to_be_reexecuted": false,
    "execution_millis": 2,
    "execution_start": 1659161886759,
    "id": "3488d2b3-f069-40d5-bc96-2d788a21419e",
    "outputId": "526df08d-10cb-4f29-f2a0-efe93ad2017f",
    "source_hash": "34126874"
   },
   "outputs": [
    {
     "data": {
      "text/plain": [
       "Index(['Sample code number', 'Clump Thickness', 'Uniformity of Cell Size',\n",
       "       'Uniformity of Cell Shape', 'Marginal Adhesion',\n",
       "       'Single Epithelial Cell Size', 'Bare Nuclei', 'Bland Chromatin',\n",
       "       'Normal Nucleoli', 'Mitoses', 'Class'],\n",
       "      dtype='object')"
      ]
     },
     "execution_count": 6,
     "metadata": {},
     "output_type": "execute_result"
    }
   ],
   "source": [
    "cancer_data.columns"
   ]
  },
  {
   "cell_type": "code",
   "execution_count": 7,
   "metadata": {
    "cell_id": "00011-efca22db-6be2-4981-9216-44364e3c954c",
    "colab": {
     "base_uri": "https://localhost:8080/",
     "height": 301
    },
    "deepnote_cell_height": 405.265625,
    "deepnote_cell_type": "code",
    "deepnote_to_be_reexecuted": false,
    "execution_millis": 44,
    "execution_start": 1659161886760,
    "id": "46c74d9d-96f0-4ba7-b9b4-4989d4543610",
    "outputId": "35aec0d3-8d78-49a5-f047-138d67f8aba6",
    "source_hash": "b6e8933c"
   },
   "outputs": [
    {
     "data": {
      "application/vnd.deepnote.dataframe.v3+json": {
       "column_count": 11,
       "columns": [
        {
         "dtype": "int64",
         "name": "Sample code number",
         "stats": {
          "histogram": [
           {
            "bin_end": 1001724.8,
            "bin_start": 1000025,
            "count": 1
           },
           {
            "bin_end": 1003424.6,
            "bin_start": 1001724.8,
            "count": 1
           },
           {
            "bin_end": 1005124.4,
            "bin_start": 1003424.6,
            "count": 0
           },
           {
            "bin_end": 1006824.2,
            "bin_start": 1005124.4,
            "count": 0
           },
           {
            "bin_end": 1008524,
            "bin_start": 1006824.2,
            "count": 0
           },
           {
            "bin_end": 1010223.8,
            "bin_start": 1008524,
            "count": 0
           },
           {
            "bin_end": 1011923.6,
            "bin_start": 1010223.8,
            "count": 0
           },
           {
            "bin_end": 1013623.4,
            "bin_start": 1011923.6,
            "count": 0
           },
           {
            "bin_end": 1015323.2,
            "bin_start": 1013623.4,
            "count": 0
           },
           {
            "bin_end": 1017023,
            "bin_start": 1015323.2,
            "count": 3
           }
          ],
          "max": "1017023",
          "min": "1000025",
          "nan_count": 0,
          "unique_count": 5
         }
        },
        {
         "dtype": "int64",
         "name": "Clump Thickness",
         "stats": {
          "histogram": [
           {
            "bin_end": 3.3,
            "bin_start": 3,
            "count": 1
           },
           {
            "bin_end": 3.6,
            "bin_start": 3.3,
            "count": 0
           },
           {
            "bin_end": 3.9,
            "bin_start": 3.6,
            "count": 0
           },
           {
            "bin_end": 4.2,
            "bin_start": 3.9,
            "count": 1
           },
           {
            "bin_end": 4.5,
            "bin_start": 4.2,
            "count": 0
           },
           {
            "bin_end": 4.8,
            "bin_start": 4.5,
            "count": 0
           },
           {
            "bin_end": 5.1,
            "bin_start": 4.8,
            "count": 2
           },
           {
            "bin_end": 5.4,
            "bin_start": 5.1,
            "count": 0
           },
           {
            "bin_end": 5.699999999999999,
            "bin_start": 5.4,
            "count": 0
           },
           {
            "bin_end": 6,
            "bin_start": 5.699999999999999,
            "count": 1
           }
          ],
          "max": "6",
          "min": "3",
          "nan_count": 0,
          "unique_count": 4
         }
        },
        {
         "dtype": "int64",
         "name": "Uniformity of Cell Size",
         "stats": {
          "histogram": [
           {
            "bin_end": 1.7,
            "bin_start": 1,
            "count": 3
           },
           {
            "bin_end": 2.4,
            "bin_start": 1.7,
            "count": 0
           },
           {
            "bin_end": 3.0999999999999996,
            "bin_start": 2.4,
            "count": 0
           },
           {
            "bin_end": 3.8,
            "bin_start": 3.0999999999999996,
            "count": 0
           },
           {
            "bin_end": 4.5,
            "bin_start": 3.8,
            "count": 1
           },
           {
            "bin_end": 5.199999999999999,
            "bin_start": 4.5,
            "count": 0
           },
           {
            "bin_end": 5.8999999999999995,
            "bin_start": 5.199999999999999,
            "count": 0
           },
           {
            "bin_end": 6.6,
            "bin_start": 5.8999999999999995,
            "count": 0
           },
           {
            "bin_end": 7.3,
            "bin_start": 6.6,
            "count": 0
           },
           {
            "bin_end": 8,
            "bin_start": 7.3,
            "count": 1
           }
          ],
          "max": "8",
          "min": "1",
          "nan_count": 0,
          "unique_count": 3
         }
        },
        {
         "dtype": "int64",
         "name": "Uniformity of Cell Shape",
         "stats": {
          "histogram": [
           {
            "bin_end": 1.7,
            "bin_start": 1,
            "count": 3
           },
           {
            "bin_end": 2.4,
            "bin_start": 1.7,
            "count": 0
           },
           {
            "bin_end": 3.0999999999999996,
            "bin_start": 2.4,
            "count": 0
           },
           {
            "bin_end": 3.8,
            "bin_start": 3.0999999999999996,
            "count": 0
           },
           {
            "bin_end": 4.5,
            "bin_start": 3.8,
            "count": 1
           },
           {
            "bin_end": 5.199999999999999,
            "bin_start": 4.5,
            "count": 0
           },
           {
            "bin_end": 5.8999999999999995,
            "bin_start": 5.199999999999999,
            "count": 0
           },
           {
            "bin_end": 6.6,
            "bin_start": 5.8999999999999995,
            "count": 0
           },
           {
            "bin_end": 7.3,
            "bin_start": 6.6,
            "count": 0
           },
           {
            "bin_end": 8,
            "bin_start": 7.3,
            "count": 1
           }
          ],
          "max": "8",
          "min": "1",
          "nan_count": 0,
          "unique_count": 3
         }
        },
        {
         "dtype": "int64",
         "name": "Marginal Adhesion",
         "stats": {
          "histogram": [
           {
            "bin_end": 1.4,
            "bin_start": 1,
            "count": 3
           },
           {
            "bin_end": 1.8,
            "bin_start": 1.4,
            "count": 0
           },
           {
            "bin_end": 2.2,
            "bin_start": 1.8,
            "count": 0
           },
           {
            "bin_end": 2.6,
            "bin_start": 2.2,
            "count": 0
           },
           {
            "bin_end": 3,
            "bin_start": 2.6,
            "count": 0
           },
           {
            "bin_end": 3.4000000000000004,
            "bin_start": 3,
            "count": 1
           },
           {
            "bin_end": 3.8000000000000003,
            "bin_start": 3.4000000000000004,
            "count": 0
           },
           {
            "bin_end": 4.2,
            "bin_start": 3.8000000000000003,
            "count": 0
           },
           {
            "bin_end": 4.6,
            "bin_start": 4.2,
            "count": 0
           },
           {
            "bin_end": 5,
            "bin_start": 4.6,
            "count": 1
           }
          ],
          "max": "5",
          "min": "1",
          "nan_count": 0,
          "unique_count": 3
         }
        },
        {
         "dtype": "int64",
         "name": "Single Epithelial Cell Size",
         "stats": {
          "histogram": [
           {
            "bin_end": 2.5,
            "bin_start": 2,
            "count": 3
           },
           {
            "bin_end": 3,
            "bin_start": 2.5,
            "count": 0
           },
           {
            "bin_end": 3.5,
            "bin_start": 3,
            "count": 1
           },
           {
            "bin_end": 4,
            "bin_start": 3.5,
            "count": 0
           },
           {
            "bin_end": 4.5,
            "bin_start": 4,
            "count": 0
           },
           {
            "bin_end": 5,
            "bin_start": 4.5,
            "count": 0
           },
           {
            "bin_end": 5.5,
            "bin_start": 5,
            "count": 0
           },
           {
            "bin_end": 6,
            "bin_start": 5.5,
            "count": 0
           },
           {
            "bin_end": 6.5,
            "bin_start": 6,
            "count": 0
           },
           {
            "bin_end": 7,
            "bin_start": 6.5,
            "count": 1
           }
          ],
          "max": "7",
          "min": "2",
          "nan_count": 0,
          "unique_count": 3
         }
        },
        {
         "dtype": "int64",
         "name": "Bare Nuclei",
         "stats": {
          "histogram": [
           {
            "bin_end": 1.9,
            "bin_start": 1,
            "count": 2
           },
           {
            "bin_end": 2.8,
            "bin_start": 1.9,
            "count": 1
           },
           {
            "bin_end": 3.7,
            "bin_start": 2.8,
            "count": 0
           },
           {
            "bin_end": 4.6,
            "bin_start": 3.7,
            "count": 1
           },
           {
            "bin_end": 5.5,
            "bin_start": 4.6,
            "count": 0
           },
           {
            "bin_end": 6.4,
            "bin_start": 5.5,
            "count": 0
           },
           {
            "bin_end": 7.3,
            "bin_start": 6.4,
            "count": 0
           },
           {
            "bin_end": 8.2,
            "bin_start": 7.3,
            "count": 0
           },
           {
            "bin_end": 9.1,
            "bin_start": 8.2,
            "count": 0
           },
           {
            "bin_end": 10,
            "bin_start": 9.1,
            "count": 1
           }
          ],
          "max": "10",
          "min": "1",
          "nan_count": 0,
          "unique_count": 4
         }
        },
        {
         "dtype": "int64",
         "name": "Bland Chromatin",
         "stats": {
          "histogram": [
           {
            "bin_end": 2.6,
            "bin_start": 2.5,
            "count": 0
           },
           {
            "bin_end": 2.7,
            "bin_start": 2.6,
            "count": 0
           },
           {
            "bin_end": 2.8,
            "bin_start": 2.7,
            "count": 0
           },
           {
            "bin_end": 2.9,
            "bin_start": 2.8,
            "count": 0
           },
           {
            "bin_end": 3,
            "bin_start": 2.9,
            "count": 0
           },
           {
            "bin_end": 3.1,
            "bin_start": 3,
            "count": 5
           },
           {
            "bin_end": 3.2,
            "bin_start": 3.1,
            "count": 0
           },
           {
            "bin_end": 3.3,
            "bin_start": 3.2,
            "count": 0
           },
           {
            "bin_end": 3.4,
            "bin_start": 3.3,
            "count": 0
           },
           {
            "bin_end": 3.5,
            "bin_start": 3.4,
            "count": 0
           }
          ],
          "max": "3",
          "min": "3",
          "nan_count": 0,
          "unique_count": 1
         }
        },
        {
         "dtype": "int64",
         "name": "Normal Nucleoli",
         "stats": {
          "histogram": [
           {
            "bin_end": 1.6,
            "bin_start": 1,
            "count": 3
           },
           {
            "bin_end": 2.2,
            "bin_start": 1.6,
            "count": 1
           },
           {
            "bin_end": 2.8,
            "bin_start": 2.2,
            "count": 0
           },
           {
            "bin_end": 3.4,
            "bin_start": 2.8,
            "count": 0
           },
           {
            "bin_end": 4,
            "bin_start": 3.4,
            "count": 0
           },
           {
            "bin_end": 4.6,
            "bin_start": 4,
            "count": 0
           },
           {
            "bin_end": 5.2,
            "bin_start": 4.6,
            "count": 0
           },
           {
            "bin_end": 5.8,
            "bin_start": 5.2,
            "count": 0
           },
           {
            "bin_end": 6.3999999999999995,
            "bin_start": 5.8,
            "count": 0
           },
           {
            "bin_end": 7,
            "bin_start": 6.3999999999999995,
            "count": 1
           }
          ],
          "max": "7",
          "min": "1",
          "nan_count": 0,
          "unique_count": 3
         }
        },
        {
         "dtype": "int64",
         "name": "Mitoses",
         "stats": {
          "histogram": [
           {
            "bin_end": 0.6,
            "bin_start": 0.5,
            "count": 0
           },
           {
            "bin_end": 0.7,
            "bin_start": 0.6,
            "count": 0
           },
           {
            "bin_end": 0.8,
            "bin_start": 0.7,
            "count": 0
           },
           {
            "bin_end": 0.9,
            "bin_start": 0.8,
            "count": 0
           },
           {
            "bin_end": 1,
            "bin_start": 0.9,
            "count": 0
           },
           {
            "bin_end": 1.1,
            "bin_start": 1,
            "count": 5
           },
           {
            "bin_end": 1.2000000000000002,
            "bin_start": 1.1,
            "count": 0
           },
           {
            "bin_end": 1.3,
            "bin_start": 1.2000000000000002,
            "count": 0
           },
           {
            "bin_end": 1.4,
            "bin_start": 1.3,
            "count": 0
           },
           {
            "bin_end": 1.5,
            "bin_start": 1.4,
            "count": 0
           }
          ],
          "max": "1",
          "min": "1",
          "nan_count": 0,
          "unique_count": 1
         }
        },
        {
         "dtype": "int64",
         "name": "Class",
         "stats": {
          "histogram": [
           {
            "bin_end": 1.6,
            "bin_start": 1.5,
            "count": 0
           },
           {
            "bin_end": 1.7,
            "bin_start": 1.6,
            "count": 0
           },
           {
            "bin_end": 1.8,
            "bin_start": 1.7,
            "count": 0
           },
           {
            "bin_end": 1.9,
            "bin_start": 1.8,
            "count": 0
           },
           {
            "bin_end": 2,
            "bin_start": 1.9,
            "count": 0
           },
           {
            "bin_end": 2.1,
            "bin_start": 2,
            "count": 5
           },
           {
            "bin_end": 2.2,
            "bin_start": 2.1,
            "count": 0
           },
           {
            "bin_end": 2.3,
            "bin_start": 2.2,
            "count": 0
           },
           {
            "bin_end": 2.4,
            "bin_start": 2.3,
            "count": 0
           },
           {
            "bin_end": 2.5,
            "bin_start": 2.4,
            "count": 0
           }
          ],
          "max": "2",
          "min": "2",
          "nan_count": 0,
          "unique_count": 1
         }
        },
        {
         "dtype": "int64",
         "name": "_deepnote_index_column"
        }
       ],
       "row_count": 5,
       "rows": [
        {
         "Bare Nuclei": 1,
         "Bland Chromatin": 3,
         "Class": 2,
         "Clump Thickness": 5,
         "Marginal Adhesion": 1,
         "Mitoses": 1,
         "Normal Nucleoli": 1,
         "Sample code number": 1000025,
         "Single Epithelial Cell Size": 2,
         "Uniformity of Cell Shape": 1,
         "Uniformity of Cell Size": 1,
         "_deepnote_index_column": 0
        },
        {
         "Bare Nuclei": 10,
         "Bland Chromatin": 3,
         "Class": 2,
         "Clump Thickness": 5,
         "Marginal Adhesion": 5,
         "Mitoses": 1,
         "Normal Nucleoli": 2,
         "Sample code number": 1002945,
         "Single Epithelial Cell Size": 7,
         "Uniformity of Cell Shape": 4,
         "Uniformity of Cell Size": 4,
         "_deepnote_index_column": 1
        },
        {
         "Bare Nuclei": 2,
         "Bland Chromatin": 3,
         "Class": 2,
         "Clump Thickness": 3,
         "Marginal Adhesion": 1,
         "Mitoses": 1,
         "Normal Nucleoli": 1,
         "Sample code number": 1015425,
         "Single Epithelial Cell Size": 2,
         "Uniformity of Cell Shape": 1,
         "Uniformity of Cell Size": 1,
         "_deepnote_index_column": 2
        },
        {
         "Bare Nuclei": 4,
         "Bland Chromatin": 3,
         "Class": 2,
         "Clump Thickness": 6,
         "Marginal Adhesion": 1,
         "Mitoses": 1,
         "Normal Nucleoli": 7,
         "Sample code number": 1016277,
         "Single Epithelial Cell Size": 3,
         "Uniformity of Cell Shape": 8,
         "Uniformity of Cell Size": 8,
         "_deepnote_index_column": 3
        },
        {
         "Bare Nuclei": 1,
         "Bland Chromatin": 3,
         "Class": 2,
         "Clump Thickness": 4,
         "Marginal Adhesion": 3,
         "Mitoses": 1,
         "Normal Nucleoli": 1,
         "Sample code number": 1017023,
         "Single Epithelial Cell Size": 2,
         "Uniformity of Cell Shape": 1,
         "Uniformity of Cell Size": 1,
         "_deepnote_index_column": 4
        }
       ]
      },
      "text/html": [
       "<div>\n",
       "<style scoped>\n",
       "    .dataframe tbody tr th:only-of-type {\n",
       "        vertical-align: middle;\n",
       "    }\n",
       "\n",
       "    .dataframe tbody tr th {\n",
       "        vertical-align: top;\n",
       "    }\n",
       "\n",
       "    .dataframe thead th {\n",
       "        text-align: right;\n",
       "    }\n",
       "</style>\n",
       "<table border=\"1\" class=\"dataframe\">\n",
       "  <thead>\n",
       "    <tr style=\"text-align: right;\">\n",
       "      <th></th>\n",
       "      <th>Sample code number</th>\n",
       "      <th>Clump Thickness</th>\n",
       "      <th>Uniformity of Cell Size</th>\n",
       "      <th>Uniformity of Cell Shape</th>\n",
       "      <th>Marginal Adhesion</th>\n",
       "      <th>Single Epithelial Cell Size</th>\n",
       "      <th>Bare Nuclei</th>\n",
       "      <th>Bland Chromatin</th>\n",
       "      <th>Normal Nucleoli</th>\n",
       "      <th>Mitoses</th>\n",
       "      <th>Class</th>\n",
       "    </tr>\n",
       "  </thead>\n",
       "  <tbody>\n",
       "    <tr>\n",
       "      <th>0</th>\n",
       "      <td>1000025</td>\n",
       "      <td>5</td>\n",
       "      <td>1</td>\n",
       "      <td>1</td>\n",
       "      <td>1</td>\n",
       "      <td>2</td>\n",
       "      <td>1</td>\n",
       "      <td>3</td>\n",
       "      <td>1</td>\n",
       "      <td>1</td>\n",
       "      <td>2</td>\n",
       "    </tr>\n",
       "    <tr>\n",
       "      <th>1</th>\n",
       "      <td>1002945</td>\n",
       "      <td>5</td>\n",
       "      <td>4</td>\n",
       "      <td>4</td>\n",
       "      <td>5</td>\n",
       "      <td>7</td>\n",
       "      <td>10</td>\n",
       "      <td>3</td>\n",
       "      <td>2</td>\n",
       "      <td>1</td>\n",
       "      <td>2</td>\n",
       "    </tr>\n",
       "    <tr>\n",
       "      <th>2</th>\n",
       "      <td>1015425</td>\n",
       "      <td>3</td>\n",
       "      <td>1</td>\n",
       "      <td>1</td>\n",
       "      <td>1</td>\n",
       "      <td>2</td>\n",
       "      <td>2</td>\n",
       "      <td>3</td>\n",
       "      <td>1</td>\n",
       "      <td>1</td>\n",
       "      <td>2</td>\n",
       "    </tr>\n",
       "    <tr>\n",
       "      <th>3</th>\n",
       "      <td>1016277</td>\n",
       "      <td>6</td>\n",
       "      <td>8</td>\n",
       "      <td>8</td>\n",
       "      <td>1</td>\n",
       "      <td>3</td>\n",
       "      <td>4</td>\n",
       "      <td>3</td>\n",
       "      <td>7</td>\n",
       "      <td>1</td>\n",
       "      <td>2</td>\n",
       "    </tr>\n",
       "    <tr>\n",
       "      <th>4</th>\n",
       "      <td>1017023</td>\n",
       "      <td>4</td>\n",
       "      <td>1</td>\n",
       "      <td>1</td>\n",
       "      <td>3</td>\n",
       "      <td>2</td>\n",
       "      <td>1</td>\n",
       "      <td>3</td>\n",
       "      <td>1</td>\n",
       "      <td>1</td>\n",
       "      <td>2</td>\n",
       "    </tr>\n",
       "  </tbody>\n",
       "</table>\n",
       "</div>"
      ],
      "text/plain": [
       "   Sample code number  Clump Thickness  Uniformity of Cell Size  \\\n",
       "0             1000025                5                        1   \n",
       "1             1002945                5                        4   \n",
       "2             1015425                3                        1   \n",
       "3             1016277                6                        8   \n",
       "4             1017023                4                        1   \n",
       "\n",
       "   Uniformity of Cell Shape  Marginal Adhesion  Single Epithelial Cell Size  \\\n",
       "0                         1                  1                            2   \n",
       "1                         4                  5                            7   \n",
       "2                         1                  1                            2   \n",
       "3                         8                  1                            3   \n",
       "4                         1                  3                            2   \n",
       "\n",
       "   Bare Nuclei  Bland Chromatin  Normal Nucleoli  Mitoses  Class  \n",
       "0            1                3                1        1      2  \n",
       "1           10                3                2        1      2  \n",
       "2            2                3                1        1      2  \n",
       "3            4                3                7        1      2  \n",
       "4            1                3                1        1      2  "
      ]
     },
     "execution_count": 7,
     "metadata": {},
     "output_type": "execute_result"
    }
   ],
   "source": [
    "cancer_data.head()"
   ]
  },
  {
   "cell_type": "code",
   "execution_count": 8,
   "metadata": {
    "cell_id": "00012-08e96697-b531-4d32-b6db-c864f466c91f",
    "deepnote_cell_height": 405.265625,
    "deepnote_cell_type": "code",
    "deepnote_to_be_reexecuted": false,
    "execution_millis": 57,
    "execution_start": 1659161886826,
    "source_hash": "2f5fbec2"
   },
   "outputs": [
    {
     "data": {
      "application/vnd.deepnote.dataframe.v3+json": {
       "column_count": 11,
       "columns": [
        {
         "dtype": "int64",
         "name": "Sample code number",
         "stats": {
          "histogram": [
           {
            "bin_end": 788790.6,
            "bin_start": 776715,
            "count": 1
           },
           {
            "bin_end": 800866.2,
            "bin_start": 788790.6,
            "count": 0
           },
           {
            "bin_end": 812941.8,
            "bin_start": 800866.2,
            "count": 0
           },
           {
            "bin_end": 825017.4,
            "bin_start": 812941.8,
            "count": 0
           },
           {
            "bin_end": 837093,
            "bin_start": 825017.4,
            "count": 0
           },
           {
            "bin_end": 849168.6,
            "bin_start": 837093,
            "count": 1
           },
           {
            "bin_end": 861244.2,
            "bin_start": 849168.6,
            "count": 0
           },
           {
            "bin_end": 873319.8,
            "bin_start": 861244.2,
            "count": 0
           },
           {
            "bin_end": 885395.4,
            "bin_start": 873319.8,
            "count": 0
           },
           {
            "bin_end": 897471,
            "bin_start": 885395.4,
            "count": 3
           }
          ],
          "max": "897471",
          "min": "776715",
          "nan_count": 0,
          "unique_count": 4
         }
        },
        {
         "dtype": "int64",
         "name": "Clump Thickness",
         "stats": {
          "histogram": [
           {
            "bin_end": 2.3,
            "bin_start": 2,
            "count": 1
           },
           {
            "bin_end": 2.6,
            "bin_start": 2.3,
            "count": 0
           },
           {
            "bin_end": 2.9,
            "bin_start": 2.6,
            "count": 0
           },
           {
            "bin_end": 3.2,
            "bin_start": 2.9,
            "count": 1
           },
           {
            "bin_end": 3.5,
            "bin_start": 3.2,
            "count": 0
           },
           {
            "bin_end": 3.8,
            "bin_start": 3.5,
            "count": 0
           },
           {
            "bin_end": 4.1,
            "bin_start": 3.8,
            "count": 2
           },
           {
            "bin_end": 4.4,
            "bin_start": 4.1,
            "count": 0
           },
           {
            "bin_end": 4.699999999999999,
            "bin_start": 4.4,
            "count": 0
           },
           {
            "bin_end": 5,
            "bin_start": 4.699999999999999,
            "count": 1
           }
          ],
          "max": "5",
          "min": "2",
          "nan_count": 0,
          "unique_count": 4
         }
        },
        {
         "dtype": "int64",
         "name": "Uniformity of Cell Size",
         "stats": {
          "histogram": [
           {
            "bin_end": 1.9,
            "bin_start": 1,
            "count": 2
           },
           {
            "bin_end": 2.8,
            "bin_start": 1.9,
            "count": 0
           },
           {
            "bin_end": 3.7,
            "bin_start": 2.8,
            "count": 0
           },
           {
            "bin_end": 4.6,
            "bin_start": 3.7,
            "count": 0
           },
           {
            "bin_end": 5.5,
            "bin_start": 4.6,
            "count": 0
           },
           {
            "bin_end": 6.4,
            "bin_start": 5.5,
            "count": 0
           },
           {
            "bin_end": 7.3,
            "bin_start": 6.4,
            "count": 0
           },
           {
            "bin_end": 8.2,
            "bin_start": 7.3,
            "count": 2
           },
           {
            "bin_end": 9.1,
            "bin_start": 8.2,
            "count": 0
           },
           {
            "bin_end": 10,
            "bin_start": 9.1,
            "count": 1
           }
          ],
          "max": "10",
          "min": "1",
          "nan_count": 0,
          "unique_count": 3
         }
        },
        {
         "dtype": "int64",
         "name": "Uniformity of Cell Shape",
         "stats": {
          "histogram": [
           {
            "bin_end": 1.9,
            "bin_start": 1,
            "count": 2
           },
           {
            "bin_end": 2.8,
            "bin_start": 1.9,
            "count": 0
           },
           {
            "bin_end": 3.7,
            "bin_start": 2.8,
            "count": 0
           },
           {
            "bin_end": 4.6,
            "bin_start": 3.7,
            "count": 0
           },
           {
            "bin_end": 5.5,
            "bin_start": 4.6,
            "count": 0
           },
           {
            "bin_end": 6.4,
            "bin_start": 5.5,
            "count": 1
           },
           {
            "bin_end": 7.3,
            "bin_start": 6.4,
            "count": 0
           },
           {
            "bin_end": 8.2,
            "bin_start": 7.3,
            "count": 1
           },
           {
            "bin_end": 9.1,
            "bin_start": 8.2,
            "count": 0
           },
           {
            "bin_end": 10,
            "bin_start": 9.1,
            "count": 1
           }
          ],
          "max": "10",
          "min": "1",
          "nan_count": 0,
          "unique_count": 4
         }
        },
        {
         "dtype": "int64",
         "name": "Marginal Adhesion",
         "stats": {
          "histogram": [
           {
            "bin_end": 1.4,
            "bin_start": 1,
            "count": 2
           },
           {
            "bin_end": 1.8,
            "bin_start": 1.4,
            "count": 0
           },
           {
            "bin_end": 2.2,
            "bin_start": 1.8,
            "count": 0
           },
           {
            "bin_end": 2.6,
            "bin_start": 2.2,
            "count": 0
           },
           {
            "bin_end": 3,
            "bin_start": 2.6,
            "count": 0
           },
           {
            "bin_end": 3.4000000000000004,
            "bin_start": 3,
            "count": 1
           },
           {
            "bin_end": 3.8000000000000003,
            "bin_start": 3.4000000000000004,
            "count": 0
           },
           {
            "bin_end": 4.2,
            "bin_start": 3.8000000000000003,
            "count": 1
           },
           {
            "bin_end": 4.6,
            "bin_start": 4.2,
            "count": 0
           },
           {
            "bin_end": 5,
            "bin_start": 4.6,
            "count": 1
           }
          ],
          "max": "5",
          "min": "1",
          "nan_count": 0,
          "unique_count": 4
         }
        },
        {
         "dtype": "int64",
         "name": "Single Epithelial Cell Size",
         "stats": {
          "histogram": [
           {
            "bin_end": 2.5,
            "bin_start": 2,
            "count": 1
           },
           {
            "bin_end": 3,
            "bin_start": 2.5,
            "count": 0
           },
           {
            "bin_end": 3.5,
            "bin_start": 3,
            "count": 2
           },
           {
            "bin_end": 4,
            "bin_start": 3.5,
            "count": 0
           },
           {
            "bin_end": 4.5,
            "bin_start": 4,
            "count": 1
           },
           {
            "bin_end": 5,
            "bin_start": 4.5,
            "count": 0
           },
           {
            "bin_end": 5.5,
            "bin_start": 5,
            "count": 0
           },
           {
            "bin_end": 6,
            "bin_start": 5.5,
            "count": 0
           },
           {
            "bin_end": 6.5,
            "bin_start": 6,
            "count": 0
           },
           {
            "bin_end": 7,
            "bin_start": 6.5,
            "count": 1
           }
          ],
          "max": "7",
          "min": "2",
          "nan_count": 0,
          "unique_count": 4
         }
        },
        {
         "dtype": "int64",
         "name": "Bare Nuclei",
         "stats": {
          "histogram": [
           {
            "bin_end": 1.4,
            "bin_start": 1,
            "count": 1
           },
           {
            "bin_end": 1.8,
            "bin_start": 1.4,
            "count": 0
           },
           {
            "bin_end": 2.2,
            "bin_start": 1.8,
            "count": 1
           },
           {
            "bin_end": 2.6,
            "bin_start": 2.2,
            "count": 0
           },
           {
            "bin_end": 3,
            "bin_start": 2.6,
            "count": 0
           },
           {
            "bin_end": 3.4000000000000004,
            "bin_start": 3,
            "count": 1
           },
           {
            "bin_end": 3.8000000000000003,
            "bin_start": 3.4000000000000004,
            "count": 0
           },
           {
            "bin_end": 4.2,
            "bin_start": 3.8000000000000003,
            "count": 1
           },
           {
            "bin_end": 4.6,
            "bin_start": 4.2,
            "count": 0
           },
           {
            "bin_end": 5,
            "bin_start": 4.6,
            "count": 1
           }
          ],
          "max": "5",
          "min": "1",
          "nan_count": 0,
          "unique_count": 5
         }
        },
        {
         "dtype": "int64",
         "name": "Bland Chromatin",
         "stats": {
          "histogram": [
           {
            "bin_end": 1.9,
            "bin_start": 1,
            "count": 2
           },
           {
            "bin_end": 2.8,
            "bin_start": 1.9,
            "count": 0
           },
           {
            "bin_end": 3.7,
            "bin_start": 2.8,
            "count": 0
           },
           {
            "bin_end": 4.6,
            "bin_start": 3.7,
            "count": 0
           },
           {
            "bin_end": 5.5,
            "bin_start": 4.6,
            "count": 0
           },
           {
            "bin_end": 6.4,
            "bin_start": 5.5,
            "count": 0
           },
           {
            "bin_end": 7.3,
            "bin_start": 6.4,
            "count": 0
           },
           {
            "bin_end": 8.2,
            "bin_start": 7.3,
            "count": 1
           },
           {
            "bin_end": 9.1,
            "bin_start": 8.2,
            "count": 0
           },
           {
            "bin_end": 10,
            "bin_start": 9.1,
            "count": 2
           }
          ],
          "max": "10",
          "min": "1",
          "nan_count": 0,
          "unique_count": 3
         }
        },
        {
         "dtype": "int64",
         "name": "Normal Nucleoli",
         "stats": {
          "histogram": [
           {
            "bin_end": 1.9,
            "bin_start": 1,
            "count": 2
           },
           {
            "bin_end": 2.8,
            "bin_start": 1.9,
            "count": 0
           },
           {
            "bin_end": 3.7,
            "bin_start": 2.8,
            "count": 0
           },
           {
            "bin_end": 4.6,
            "bin_start": 3.7,
            "count": 1
           },
           {
            "bin_end": 5.5,
            "bin_start": 4.6,
            "count": 0
           },
           {
            "bin_end": 6.4,
            "bin_start": 5.5,
            "count": 1
           },
           {
            "bin_end": 7.3,
            "bin_start": 6.4,
            "count": 0
           },
           {
            "bin_end": 8.2,
            "bin_start": 7.3,
            "count": 0
           },
           {
            "bin_end": 9.1,
            "bin_start": 8.2,
            "count": 0
           },
           {
            "bin_end": 10,
            "bin_start": 9.1,
            "count": 1
           }
          ],
          "max": "10",
          "min": "1",
          "nan_count": 0,
          "unique_count": 4
         }
        },
        {
         "dtype": "int64",
         "name": "Mitoses",
         "stats": {
          "histogram": [
           {
            "bin_end": 1.1,
            "bin_start": 1,
            "count": 4
           },
           {
            "bin_end": 1.2,
            "bin_start": 1.1,
            "count": 0
           },
           {
            "bin_end": 1.3,
            "bin_start": 1.2,
            "count": 0
           },
           {
            "bin_end": 1.4,
            "bin_start": 1.3,
            "count": 0
           },
           {
            "bin_end": 1.5,
            "bin_start": 1.4,
            "count": 0
           },
           {
            "bin_end": 1.6,
            "bin_start": 1.5,
            "count": 0
           },
           {
            "bin_end": 1.7000000000000002,
            "bin_start": 1.6,
            "count": 0
           },
           {
            "bin_end": 1.8,
            "bin_start": 1.7000000000000002,
            "count": 0
           },
           {
            "bin_end": 1.9,
            "bin_start": 1.8,
            "count": 0
           },
           {
            "bin_end": 2,
            "bin_start": 1.9,
            "count": 1
           }
          ],
          "max": "2",
          "min": "1",
          "nan_count": 0,
          "unique_count": 2
         }
        },
        {
         "dtype": "int64",
         "name": "Class",
         "stats": {
          "histogram": [
           {
            "bin_end": 2.2,
            "bin_start": 2,
            "count": 2
           },
           {
            "bin_end": 2.4,
            "bin_start": 2.2,
            "count": 0
           },
           {
            "bin_end": 2.6,
            "bin_start": 2.4,
            "count": 0
           },
           {
            "bin_end": 2.8,
            "bin_start": 2.6,
            "count": 0
           },
           {
            "bin_end": 3,
            "bin_start": 2.8,
            "count": 0
           },
           {
            "bin_end": 3.2,
            "bin_start": 3,
            "count": 0
           },
           {
            "bin_end": 3.4000000000000004,
            "bin_start": 3.2,
            "count": 0
           },
           {
            "bin_end": 3.6,
            "bin_start": 3.4000000000000004,
            "count": 0
           },
           {
            "bin_end": 3.8,
            "bin_start": 3.6,
            "count": 0
           },
           {
            "bin_end": 4,
            "bin_start": 3.8,
            "count": 3
           }
          ],
          "max": "4",
          "min": "2",
          "nan_count": 0,
          "unique_count": 2
         }
        },
        {
         "dtype": "int64",
         "name": "_deepnote_index_column"
        }
       ],
       "row_count": 5,
       "rows": [
        {
         "Bare Nuclei": 2,
         "Bland Chromatin": 1,
         "Class": 2,
         "Clump Thickness": 3,
         "Marginal Adhesion": 1,
         "Mitoses": 1,
         "Normal Nucleoli": 1,
         "Sample code number": 776715,
         "Single Epithelial Cell Size": 3,
         "Uniformity of Cell Shape": 1,
         "Uniformity of Cell Size": 1,
         "_deepnote_index_column": 678
        },
        {
         "Bare Nuclei": 1,
         "Bland Chromatin": 1,
         "Class": 2,
         "Clump Thickness": 2,
         "Marginal Adhesion": 1,
         "Mitoses": 1,
         "Normal Nucleoli": 1,
         "Sample code number": 841769,
         "Single Epithelial Cell Size": 2,
         "Uniformity of Cell Shape": 1,
         "Uniformity of Cell Size": 1,
         "_deepnote_index_column": 679
        },
        {
         "Bare Nuclei": 3,
         "Bland Chromatin": 8,
         "Class": 4,
         "Clump Thickness": 5,
         "Marginal Adhesion": 3,
         "Mitoses": 2,
         "Normal Nucleoli": 10,
         "Sample code number": 888820,
         "Single Epithelial Cell Size": 7,
         "Uniformity of Cell Shape": 10,
         "Uniformity of Cell Size": 10,
         "_deepnote_index_column": 680
        },
        {
         "Bare Nuclei": 4,
         "Bland Chromatin": 10,
         "Class": 4,
         "Clump Thickness": 4,
         "Marginal Adhesion": 4,
         "Mitoses": 1,
         "Normal Nucleoli": 6,
         "Sample code number": 897471,
         "Single Epithelial Cell Size": 3,
         "Uniformity of Cell Shape": 6,
         "Uniformity of Cell Size": 8,
         "_deepnote_index_column": 681
        },
        {
         "Bare Nuclei": 5,
         "Bland Chromatin": 10,
         "Class": 4,
         "Clump Thickness": 4,
         "Marginal Adhesion": 5,
         "Mitoses": 1,
         "Normal Nucleoli": 4,
         "Sample code number": 897471,
         "Single Epithelial Cell Size": 4,
         "Uniformity of Cell Shape": 8,
         "Uniformity of Cell Size": 8,
         "_deepnote_index_column": 682
        }
       ]
      },
      "text/html": [
       "<div>\n",
       "<style scoped>\n",
       "    .dataframe tbody tr th:only-of-type {\n",
       "        vertical-align: middle;\n",
       "    }\n",
       "\n",
       "    .dataframe tbody tr th {\n",
       "        vertical-align: top;\n",
       "    }\n",
       "\n",
       "    .dataframe thead th {\n",
       "        text-align: right;\n",
       "    }\n",
       "</style>\n",
       "<table border=\"1\" class=\"dataframe\">\n",
       "  <thead>\n",
       "    <tr style=\"text-align: right;\">\n",
       "      <th></th>\n",
       "      <th>Sample code number</th>\n",
       "      <th>Clump Thickness</th>\n",
       "      <th>Uniformity of Cell Size</th>\n",
       "      <th>Uniformity of Cell Shape</th>\n",
       "      <th>Marginal Adhesion</th>\n",
       "      <th>Single Epithelial Cell Size</th>\n",
       "      <th>Bare Nuclei</th>\n",
       "      <th>Bland Chromatin</th>\n",
       "      <th>Normal Nucleoli</th>\n",
       "      <th>Mitoses</th>\n",
       "      <th>Class</th>\n",
       "    </tr>\n",
       "  </thead>\n",
       "  <tbody>\n",
       "    <tr>\n",
       "      <th>678</th>\n",
       "      <td>776715</td>\n",
       "      <td>3</td>\n",
       "      <td>1</td>\n",
       "      <td>1</td>\n",
       "      <td>1</td>\n",
       "      <td>3</td>\n",
       "      <td>2</td>\n",
       "      <td>1</td>\n",
       "      <td>1</td>\n",
       "      <td>1</td>\n",
       "      <td>2</td>\n",
       "    </tr>\n",
       "    <tr>\n",
       "      <th>679</th>\n",
       "      <td>841769</td>\n",
       "      <td>2</td>\n",
       "      <td>1</td>\n",
       "      <td>1</td>\n",
       "      <td>1</td>\n",
       "      <td>2</td>\n",
       "      <td>1</td>\n",
       "      <td>1</td>\n",
       "      <td>1</td>\n",
       "      <td>1</td>\n",
       "      <td>2</td>\n",
       "    </tr>\n",
       "    <tr>\n",
       "      <th>680</th>\n",
       "      <td>888820</td>\n",
       "      <td>5</td>\n",
       "      <td>10</td>\n",
       "      <td>10</td>\n",
       "      <td>3</td>\n",
       "      <td>7</td>\n",
       "      <td>3</td>\n",
       "      <td>8</td>\n",
       "      <td>10</td>\n",
       "      <td>2</td>\n",
       "      <td>4</td>\n",
       "    </tr>\n",
       "    <tr>\n",
       "      <th>681</th>\n",
       "      <td>897471</td>\n",
       "      <td>4</td>\n",
       "      <td>8</td>\n",
       "      <td>6</td>\n",
       "      <td>4</td>\n",
       "      <td>3</td>\n",
       "      <td>4</td>\n",
       "      <td>10</td>\n",
       "      <td>6</td>\n",
       "      <td>1</td>\n",
       "      <td>4</td>\n",
       "    </tr>\n",
       "    <tr>\n",
       "      <th>682</th>\n",
       "      <td>897471</td>\n",
       "      <td>4</td>\n",
       "      <td>8</td>\n",
       "      <td>8</td>\n",
       "      <td>5</td>\n",
       "      <td>4</td>\n",
       "      <td>5</td>\n",
       "      <td>10</td>\n",
       "      <td>4</td>\n",
       "      <td>1</td>\n",
       "      <td>4</td>\n",
       "    </tr>\n",
       "  </tbody>\n",
       "</table>\n",
       "</div>"
      ],
      "text/plain": [
       "     Sample code number  Clump Thickness  Uniformity of Cell Size  \\\n",
       "678              776715                3                        1   \n",
       "679              841769                2                        1   \n",
       "680              888820                5                       10   \n",
       "681              897471                4                        8   \n",
       "682              897471                4                        8   \n",
       "\n",
       "     Uniformity of Cell Shape  Marginal Adhesion  Single Epithelial Cell Size  \\\n",
       "678                         1                  1                            3   \n",
       "679                         1                  1                            2   \n",
       "680                        10                  3                            7   \n",
       "681                         6                  4                            3   \n",
       "682                         8                  5                            4   \n",
       "\n",
       "     Bare Nuclei  Bland Chromatin  Normal Nucleoli  Mitoses  Class  \n",
       "678            2                1                1        1      2  \n",
       "679            1                1                1        1      2  \n",
       "680            3                8               10        2      4  \n",
       "681            4               10                6        1      4  \n",
       "682            5               10                4        1      4  "
      ]
     },
     "execution_count": 8,
     "metadata": {},
     "output_type": "execute_result"
    }
   ],
   "source": [
    "cancer_data.tail()"
   ]
  },
  {
   "cell_type": "code",
   "execution_count": 9,
   "metadata": {
    "cell_id": "00013-0ca723f5-26d3-4d02-9c7b-155ba0ab764f",
    "deepnote_cell_height": 342.296875,
    "deepnote_cell_type": "code",
    "deepnote_output_heights": [
     232.3125
    ],
    "deepnote_to_be_reexecuted": false,
    "execution_millis": 10,
    "execution_start": 1659161886944,
    "source_hash": "eadb36ff"
   },
   "outputs": [
    {
     "data": {
      "text/plain": [
       "Sample code number             int64\n",
       "Clump Thickness                int64\n",
       "Uniformity of Cell Size        int64\n",
       "Uniformity of Cell Shape       int64\n",
       "Marginal Adhesion              int64\n",
       "Single Epithelial Cell Size    int64\n",
       "Bare Nuclei                    int64\n",
       "Bland Chromatin                int64\n",
       "Normal Nucleoli                int64\n",
       "Mitoses                        int64\n",
       "Class                          int64\n",
       "dtype: object"
      ]
     },
     "execution_count": 9,
     "metadata": {},
     "output_type": "execute_result"
    }
   ],
   "source": [
    "# Get dtypes of the dataset\n",
    "cancer_data.dtypes"
   ]
  },
  {
   "cell_type": "code",
   "execution_count": 10,
   "metadata": {
    "cell_id": "00014-75c6de06-7b86-4c3d-ab57-9fd7ab3ca006",
    "colab": {
     "base_uri": "https://localhost:8080/"
    },
    "deepnote_cell_height": 131.171875,
    "deepnote_cell_type": "code",
    "deepnote_output_heights": [
     21.1875
    ],
    "deepnote_to_be_reexecuted": false,
    "execution_millis": 9,
    "execution_start": 1659161886945,
    "id": "62bc4d8b-48fc-4f89-868e-de03e4fa4c90",
    "outputId": "52f48aa2-e73e-4a4e-aa46-cc5a21241420",
    "source_hash": "84892023"
   },
   "outputs": [
    {
     "data": {
      "text/plain": [
       "array([2, 4])"
      ]
     },
     "execution_count": 10,
     "metadata": {},
     "output_type": "execute_result"
    }
   ],
   "source": [
    "## Let's see what are the classes\n",
    "cancer_data['Class'].unique()"
   ]
  },
  {
   "cell_type": "markdown",
   "metadata": {
    "cell_id": "00015-68ce3adc-c7ec-4077-ab08-d9ee53182b46",
    "deepnote_cell_height": 111.1875,
    "deepnote_cell_type": "markdown",
    "id": "b70a209f-387b-445d-93a2-bd195f9082ed"
   },
   "source": [
    "**2 : Non cancerous**\n",
    "**4 : Cancerous**\n",
    "\n",
    "We are mapping `2` with **0** (non cancerous) and `4` with **1** (cancerous)"
   ]
  },
  {
   "cell_type": "code",
   "execution_count": 11,
   "metadata": {
    "cell_id": "00016-e7d28e3f-303d-479e-93db-3bd15e3c027c",
    "deepnote_cell_height": 76,
    "deepnote_cell_type": "code",
    "deepnote_to_be_reexecuted": false,
    "execution_millis": 48,
    "execution_start": 1659161886946,
    "id": "2975c450-abc9-485a-a9c9-5730665fddf2",
    "source_hash": "cb8d249"
   },
   "outputs": [],
   "source": [
    "cancer_data['Class'] = cancer_data['Class'].map({2:0,4:1})"
   ]
  },
  {
   "cell_type": "code",
   "execution_count": 12,
   "metadata": {
    "cell_id": "00017-199ee912-1651-41c6-ad50-d3535cd8b13f",
    "deepnote_cell_height": 76,
    "deepnote_cell_type": "code",
    "deepnote_to_be_reexecuted": false,
    "execution_millis": 0,
    "execution_start": 1659161886994,
    "id": "IXeL35f1tsDd",
    "source_hash": "2704656e"
   },
   "outputs": [],
   "source": [
    "class_names = ['non-cancerous','cancerous']"
   ]
  },
  {
   "cell_type": "code",
   "execution_count": 13,
   "metadata": {
    "cell_id": "00018-30066399-6b24-433c-b4db-0d1116c8a047",
    "deepnote_cell_height": 304.90625,
    "deepnote_cell_type": "code",
    "deepnote_to_be_reexecuted": false,
    "execution_millis": 0,
    "execution_start": 1659161886995,
    "source_hash": "9392e7c5"
   },
   "outputs": [
    {
     "name": "stdout",
     "output_type": "stream",
     "text": [
      "Function Initialized Successfully\n"
     ]
    }
   ],
   "source": [
    "def count_of_categories(category_name):\n",
    "    col = [column for column in cancer_data.columns]\n",
    "    try:\n",
    "        sns.countplot(x = cancer_data[category_name])\n",
    "        plt.xticks(rotation=360)\n",
    "        plt.show()\n",
    "    except:\n",
    "        print(f\"\"\"Please Enter an Existing Category Name: Please choose from below: \\n\n",
    "{col}\"\"\")\n",
    "\n",
    "print(\"Function Initialized Successfully\")\n",
    "# Note: You can call this function anytime to get a count of the any of the existing columns"
   ]
  },
  {
   "cell_type": "code",
   "execution_count": 14,
   "metadata": {
    "cell_id": "00019-8148dbd8-a351-4c86-b5a6-f98bd508a70c",
    "deepnote_cell_height": 374,
    "deepnote_cell_type": "code",
    "deepnote_output_heights": [
     264
    ],
    "deepnote_to_be_reexecuted": false,
    "execution_millis": 247,
    "execution_start": 1659161887000,
    "source_hash": "b8fcd2c2"
   },
   "outputs": [
    {
     "data": {
      "image/png": "[encoded data removed]",
      "text/plain": [
       "<Figure size 432x288 with 1 Axes>"
      ]
     },
     "metadata": {
      "image/png": {
       "height": 262,
       "width": 389
      },
      "needs_background": "light"
     },
     "output_type": "display_data"
    }
   ],
   "source": [
    "# Class Category Count\n",
    "count_of_categories(\"Class\")"
   ]
  },
  {
   "cell_type": "code",
   "execution_count": 15,
   "metadata": {
    "cell_id": "00020-fca196cd-ddea-4622-adba-100f4ac6c76b",
    "deepnote_cell_height": 374,
    "deepnote_cell_type": "code",
    "deepnote_output_heights": [
     264
    ],
    "deepnote_to_be_reexecuted": false,
    "execution_millis": 330,
    "execution_start": 1659161887255,
    "source_hash": "3fd35e1c"
   },
   "outputs": [
    {
     "data": {
      "image/png": "[encoded data removed]",
      "text/plain": [
       "<Figure size 432x288 with 1 Axes>"
      ]
     },
     "metadata": {
      "image/png": {
       "height": 262,
       "width": 389
      },
      "needs_background": "light"
     },
     "output_type": "display_data"
    }
   ],
   "source": [
    "# Mitoses Category Count\n",
    "count_of_categories(\"Mitoses\")"
   ]
  },
  {
   "cell_type": "markdown",
   "metadata": {
    "cell_id": "00021-a8fe9024-0f56-4a72-956a-aba8f184bcca",
    "deepnote_cell_height": 52.390625,
    "deepnote_cell_type": "markdown",
    "id": "0cb183c1-e46e-40b6-8055-f0b7d672e893"
   },
   "source": [
    "These is an imbalance dataset"
   ]
  },
  {
   "cell_type": "code",
   "execution_count": 16,
   "metadata": {
    "cell_id": "00025-d2fa46fe-a0c0-4f1d-9b60-b4863f0769de",
    "deepnote_cell_height": 94,
    "deepnote_cell_type": "code",
    "deepnote_to_be_reexecuted": false,
    "execution_millis": 15,
    "execution_start": 1659161887595,
    "id": "ea350ebb-15c9-40c5-9b15-3cd919468815",
    "source_hash": "939d64ad"
   },
   "outputs": [],
   "source": [
    "## Dropping the sample code number and Uniformity of Cell Size\n",
    "cancer_data.drop('Sample code number', axis=1, inplace=True)"
   ]
  },
  {
   "cell_type": "markdown",
   "metadata": {
    "cell_id": "00026-6ebc0d3c-eda4-41db-885a-90f76d9c3c01",
    "deepnote_cell_height": 70,
    "deepnote_cell_type": "markdown",
    "id": "2f10ff87-a172-45b3-bc6f-fae5bd5061df"
   },
   "source": [
    "## Splitting the dataset into Train and test set"
   ]
  },
  {
   "cell_type": "code",
   "execution_count": 17,
   "metadata": {
    "cell_id": "00027-1ecaf27c-3c51-4b1b-bff9-a44520873400",
    "deepnote_cell_height": 81,
    "deepnote_cell_type": "code",
    "deepnote_to_be_reexecuted": false,
    "execution_millis": 17,
    "execution_start": 1659161887619,
    "id": "9ff8c274-edf5-4611-b07f-0a3d77624050",
    "source_hash": "65cd5eec"
   },
   "outputs": [],
   "source": [
    "x_train, x_test, y_train, y_test = train_test_split(cancer_data.drop('Class',axis=1),cancer_data['Class'],test_size=0.2,random_state=42)"
   ]
  },
  {
   "cell_type": "code",
   "execution_count": 18,
   "metadata": {
    "cell_id": "00028-7bff9576-2b98-412c-bf31-0dd3ad373a8b",
    "deepnote_cell_height": 130,
    "deepnote_cell_type": "code",
    "deepnote_to_be_reexecuted": false,
    "execution_millis": 9,
    "execution_start": 1659161887642,
    "id": "JVe9cmIqpn7r",
    "source_hash": "8d680b7f"
   },
   "outputs": [],
   "source": [
    "x_train = x_train.to_numpy()\n",
    "x_test = x_test.to_numpy()\n",
    "y_train = y_train.to_numpy()\n",
    "y_test = y_test.to_numpy()"
   ]
  },
  {
   "cell_type": "code",
   "execution_count": 19,
   "metadata": {
    "cell_id": "00029-da9ebeb7-deb4-4f60-b294-c5162e3e17ed",
    "colab": {
     "base_uri": "https://localhost:8080/"
    },
    "deepnote_cell_height": 220.671875,
    "deepnote_cell_type": "code",
    "deepnote_to_be_reexecuted": false,
    "execution_millis": 13,
    "execution_start": 1659161887659,
    "id": "82b97b66-c4f3-4e46-b1fe-ac5df398d8ac",
    "outputId": "c358f7bd-d9f1-45b0-b598-7647b27f32f6",
    "source_hash": "cf4d2f1d"
   },
   "outputs": [
    {
     "name": "stdout",
     "output_type": "stream",
     "text": [
      "Shape of x train :  (546, 9)\n",
      "Shape of x test :  (137, 9)\n",
      "Shape of y train :  (546,)\n",
      "Shape of y test :  (137,)\n"
     ]
    }
   ],
   "source": [
    "print('Shape of x train : ', x_train.shape)\n",
    "print('Shape of x test : ', x_test.shape)\n",
    "print('Shape of y train : ', y_train.shape)\n",
    "print('Shape of y test : ', y_test.shape)"
   ]
  },
  {
   "cell_type": "markdown",
   "metadata": {
    "cell_id": "00030-207c4cbb-8ce5-4478-971e-c93e6b3e4f0e",
    "deepnote_cell_height": 70,
    "deepnote_cell_type": "markdown",
    "id": "87eqgLlsjr04"
   },
   "source": [
    "## Models"
   ]
  },
  {
   "cell_type": "code",
   "execution_count": 20,
   "metadata": {
    "cell_id": "00031-2c5d9a6b-89ed-4492-8464-d63ea9471723",
    "deepnote_cell_height": 328,
    "deepnote_cell_type": "code",
    "deepnote_to_be_reexecuted": false,
    "execution_millis": 7,
    "execution_start": 1659161887684,
    "id": "HzlhQdeZuOFq",
    "source_hash": "6e3e049"
   },
   "outputs": [],
   "source": [
    "from sklearn.metrics import f1_score\n",
    "\n",
    "\n",
    "def metrics(y_true,y_pred):\n",
    "  print('f1 score :',f1_score(y_true,y_pred))\n",
    "  print()\n",
    "  print('accuracy :',accuracy_score(y_true,y_pred))\n",
    "  print()\n",
    "  print('Classification Report--')\n",
    "  print(classification_report(y_true,y_pred,target_names=class_names))\n",
    "  print()\n",
    "  print('Confussion matrix--')\n",
    "  print(confusion_matrix(y_true,y_pred))\n",
    "\n"
   ]
  },
  {
   "cell_type": "markdown",
   "metadata": {
    "cell_id": "00032-928bcfb0-1d80-4b71-bebf-89fce6e54260",
    "deepnote_cell_height": 62,
    "deepnote_cell_type": "markdown",
    "id": "jQBH1bdRmgDT"
   },
   "source": [
    "### 1. Naive Bias"
   ]
  },
  {
   "cell_type": "code",
   "execution_count": 21,
   "metadata": {
    "cell_id": "00033-7fb1e929-4495-4a76-bdf1-006330d95611",
    "colab": {
     "base_uri": "https://localhost:8080/"
    },
    "deepnote_cell_height": 293.171875,
    "deepnote_cell_type": "code",
    "deepnote_output_heights": [
     21.1875
    ],
    "deepnote_to_be_reexecuted": false,
    "execution_millis": 14,
    "execution_start": 1659161887705,
    "id": "WiwQbjiymiUw",
    "outputId": "02b3ec1f-cfdb-4c2a-8caa-2499422be0c7",
    "source_hash": "eb88af72"
   },
   "outputs": [
    {
     "data": {
      "text/plain": [
       "(0.9615384615384616, 0.9708029197080292)"
      ]
     },
     "execution_count": 21,
     "metadata": {},
     "output_type": "execute_result"
    }
   ],
   "source": [
    "from sklearn.naive_bayes import GaussianNB\n",
    "np.random.seed(42)\n",
    "\n",
    "# Fir the Model\n",
    "naive_bias_clf = GaussianNB(priors=[0.3, 0.7]).fit(x_train, y_train)\n",
    "\n",
    "# Make a prediction\n",
    "y_preds_naive_bias = naive_bias_clf.predict(x_test)\n",
    "\n",
    "# Evaluate the model on the training and test data\n",
    "naive_bias_clf.score(x_train, y_train), naive_bias_clf.score(x_test, y_test)"
   ]
  },
  {
   "cell_type": "code",
   "execution_count": 22,
   "metadata": {
    "cell_id": "00034-8f0bb9ad-72e9-45db-9e1e-a995e0e06acf",
    "colab": {
     "base_uri": "https://localhost:8080/"
    },
    "deepnote_cell_height": 445.5625,
    "deepnote_cell_type": "code",
    "deepnote_to_be_reexecuted": false,
    "execution_millis": 26,
    "execution_start": 1659161887724,
    "id": "-VAXG5wyviHy",
    "outputId": "07164e98-f10c-47a0-8006-8ae958b4591b",
    "source_hash": "44e0b5a8"
   },
   "outputs": [
    {
     "name": "stdout",
     "output_type": "stream",
     "text": [
      "f1 score : 0.9661016949152542\n",
      "\n",
      "accuracy : 0.9708029197080292\n",
      "\n",
      "Classification Report--\n",
      "               precision    recall  f1-score   support\n",
      "\n",
      "non-cancerous       0.99      0.96      0.97        79\n",
      "    cancerous       0.95      0.98      0.97        58\n",
      "\n",
      "     accuracy                           0.97       137\n",
      "    macro avg       0.97      0.97      0.97       137\n",
      " weighted avg       0.97      0.97      0.97       137\n",
      "\n",
      "\n",
      "Confussion matrix--\n",
      "[[76  3]\n",
      " [ 1 57]]\n"
     ]
    }
   ],
   "source": [
    "metrics(y_test, y_preds_naive_bias)"
   ]
  },
  {
   "cell_type": "markdown",
   "metadata": {
    "cell_id": "00035-85078106-8d17-45e9-95a0-d0989fc73725",
    "deepnote_cell_height": 62,
    "deepnote_cell_type": "markdown",
    "id": "RztTOiF0sbgV"
   },
   "source": [
    "### 2. Ridge classifier"
   ]
  },
  {
   "cell_type": "code",
   "execution_count": 23,
   "metadata": {
    "cell_id": "00036-e7ebd4f6-808e-46a1-9bb6-e1dee0761611",
    "deepnote_cell_height": 203.171875,
    "deepnote_cell_type": "code",
    "deepnote_output_heights": [
     21.1875
    ],
    "deepnote_to_be_reexecuted": false,
    "execution_millis": 64,
    "execution_start": 1659161887756,
    "source_hash": "73eb313b"
   },
   "outputs": [
    {
     "data": {
      "text/plain": [
       "0.7309035355739851"
      ]
     },
     "execution_count": 23,
     "metadata": {},
     "output_type": "execute_result"
    }
   ],
   "source": [
    "from sklearn.linear_model import RidgeClassifier\n",
    "from sklearn.metrics import r2_score\n",
    "from sklearn.model_selection import RandomizedSearchCV, GridSearchCV\n",
    "rc_clf = RidgeClassifier()\n",
    "rc_clf.fit(x_train,y_train)\n",
    "r2_score(y_test,rc_clf.predict(x_test))"
   ]
  },
  {
   "cell_type": "code",
   "execution_count": 24,
   "metadata": {
    "cell_id": "00037-39a07426-27c7-49a5-b07c-24b1e55503e3",
    "deepnote_cell_height": 214.90625,
    "deepnote_cell_type": "code",
    "deepnote_to_be_reexecuted": false,
    "execution_millis": 215,
    "execution_start": 1659161887833,
    "source_hash": "a31d701f"
   },
   "outputs": [
    {
     "name": "stdout",
     "output_type": "stream",
     "text": [
      "{'alpha': 0.1}\n"
     ]
    }
   ],
   "source": [
    "param_grid_rc = { \n",
    "    'alpha' : [0.1, 0.2, 0.3, 0.4, 0.5, 0.6, 0.7, 0.8, 0.9, 1.0],\n",
    "}\n",
    "\n",
    "CV_rc = GridSearchCV(estimator=rc_clf, param_grid=param_grid_rc, cv= 5);\n",
    "CV_rc.fit(x_test, y_test);\n",
    "print(CV_rc.best_params_)"
   ]
  },
  {
   "cell_type": "code",
   "execution_count": 25,
   "metadata": {
    "cell_id": "00038-8c21a4d3-df9e-486a-a7b2-da19102471ba",
    "deepnote_cell_height": 463.5625,
    "deepnote_cell_type": "code",
    "deepnote_to_be_reexecuted": false,
    "execution_millis": 24,
    "execution_start": 1659161888054,
    "source_hash": "547fb5c4"
   },
   "outputs": [
    {
     "name": "stdout",
     "output_type": "stream",
     "text": [
      "f1 score : 0.9369369369369369\n",
      "\n",
      "accuracy : 0.948905109489051\n",
      "\n",
      "Classification Report--\n",
      "               precision    recall  f1-score   support\n",
      "\n",
      "non-cancerous       0.93      0.99      0.96        79\n",
      "    cancerous       0.98      0.90      0.94        58\n",
      "\n",
      "     accuracy                           0.95       137\n",
      "    macro avg       0.95      0.94      0.95       137\n",
      " weighted avg       0.95      0.95      0.95       137\n",
      "\n",
      "\n",
      "Confussion matrix--\n",
      "[[78  1]\n",
      " [ 6 52]]\n"
     ]
    }
   ],
   "source": [
    "y_preds_rc = CV_rc.predict(x_test)\n",
    "metrics(y_test,y_preds_rc)"
   ]
  },
  {
   "cell_type": "markdown",
   "metadata": {
    "cell_id": "00039-43e8a311-eb90-463c-aeb5-95d6a0022c65",
    "deepnote_cell_height": 62,
    "deepnote_cell_type": "markdown",
    "id": "HBW_v7J5ndjI"
   },
   "source": [
    "### 3. Random Forest Classifier"
   ]
  },
  {
   "cell_type": "code",
   "execution_count": 26,
   "metadata": {
    "cell_id": "00040-f96783af-523a-4274-9175-dfd4e1d4ea11",
    "deepnote_cell_height": 238,
    "deepnote_cell_type": "code",
    "deepnote_to_be_reexecuted": false,
    "execution_millis": 868,
    "execution_start": 1659161888091,
    "source_hash": "fe1e20eb"
   },
   "outputs": [],
   "source": [
    "# Choose the right model and hyperparameters\n",
    "from sklearn.ensemble import RandomForestClassifier\n",
    "from sklearn.model_selection import RandomizedSearchCV, GridSearchCV\n",
    "random_forest_clf = RandomForestClassifier(n_jobs=-1, max_features= 'sqrt' , n_estimators=200, oob_score = True)\n",
    "\n",
    "# Fit the model to the training data\n",
    "random_forest_clf.fit(x_train, y_train)\n",
    "\n",
    "# Make a prediction\n",
    "y_preds_random_forest_clf = random_forest_clf.predict(x_test);"
   ]
  },
  {
   "cell_type": "code",
   "execution_count": 27,
   "metadata": {
    "cell_id": "00041-d7d07db3-a315-4932-a013-6e6af1e5d0fa",
    "deepnote_cell_height": 131.171875,
    "deepnote_cell_type": "code",
    "deepnote_output_heights": [
     21.1875
    ],
    "deepnote_to_be_reexecuted": false,
    "execution_millis": 465,
    "execution_start": 1659161888988,
    "source_hash": "ad3f5007"
   },
   "outputs": [
    {
     "data": {
      "text/plain": [
       "(1.0, 0.9562043795620438)"
      ]
     },
     "execution_count": 27,
     "metadata": {},
     "output_type": "execute_result"
    }
   ],
   "source": [
    "# Evaluate the model on the training and test data\n",
    "random_forest_clf.score(x_train, y_train), random_forest_clf.score(x_test, y_test)"
   ]
  },
  {
   "cell_type": "code",
   "execution_count": 28,
   "metadata": {
    "cell_id": "00042-9e6af379-d787-4c44-b684-8a03c5d8ec49",
    "deepnote_cell_height": 233,
    "deepnote_cell_type": "code",
    "deepnote_to_be_reexecuted": false,
    "execution_millis": 37352,
    "execution_start": 1659161889128,
    "source_hash": "7639f8f"
   },
   "outputs": [
    {
     "name": "stdout",
     "output_type": "stream",
     "text": [
      "{'max_features': 'sqrt', 'n_estimators': 200}\n"
     ]
    }
   ],
   "source": [
    "param_grid = { \n",
    "    'n_estimators': [200, 700],\n",
    "    'max_features': ['sqrt', 'log2']\n",
    "}\n",
    "\n",
    "CV_rfc = GridSearchCV(estimator=random_forest_clf, param_grid=param_grid, cv= 5);\n",
    "CV_rfc.fit(x_test, y_test);\n",
    "print(CV_rfc.best_params_)"
   ]
  },
  {
   "cell_type": "code",
   "execution_count": 29,
   "metadata": {
    "cell_id": "00043-2c7d65bf-1ff0-4c6c-bd39-a93514ef006c",
    "deepnote_cell_height": 76,
    "deepnote_cell_type": "code",
    "deepnote_to_be_reexecuted": false,
    "execution_millis": 27,
    "execution_start": 1659161926116,
    "source_hash": "9cc611ed"
   },
   "outputs": [],
   "source": [
    "y_preds_random_forest_clf = CV_rfc.predict(x_test);"
   ]
  },
  {
   "cell_type": "code",
   "execution_count": 30,
   "metadata": {
    "cell_id": "00044-c9e18eb3-0d6d-435e-ac62-6c75281b9159",
    "deepnote_cell_height": 464,
    "deepnote_cell_type": "code",
    "deepnote_to_be_reexecuted": false,
    "execution_millis": 347,
    "execution_start": 1659161926155,
    "source_hash": "62262ee6"
   },
   "outputs": [
    {
     "name": "stdout",
     "output_type": "stream",
     "text": [
      "f1 score : 1.0\n",
      "\n",
      "accuracy : 1.0\n",
      "\n",
      "Classification Report--\n",
      "               precision    recall  f1-score   support\n",
      "\n",
      "non-cancerous       1.00      1.00      1.00        79\n",
      "    cancerous       1.00      1.00      1.00        58\n",
      "\n",
      "     accuracy                           1.00       137\n",
      "    macro avg       1.00      1.00      1.00       137\n",
      " weighted avg       1.00      1.00      1.00       137\n",
      "\n",
      "\n",
      "Confussion matrix--\n",
      "[[79  0]\n",
      " [ 0 58]]\n"
     ]
    }
   ],
   "source": [
    "# Get the metrices\n",
    "metrics(y_test, y_preds_random_forest_clf)"
   ]
  },
  {
   "cell_type": "markdown",
   "metadata": {
    "cell_id": "00045-5b6a87ce-b56a-4477-8fd5-d0d545f041e6",
    "deepnote_cell_height": 62,
    "deepnote_cell_type": "markdown",
    "id": "0wAreq80woad"
   },
   "source": [
    "### 4. Logistic Regression"
   ]
  },
  {
   "cell_type": "code",
   "execution_count": 31,
   "metadata": {
    "cell_id": "00046-e814b36f-64c1-4096-a083-5be7d0247664",
    "deepnote_cell_height": 94,
    "deepnote_cell_type": "code",
    "deepnote_to_be_reexecuted": false,
    "execution_millis": 6,
    "execution_start": 1659161926182,
    "source_hash": "97a7aa51"
   },
   "outputs": [],
   "source": [
    "from sklearn.linear_model import LogisticRegression\n",
    "log_reg = LogisticRegression()"
   ]
  },
  {
   "cell_type": "code",
   "execution_count": 32,
   "metadata": {
    "cell_id": "00047-6daf0243-d908-4dac-bfb2-74962841ab4d",
    "deepnote_cell_height": 152.34375,
    "deepnote_cell_type": "code",
    "deepnote_output_heights": [
     60.359375
    ],
    "deepnote_to_be_reexecuted": false,
    "execution_millis": 314,
    "execution_start": 1659161926197,
    "source_hash": "5d3adbf5"
   },
   "outputs": [
    {
     "data": {
      "text/html": [
       "<style>#sk-container-id-1 {color: black;background-color: white;}#sk-container-id-1 pre{padding: 0;}#sk-container-id-1 div.sk-toggleable {background-color: white;}#sk-container-id-1 label.sk-toggleable__label {cursor: pointer;display: block;width: 100%;margin-bottom: 0;padding: 0.3em;box-sizing: border-box;text-align: center;}#sk-container-id-1 label.sk-toggleable__label-arrow:before {content: \"▸\";float: left;margin-right: 0.25em;color: #696969;}#sk-container-id-1 label.sk-toggleable__label-arrow:hover:before {color: black;}#sk-container-id-1 div.sk-estimator:hover label.sk-toggleable__label-arrow:before {color: black;}#sk-container-id-1 div.sk-toggleable__content {max-height: 0;max-width: 0;overflow: hidden;text-align: left;background-color: #f0f8ff;}#sk-container-id-1 div.sk-toggleable__content pre {margin: 0.2em;color: black;border-radius: 0.25em;background-color: #f0f8ff;}#sk-container-id-1 input.sk-toggleable__control:checked~div.sk-toggleable__content {max-height: 200px;max-width: 100%;overflow: auto;}#sk-container-id-1 input.sk-toggleable__control:checked~label.sk-toggleable__label-arrow:before {content: \"▾\";}#sk-container-id-1 div.sk-estimator input.sk-toggleable__control:checked~label.sk-toggleable__label {background-color: #d4ebff;}#sk-container-id-1 div.sk-label input.sk-toggleable__control:checked~label.sk-toggleable__label {background-color: #d4ebff;}#sk-container-id-1 input.sk-hidden--visually {border: 0;clip: rect(1px 1px 1px 1px);clip: rect(1px, 1px, 1px, 1px);height: 1px;margin: -1px;overflow: hidden;padding: 0;position: absolute;width: 1px;}#sk-container-id-1 div.sk-estimator {font-family: monospace;background-color: #f0f8ff;border: 1px dotted black;border-radius: 0.25em;box-sizing: border-box;margin-bottom: 0.5em;}#sk-container-id-1 div.sk-estimator:hover {background-color: #d4ebff;}#sk-container-id-1 div.sk-parallel-item::after {content: \"\";width: 100%;border-bottom: 1px solid gray;flex-grow: 1;}#sk-container-id-1 div.sk-label:hover label.sk-toggleable__label {background-color: #d4ebff;}#sk-container-id-1 div.sk-serial::before {content: \"\";position: absolute;border-left: 1px solid gray;box-sizing: border-box;top: 0;bottom: 0;left: 50%;z-index: 0;}#sk-container-id-1 div.sk-serial {display: flex;flex-direction: column;align-items: center;background-color: white;padding-right: 0.2em;padding-left: 0.2em;position: relative;}#sk-container-id-1 div.sk-item {position: relative;z-index: 1;}#sk-container-id-1 div.sk-parallel {display: flex;align-items: stretch;justify-content: center;background-color: white;position: relative;}#sk-container-id-1 div.sk-item::before, #sk-container-id-1 div.sk-parallel-item::before {content: \"\";position: absolute;border-left: 1px solid gray;box-sizing: border-box;top: 0;bottom: 0;left: 50%;z-index: -1;}#sk-container-id-1 div.sk-parallel-item {display: flex;flex-direction: column;z-index: 1;position: relative;background-color: white;}#sk-container-id-1 div.sk-parallel-item:first-child::after {align-self: flex-end;width: 50%;}#sk-container-id-1 div.sk-parallel-item:last-child::after {align-self: flex-start;width: 50%;}#sk-container-id-1 div.sk-parallel-item:only-child::after {width: 0;}#sk-container-id-1 div.sk-dashed-wrapped {border: 1px dashed gray;margin: 0 0.4em 0.5em 0.4em;box-sizing: border-box;padding-bottom: 0.4em;background-color: white;}#sk-container-id-1 div.sk-label label {font-family: monospace;font-weight: bold;display: inline-block;line-height: 1.2em;}#sk-container-id-1 div.sk-label-container {text-align: center;}#sk-container-id-1 div.sk-container {/* jupyter's `normalize.less` sets `[hidden] { display: none; }` but bootstrap.min.css set `[hidden] { display: none !important; }` so we also need the `!important` here to be able to override the default hidden behavior on the sphinx rendered scikit-learn.org. See: https://github.com/scikit-learn/scikit-learn/issues/21755 */display: inline-block !important;position: relative;}#sk-container-id-1 div.sk-text-repr-fallback {display: none;}</style><div id=\"sk-container-id-1\" class=\"sk-top-container\"><div class=\"sk-text-repr-fallback\"><pre>LogisticRegression()</pre><b>In a Jupyter environment, please rerun this cell to show the HTML representation or trust the notebook. <br />On GitHub, the HTML representation is unable to render, please try loading this page with nbviewer.org.</b></div><div class=\"sk-container\" hidden><div class=\"sk-item\"><div class=\"sk-estimator sk-toggleable\"><input class=\"sk-toggleable__control sk-hidden--visually\" id=\"sk-estimator-id-1\" type=\"checkbox\" checked><label for=\"sk-estimator-id-1\" class=\"sk-toggleable__label sk-toggleable__label-arrow\">LogisticRegression</label><div class=\"sk-toggleable__content\"><pre>LogisticRegression()</pre></div></div></div></div></div>"
      ],
      "text/plain": [
       "LogisticRegression()"
      ]
     },
     "execution_count": 32,
     "metadata": {},
     "output_type": "execute_result"
    }
   ],
   "source": [
    "log_reg.fit(x_train,y_train)"
   ]
  },
  {
   "cell_type": "code",
   "execution_count": 33,
   "metadata": {
    "cell_id": "00048-7d781347-c71a-4c47-a307-9fc7fc4eaec5",
    "deepnote_cell_height": 149.171875,
    "deepnote_cell_type": "code",
    "deepnote_output_heights": [
     21.1875
    ],
    "deepnote_to_be_reexecuted": false,
    "execution_millis": 247,
    "execution_start": 1659161926275,
    "source_hash": "80be29e"
   },
   "outputs": [
    {
     "data": {
      "text/plain": [
       "0.8206023570493234"
      ]
     },
     "execution_count": 33,
     "metadata": {},
     "output_type": "execute_result"
    }
   ],
   "source": [
    "#Evaluating with default parameters\n",
    "from sklearn.metrics import r2_score\n",
    "r2_score(y_test,log_reg.predict(x_test))"
   ]
  },
  {
   "cell_type": "code",
   "execution_count": 34,
   "metadata": {
    "cell_id": "00049-328d896c-e95d-4976-a059-3044ceeac726",
    "deepnote_cell_height": 269,
    "deepnote_cell_type": "code",
    "deepnote_to_be_reexecuted": false,
    "execution_millis": 845,
    "execution_start": 1659161926276,
    "source_hash": "595815a3"
   },
   "outputs": [
    {
     "name": "stdout",
     "output_type": "stream",
     "text": [
      "{'C': 0.1, 'penalty': 'l2', 'solver': 'newton-cg'}\n"
     ]
    }
   ],
   "source": [
    "#finding the best parameters for accuracy\n",
    "param_grid_lr = { \n",
    "    'solver' : ['newton-cg', 'lbfgs', 'liblinear'],\n",
    "    'penalty' : ['l2'],\n",
    "    'C' : [100, 10, 1.0, 0.1, 0.01]\n",
    "}\n",
    "\n",
    "CV_lr = GridSearchCV(estimator=log_reg, param_grid=param_grid_lr, cv= 5);\n",
    "CV_lr.fit(x_test, y_test);\n",
    "print(CV_lr.best_params_)"
   ]
  },
  {
   "cell_type": "code",
   "execution_count": 35,
   "metadata": {
    "cell_id": "00050-8cd48b86-4aa9-4ddc-8044-a0861aa02ebd",
    "deepnote_cell_height": 76,
    "deepnote_cell_type": "code",
    "deepnote_to_be_reexecuted": false,
    "execution_millis": 8,
    "execution_start": 1659161927127,
    "source_hash": "a4e35890"
   },
   "outputs": [],
   "source": [
    "y_preds_log_reg = CV_lr.predict(x_test);"
   ]
  },
  {
   "cell_type": "code",
   "execution_count": 36,
   "metadata": {
    "cell_id": "00051-402a35f1-c6f0-4f79-8603-76dd53f3fa79",
    "deepnote_cell_height": 446,
    "deepnote_cell_type": "code",
    "deepnote_to_be_reexecuted": false,
    "execution_millis": 17,
    "execution_start": 1659161927148,
    "source_hash": "90649996"
   },
   "outputs": [
    {
     "name": "stdout",
     "output_type": "stream",
     "text": [
      "f1 score : 0.9827586206896551\n",
      "\n",
      "accuracy : 0.9854014598540146\n",
      "\n",
      "Classification Report--\n",
      "               precision    recall  f1-score   support\n",
      "\n",
      "non-cancerous       0.99      0.99      0.99        79\n",
      "    cancerous       0.98      0.98      0.98        58\n",
      "\n",
      "     accuracy                           0.99       137\n",
      "    macro avg       0.99      0.99      0.99       137\n",
      " weighted avg       0.99      0.99      0.99       137\n",
      "\n",
      "\n",
      "Confussion matrix--\n",
      "[[78  1]\n",
      " [ 1 57]]\n"
     ]
    }
   ],
   "source": [
    "metrics(y_test,y_preds_log_reg)"
   ]
  },
  {
   "cell_type": "markdown",
   "metadata": {
    "cell_id": "00052-6dd59b5c-a646-4b57-8830-6b716d641f0a",
    "deepnote_cell_height": 62,
    "deepnote_cell_type": "markdown",
    "id": "Dim3uGy9x6pS"
   },
   "source": [
    "### 5. K-Nearest Neighbour"
   ]
  },
  {
   "cell_type": "markdown",
   "metadata": {
    "cell_id": "00053-6a25abd6-fa0b-4b9b-80e5-e6745a35d5cc",
    "deepnote_cell_height": 62,
    "deepnote_cell_type": "markdown"
   },
   "source": [
    "### 6. Feed-forward-neural-network"
   ]
  },
  {
   "cell_type": "markdown",
   "metadata": {
    "cell_id": "00054-2215fac9-f870-4850-b5de-d7c415a92843",
    "deepnote_cell_height": 62,
    "deepnote_cell_type": "markdown"
   },
   "source": [
    "### Visualization of results"
   ]
  },
  {
   "cell_type": "code",
   "execution_count": 37,
   "metadata": {
    "cell_id": "00055-7975e2e9-f130-486c-a183-2adc4e5fe197",
    "deepnote_cell_height": 423,
    "deepnote_cell_type": "code",
    "deepnote_to_be_reexecuted": false,
    "execution_millis": 5,
    "execution_start": 1659161927177,
    "source_hash": "a53d4b0a"
   },
   "outputs": [],
   "source": [
    "def cmatrix(y_test,y_pred):\n",
    "  cm=confusion_matrix(y_test,y_pred)\n",
    "  group_names=['True Neg','False Pos','False Neg','True Pos']\n",
    "  group_counts = [\"{0:0.0f}\".format(value) for value in\n",
    "                  cm.flatten()]\n",
    "  group_percentages = [\"{0:.2%}\".format(value) for value in\n",
    "                      cm.flatten()/np.sum(cm)]\n",
    "  labels = [f\"{v1}\\n{v2}\\n{v3}\" for v1, v2, v3 in\n",
    "            zip(group_names,group_counts,group_percentages)]\n",
    "  labels = np.asarray(labels).reshape(2,2)\n",
    "  categories = ['Zero', 'One']\n",
    "  accuracy  = np.trace(cm) / float(np.sum(cm))\n",
    "  precision = cm[1,1] / sum(cm[:,1])\n",
    "  recall    = cm[1,1] / sum(cm[1,:])\n",
    "  f1_score  = 2*precision*recall / (precision + recall)\n",
    "  stats_text = \"\\n\\n Accuracy={:0.3f}\\n Precision={:0.3f}\\n Recall={:0.3f}\\n F1 Score={:0.3f}\".format(accuracy,precision,recall,f1_score)\n",
    "  sns.heatmap(cm, xticklabels=categories,yticklabels=categories,annot=labels, fmt='', cmap='coolwarm')\n",
    "  plt.xlabel('Predicted label'+stats_text)\n",
    "  plt.ylabel('True label')\n",
    "  plt.show()"
   ]
  },
  {
   "cell_type": "code",
   "execution_count": 38,
   "metadata": {
    "cell_id": "00056-d861a80a-25e5-4c48-a296-78bed09342f9",
    "deepnote_cell_height": 414,
    "deepnote_cell_type": "code",
    "deepnote_output_heights": [
     322
    ],
    "deepnote_to_be_reexecuted": false,
    "execution_millis": 428,
    "execution_start": 1659161927230,
    "source_hash": "60a79563"
   },
   "outputs": [
    {
     "data": {
      "image/png": "[encoded data removed]",
      "text/plain": [
       "<Figure size 432x288 with 2 Axes>"
      ]
     },
     "metadata": {
      "image/png": {
       "height": 320,
       "width": 360
      },
      "needs_background": "light"
     },
     "output_type": "display_data"
    }
   ],
   "source": [
    "cmatrix(y_test,y_preds_naive_bias)"
   ]
  },
  {
   "cell_type": "code",
   "execution_count": 38,
   "metadata": {
    "cell_id": "00057-b3bc257d-1aca-4bf7-bdca-ff59c6b15b46",
    "deepnote_cell_height": 76,
    "deepnote_cell_type": "code",
    "deepnote_to_be_reexecuted": false,
    "execution_millis": 3,
    "execution_start": 1659161927665,
    "source_hash": "b623e53d"
   },
   "outputs": [],
   "source": []
  }
 ],
 "metadata": {
  "colab": {
   "collapsed_sections": [
    "7008492c-9648-4a8d-81ec-33404ff684e3",
    "01b6b267-0515-4135-9bdc-fb1d1e622961",
    "70ce000f-dfbd-4de6-ae1b-04ffe9ed46c8",
    "2f10ff87-a172-45b3-bc6f-fae5bd5061df",
    "71a56074-0baa-4c48-bdb8-526377d6e82b",
    "e996e6cf-b8f8-4b78-892c-e1e23059bc25",
    "4dde51e6-7c85-4379-945d-3d518a265f33",
    "87eqgLlsjr04",
    "jQBH1bdRmgDT",
    "RztTOiF0sbgV",
    "HBW_v7J5ndjI",
    "0wAreq80woad",
    "Dim3uGy9x6pS",
    "6_qVizHnylij"
   ],
   "name": "Cancer_prediction.ipynb",
   "provenance": []
  },
  "deepnote": {},
  "deepnote_execution_queue": [],
  "deepnote_notebook_id": "1618d82f-17e7-4251-9395-3f56af7a2fa5",
  "gpuClass": "standard",
  "kernelspec": {
   "display_name": "Python 3.10.5 64-bit (windows store)",
   "language": "python",
   "name": "python3"
  },
  "language_info": {
   "codemirror_mode": {
    "name": "ipython",
    "version": 3
   },
   "file_extension": ".py",
   "mimetype": "text/x-python",
   "name": "python",
   "nbconvert_exporter": "python",
   "pygments_lexer": "ipython3",
   "version": "3.10.5"
  },
  "vscode": {
   "interpreter": {
    "hash": "60c66453147b3f00c61021bed179eec507c3fda6e298e8943075a0231d2b3364"
   }
  }
 },
 "nbformat": 4,
 "nbformat_minor": 5
}
