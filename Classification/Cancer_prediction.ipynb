{
  "cells": [
    {
      "cell_type": "markdown",
      "id": "e9109d62-5d63-4920-a893-67bffd44ed23",
      "metadata": {
        "id": "e9109d62-5d63-4920-a893-67bffd44ed23"
      },
      "source": [
        "# Cancer prediction"
      ]
    },
    {
      "cell_type": "markdown",
      "id": "7008492c-9648-4a8d-81ec-33404ff684e3",
      "metadata": {
        "id": "7008492c-9648-4a8d-81ec-33404ff684e3"
      },
      "source": [
        "## Module imports"
      ]
    },
    {
      "cell_type": "code",
      "execution_count": 64,
      "id": "7b052a51-7fa2-441f-9c93-f4e0085b3fe4",
      "metadata": {
        "id": "7b052a51-7fa2-441f-9c93-f4e0085b3fe4"
      },
      "outputs": [],
      "source": [
        "import pandas as pd\n",
        "import numpy as np\n",
        "\n",
        "# Data visualization library\n",
        "import seaborn as sns\n",
        "\n",
        "# scikit-learn\n",
        "from sklearn.model_selection import train_test_split\n",
        "from sklearn.preprocessing import MinMaxScaler\n",
        "\n",
        "# Evaluation metrics\n",
        "from sklearn.metrics import accuracy_score,classification_report,f1_score,confusion_matrix"
      ]
    },
    {
      "cell_type": "markdown",
      "id": "01b6b267-0515-4135-9bdc-fb1d1e622961",
      "metadata": {
        "id": "01b6b267-0515-4135-9bdc-fb1d1e622961"
      },
      "source": [
        "## Importing dataset"
      ]
    },
    {
      "cell_type": "code",
      "execution_count": 65,
      "id": "f2u7NMUji1uo",
      "metadata": {
        "colab": {
          "base_uri": "https://localhost:8080/"
        },
        "id": "f2u7NMUji1uo",
        "outputId": "cb6bd91f-5aa0-496b-a4cb-ce11f3f51b28"
      },
      "outputs": [
        {
          "name": "stdout",
          "output_type": "stream",
          "text": [
            "Archive:  /content/cancer_data.csv.zip\n",
            "replace cancer_data.csv? [y]es, [n]o, [A]ll, [N]one, [r]ename: "
          ]
        }
      ],
      "source": [
        "!unzip /content/cancer_data.csv.zip"
      ]
    },
    {
      "cell_type": "code",
      "execution_count": 66,
      "id": "2e34f4d0-20ad-4f8c-a5e8-36b88065479d",
      "metadata": {
        "id": "2e34f4d0-20ad-4f8c-a5e8-36b88065479d"
      },
      "outputs": [],
      "source": [
        "DATASET_PATH = '/content/cancer_data.csv'\n",
        "df = pd.read_csv(DATASET_PATH)"
      ]
    },
    {
      "cell_type": "markdown",
      "id": "70ce000f-dfbd-4de6-ae1b-04ffe9ed46c8",
      "metadata": {
        "id": "70ce000f-dfbd-4de6-ae1b-04ffe9ed46c8"
      },
      "source": [
        "## Exploratory Data Analysis"
      ]
    },
    {
      "cell_type": "code",
      "execution_count": 67,
      "id": "dd944250-abbf-4468-8f19-34e3999c4f82",
      "metadata": {
        "colab": {
          "base_uri": "https://localhost:8080/"
        },
        "id": "dd944250-abbf-4468-8f19-34e3999c4f82",
        "outputId": "c8d6cf72-f184-456e-813c-094ad622cd69"
      },
      "outputs": [
        {
          "data": {
            "text/plain": [
              "(683, 11)"
            ]
          },
          "execution_count": 67,
          "metadata": {},
          "output_type": "execute_result"
        }
      ],
      "source": [
        "df.shape"
      ]
    },
    {
      "cell_type": "code",
      "execution_count": 68,
      "id": "9d3e7d53-848b-47a2-b2ef-da8cdcd38697",
      "metadata": {
        "colab": {
          "base_uri": "https://localhost:8080/"
        },
        "id": "9d3e7d53-848b-47a2-b2ef-da8cdcd38697",
        "outputId": "fe01d6f4-8123-4aa8-b1ec-67bc0cae4169"
      },
      "outputs": [
        {
          "data": {
            "text/plain": [
              "Sample code number             0\n",
              "Clump Thickness                0\n",
              "Uniformity of Cell Size        0\n",
              "Uniformity of Cell Shape       0\n",
              "Marginal Adhesion              0\n",
              "Single Epithelial Cell Size    0\n",
              "Bare Nuclei                    0\n",
              "Bland Chromatin                0\n",
              "Normal Nucleoli                0\n",
              "Mitoses                        0\n",
              "Class                          0\n",
              "dtype: int64"
            ]
          },
          "execution_count": 68,
          "metadata": {},
          "output_type": "execute_result"
        }
      ],
      "source": [
        "## Checking for null values\n",
        "df.isnull().sum()"
      ]
    },
    {
      "cell_type": "code",
      "execution_count": 69,
      "id": "3488d2b3-f069-40d5-bc96-2d788a21419e",
      "metadata": {
        "colab": {
          "base_uri": "https://localhost:8080/"
        },
        "id": "3488d2b3-f069-40d5-bc96-2d788a21419e",
        "outputId": "b78bef9c-0316-4ac2-d848-b4dfa6d7e9aa"
      },
      "outputs": [
        {
          "data": {
            "text/plain": [
              "Index(['Sample code number', 'Clump Thickness', 'Uniformity of Cell Size',\n",
              "       'Uniformity of Cell Shape', 'Marginal Adhesion',\n",
              "       'Single Epithelial Cell Size', 'Bare Nuclei', 'Bland Chromatin',\n",
              "       'Normal Nucleoli', 'Mitoses', 'Class'],\n",
              "      dtype='object')"
            ]
          },
          "execution_count": 69,
          "metadata": {},
          "output_type": "execute_result"
        }
      ],
      "source": [
        "df.columns"
      ]
    },
    {
      "cell_type": "code",
      "execution_count": 70,
      "id": "46c74d9d-96f0-4ba7-b9b4-4989d4543610",
      "metadata": {
        "colab": {
          "base_uri": "https://localhost:8080/",
          "height": 341
        },
        "id": "46c74d9d-96f0-4ba7-b9b4-4989d4543610",
        "outputId": "b589572b-7ef9-407c-aee2-60d848a49f22"
      },
      "outputs": [
        {
          "data": {
            "text/html": [
              "\n",
              "  <div id=\"df-b8fad6e2-df73-4bb8-a174-4f1b7aae60a1\">\n",
              "    <div class=\"colab-df-container\">\n",
              "      <div>\n",
              "<style scoped>\n",
              "    .dataframe tbody tr th:only-of-type {\n",
              "        vertical-align: middle;\n",
              "    }\n",
              "\n",
              "    .dataframe tbody tr th {\n",
              "        vertical-align: top;\n",
              "    }\n",
              "\n",
              "    .dataframe thead th {\n",
              "        text-align: right;\n",
              "    }\n",
              "</style>\n",
              "<table border=\"1\" class=\"dataframe\">\n",
              "  <thead>\n",
              "    <tr style=\"text-align: right;\">\n",
              "      <th></th>\n",
              "      <th>Sample code number</th>\n",
              "      <th>Clump Thickness</th>\n",
              "      <th>Uniformity of Cell Size</th>\n",
              "      <th>Uniformity of Cell Shape</th>\n",
              "      <th>Marginal Adhesion</th>\n",
              "      <th>Single Epithelial Cell Size</th>\n",
              "      <th>Bare Nuclei</th>\n",
              "      <th>Bland Chromatin</th>\n",
              "      <th>Normal Nucleoli</th>\n",
              "      <th>Mitoses</th>\n",
              "      <th>Class</th>\n",
              "    </tr>\n",
              "  </thead>\n",
              "  <tbody>\n",
              "    <tr>\n",
              "      <th>0</th>\n",
              "      <td>1000025</td>\n",
              "      <td>5</td>\n",
              "      <td>1</td>\n",
              "      <td>1</td>\n",
              "      <td>1</td>\n",
              "      <td>2</td>\n",
              "      <td>1</td>\n",
              "      <td>3</td>\n",
              "      <td>1</td>\n",
              "      <td>1</td>\n",
              "      <td>2</td>\n",
              "    </tr>\n",
              "    <tr>\n",
              "      <th>1</th>\n",
              "      <td>1002945</td>\n",
              "      <td>5</td>\n",
              "      <td>4</td>\n",
              "      <td>4</td>\n",
              "      <td>5</td>\n",
              "      <td>7</td>\n",
              "      <td>10</td>\n",
              "      <td>3</td>\n",
              "      <td>2</td>\n",
              "      <td>1</td>\n",
              "      <td>2</td>\n",
              "    </tr>\n",
              "    <tr>\n",
              "      <th>2</th>\n",
              "      <td>1015425</td>\n",
              "      <td>3</td>\n",
              "      <td>1</td>\n",
              "      <td>1</td>\n",
              "      <td>1</td>\n",
              "      <td>2</td>\n",
              "      <td>2</td>\n",
              "      <td>3</td>\n",
              "      <td>1</td>\n",
              "      <td>1</td>\n",
              "      <td>2</td>\n",
              "    </tr>\n",
              "    <tr>\n",
              "      <th>3</th>\n",
              "      <td>1016277</td>\n",
              "      <td>6</td>\n",
              "      <td>8</td>\n",
              "      <td>8</td>\n",
              "      <td>1</td>\n",
              "      <td>3</td>\n",
              "      <td>4</td>\n",
              "      <td>3</td>\n",
              "      <td>7</td>\n",
              "      <td>1</td>\n",
              "      <td>2</td>\n",
              "    </tr>\n",
              "    <tr>\n",
              "      <th>4</th>\n",
              "      <td>1017023</td>\n",
              "      <td>4</td>\n",
              "      <td>1</td>\n",
              "      <td>1</td>\n",
              "      <td>3</td>\n",
              "      <td>2</td>\n",
              "      <td>1</td>\n",
              "      <td>3</td>\n",
              "      <td>1</td>\n",
              "      <td>1</td>\n",
              "      <td>2</td>\n",
              "    </tr>\n",
              "  </tbody>\n",
              "</table>\n",
              "</div>\n",
              "      <button class=\"colab-df-convert\" onclick=\"convertToInteractive('df-b8fad6e2-df73-4bb8-a174-4f1b7aae60a1')\"\n",
              "              title=\"Convert this dataframe to an interactive table.\"\n",
              "              style=\"display:none;\">\n",
              "        \n",
              "  <svg xmlns=\"http://www.w3.org/2000/svg\" height=\"24px\"viewBox=\"0 0 24 24\"\n",
              "       width=\"24px\">\n",
              "    <path d=\"M0 0h24v24H0V0z\" fill=\"none\"/>\n",
              "    <path d=\"M18.56 5.44l.94 2.06.94-2.06 2.06-.94-2.06-.94-.94-2.06-.94 2.06-2.06.94zm-11 1L8.5 8.5l.94-2.06 2.06-.94-2.06-.94L8.5 2.5l-.94 2.06-2.06.94zm10 10l.94 2.06.94-2.06 2.06-.94-2.06-.94-.94-2.06-.94 2.06-2.06.94z\"/><path d=\"M17.41 7.96l-1.37-1.37c-.4-.4-.92-.59-1.43-.59-.52 0-1.04.2-1.43.59L10.3 9.45l-7.72 7.72c-.78.78-.78 2.05 0 2.83L4 21.41c.39.39.9.59 1.41.59.51 0 1.02-.2 1.41-.59l7.78-7.78 2.81-2.81c.8-.78.8-2.07 0-2.86zM5.41 20L4 18.59l7.72-7.72 1.47 1.35L5.41 20z\"/>\n",
              "  </svg>\n",
              "      </button>\n",
              "      \n",
              "  <style>\n",
              "    .colab-df-container {\n",
              "      display:flex;\n",
              "      flex-wrap:wrap;\n",
              "      gap: 12px;\n",
              "    }\n",
              "\n",
              "    .colab-df-convert {\n",
              "      background-color: #E8F0FE;\n",
              "      border: none;\n",
              "      border-radius: 50%;\n",
              "      cursor: pointer;\n",
              "      display: none;\n",
              "      fill: #1967D2;\n",
              "      height: 32px;\n",
              "      padding: 0 0 0 0;\n",
              "      width: 32px;\n",
              "    }\n",
              "\n",
              "    .colab-df-convert:hover {\n",
              "      background-color: #E2EBFA;\n",
              "      box-shadow: 0px 1px 2px rgba(60, 64, 67, 0.3), 0px 1px 3px 1px rgba(60, 64, 67, 0.15);\n",
              "      fill: #174EA6;\n",
              "    }\n",
              "\n",
              "    [theme=dark] .colab-df-convert {\n",
              "      background-color: #3B4455;\n",
              "      fill: #D2E3FC;\n",
              "    }\n",
              "\n",
              "    [theme=dark] .colab-df-convert:hover {\n",
              "      background-color: #434B5C;\n",
              "      box-shadow: 0px 1px 3px 1px rgba(0, 0, 0, 0.15);\n",
              "      filter: drop-shadow(0px 1px 2px rgba(0, 0, 0, 0.3));\n",
              "      fill: #FFFFFF;\n",
              "    }\n",
              "  </style>\n",
              "\n",
              "      <script>\n",
              "        const buttonEl =\n",
              "          document.querySelector('#df-b8fad6e2-df73-4bb8-a174-4f1b7aae60a1 button.colab-df-convert');\n",
              "        buttonEl.style.display =\n",
              "          google.colab.kernel.accessAllowed ? 'block' : 'none';\n",
              "\n",
              "        async function convertToInteractive(key) {\n",
              "          const element = document.querySelector('#df-b8fad6e2-df73-4bb8-a174-4f1b7aae60a1');\n",
              "          const dataTable =\n",
              "            await google.colab.kernel.invokeFunction('convertToInteractive',\n",
              "                                                     [key], {});\n",
              "          if (!dataTable) return;\n",
              "\n",
              "          const docLinkHtml = 'Like what you see? Visit the ' +\n",
              "            '<a target=\"_blank\" href=https://colab.research.google.com/notebooks/data_table.ipynb>data table notebook</a>'\n",
              "            + ' to learn more about interactive tables.';\n",
              "          element.innerHTML = '';\n",
              "          dataTable['output_type'] = 'display_data';\n",
              "          await google.colab.output.renderOutput(dataTable, element);\n",
              "          const docLink = document.createElement('div');\n",
              "          docLink.innerHTML = docLinkHtml;\n",
              "          element.appendChild(docLink);\n",
              "        }\n",
              "      </script>\n",
              "    </div>\n",
              "  </div>\n",
              "  "
            ],
            "text/plain": [
              "   Sample code number  Clump Thickness  Uniformity of Cell Size  \\\n",
              "0             1000025                5                        1   \n",
              "1             1002945                5                        4   \n",
              "2             1015425                3                        1   \n",
              "3             1016277                6                        8   \n",
              "4             1017023                4                        1   \n",
              "\n",
              "   Uniformity of Cell Shape  Marginal Adhesion  Single Epithelial Cell Size  \\\n",
              "0                         1                  1                            2   \n",
              "1                         4                  5                            7   \n",
              "2                         1                  1                            2   \n",
              "3                         8                  1                            3   \n",
              "4                         1                  3                            2   \n",
              "\n",
              "   Bare Nuclei  Bland Chromatin  Normal Nucleoli  Mitoses  Class  \n",
              "0            1                3                1        1      2  \n",
              "1           10                3                2        1      2  \n",
              "2            2                3                1        1      2  \n",
              "3            4                3                7        1      2  \n",
              "4            1                3                1        1      2  "
            ]
          },
          "execution_count": 70,
          "metadata": {},
          "output_type": "execute_result"
        }
      ],
      "source": [
        "df.head()"
      ]
    },
    {
      "cell_type": "code",
      "execution_count": 71,
      "id": "62bc4d8b-48fc-4f89-868e-de03e4fa4c90",
      "metadata": {
        "colab": {
          "base_uri": "https://localhost:8080/"
        },
        "id": "62bc4d8b-48fc-4f89-868e-de03e4fa4c90",
        "outputId": "8147dd29-81a1-4b27-9d33-88ef9dc396ce"
      },
      "outputs": [
        {
          "data": {
            "text/plain": [
              "array([2, 4])"
            ]
          },
          "execution_count": 71,
          "metadata": {},
          "output_type": "execute_result"
        }
      ],
      "source": [
        "## Let's see what are the classes\n",
        "df['Class'].unique()"
      ]
    },
    {
      "cell_type": "markdown",
      "id": "b70a209f-387b-445d-93a2-bd195f9082ed",
      "metadata": {
        "id": "b70a209f-387b-445d-93a2-bd195f9082ed"
      },
      "source": [
        "2 : Non cancerous\n",
        "4 : Cancerous\n",
        "\n",
        "We are mapping 2 with 0(non cancerous) and 4 with 1(cancerous)"
      ]
    },
    {
      "cell_type": "code",
      "execution_count": 72,
      "id": "2975c450-abc9-485a-a9c9-5730665fddf2",
      "metadata": {
        "id": "2975c450-abc9-485a-a9c9-5730665fddf2"
      },
      "outputs": [],
      "source": [
        "df['Class'] = df['Class'].map({2:0,4:1})"
      ]
    },
    {
      "cell_type": "code",
      "execution_count": 73,
      "id": "IXeL35f1tsDd",
      "metadata": {
        "id": "IXeL35f1tsDd"
      },
      "outputs": [],
      "source": [
        "class_names = ['non-cancerous','cancerous']"
      ]
    },
    {
      "cell_type": "code",
      "execution_count": 74,
      "id": "0dc60ad6-7a36-428d-9eff-8530dc2c54cf",
      "metadata": {
        "colab": {
          "base_uri": "https://localhost:8080/",
          "height": 116
        },
        "id": "0dc60ad6-7a36-428d-9eff-8530dc2c54cf",
        "outputId": "80861c7a-45fd-418d-d9dd-e0a8a31050b5"
      },
      "outputs": [
        {
          "data": {
            "text/plain": [
              "<matplotlib.axes._subplots.AxesSubplot at 0x7f7a64d2fd90>"
            ]
          },
          "execution_count": 74,
          "metadata": {},
          "output_type": "execute_result"
        },
        {
          "data": {
            "image/png": "[encoded data removed]",
            "text/plain": [
              "<Figure size 576x396 with 1 Axes>"
            ]
          },
          "metadata": {},
          "output_type": "display_data"
        }
      ],
      "source": [
        "## Total counts of these classes \n",
        "sns.countplot(df['Class'])"
      ]
    },
    {
      "cell_type": "markdown",
      "id": "0cb183c1-e46e-40b6-8055-f0b7d672e893",
      "metadata": {
        "id": "0cb183c1-e46e-40b6-8055-f0b7d672e893"
      },
      "source": [
        "These is an imbalance dataset"
      ]
    },
    {
      "cell_type": "code",
      "execution_count": 75,
      "id": "ea350ebb-15c9-40c5-9b15-3cd919468815",
      "metadata": {
        "id": "ea350ebb-15c9-40c5-9b15-3cd919468815"
      },
      "outputs": [],
      "source": [
        "## Dropping the sample code number\n",
        "df.drop('Sample code number',axis=1,inplace=True)"
      ]
    },
    {
      "cell_type": "markdown",
      "id": "2f10ff87-a172-45b3-bc6f-fae5bd5061df",
      "metadata": {
        "id": "2f10ff87-a172-45b3-bc6f-fae5bd5061df"
      },
      "source": [
        "## Splitting the dataset into Train and test set"
      ]
    },
    {
      "cell_type": "code",
      "execution_count": 76,
      "id": "9ff8c274-edf5-4611-b07f-0a3d77624050",
      "metadata": {
        "id": "9ff8c274-edf5-4611-b07f-0a3d77624050"
      },
      "outputs": [],
      "source": [
        "x_train,x_test,y_train,y_test = train_test_split(df.drop('Class',axis=1),df['Class'],test_size=0.2,random_state=42)"
      ]
    },
    {
      "cell_type": "code",
      "execution_count": 77,
      "id": "JVe9cmIqpn7r",
      "metadata": {
        "id": "JVe9cmIqpn7r"
      },
      "outputs": [],
      "source": [
        "x_train = x_train.to_numpy()\n",
        "x_test = x_test.to_numpy()\n",
        "y_train = y_train.to_numpy()\n",
        "y_test = y_test.to_numpy()"
      ]
    },
    {
      "cell_type": "code",
      "execution_count": 78,
      "id": "82b97b66-c4f3-4e46-b1fe-ac5df398d8ac",
      "metadata": {
        "colab": {
          "base_uri": "https://localhost:8080/"
        },
        "id": "82b97b66-c4f3-4e46-b1fe-ac5df398d8ac",
        "outputId": "1e6881b3-4a1a-4dd2-9099-d96041ae3c24"
      },
      "outputs": [
        {
          "name": "stdout",
          "output_type": "stream",
          "text": [
            "Shape of x train :  (546, 9)\n",
            "Shape of x test :  (137, 9)\n",
            "Shape of y train :  (546,)\n",
            "Shape of y test :  (137,)\n"
          ]
        }
      ],
      "source": [
        "print('Shape of x train : ', x_train.shape)\n",
        "print('Shape of x test : ', x_test.shape)\n",
        "print('Shape of y train : ', y_train.shape)\n",
        "print('Shape of y test : ', y_test.shape)"
      ]
    },
    {
      "cell_type": "markdown",
      "id": "71a56074-0baa-4c48-bdb8-526377d6e82b",
      "metadata": {
        "id": "71a56074-0baa-4c48-bdb8-526377d6e82b"
      },
      "source": [
        "## Rescaling the data using MinMaxScaler"
      ]
    },
    {
      "cell_type": "code",
      "execution_count": 79,
      "id": "c4b185e1-2ccf-4e5b-b5ea-a668ef3d2ec3",
      "metadata": {
        "colab": {
          "base_uri": "https://localhost:8080/"
        },
        "id": "c4b185e1-2ccf-4e5b-b5ea-a668ef3d2ec3",
        "outputId": "b6f07e00-15ce-49fa-a085-c47c988383b2"
      },
      "outputs": [
        {
          "data": {
            "text/plain": [
              "MinMaxScaler()"
            ]
          },
          "execution_count": 79,
          "metadata": {},
          "output_type": "execute_result"
        }
      ],
      "source": [
        "transformer = MinMaxScaler()\n",
        "transformer.fit(x_train)"
      ]
    },
    {
      "cell_type": "code",
      "execution_count": 80,
      "id": "4f70a51f-2fa9-444b-b919-a0b912acfde2",
      "metadata": {
        "id": "4f70a51f-2fa9-444b-b919-a0b912acfde2"
      },
      "outputs": [],
      "source": [
        "x_train_scaled = transformer.transform(x_train)\n",
        "x_test_scaled = transformer.transform(x_test)"
      ]
    },
    {
      "cell_type": "markdown",
      "id": "4dde51e6-7c85-4379-945d-3d518a265f33",
      "metadata": {
        "id": "4dde51e6-7c85-4379-945d-3d518a265f33"
      },
      "source": [
        "## Cross validation"
      ]
    },
    {
      "cell_type": "code",
      "execution_count": 86,
      "id": "8c318297-0897-4a1e-8bff-b75873203302",
      "metadata": {
        "id": "8c318297-0897-4a1e-8bff-b75873203302"
      },
      "outputs": [],
      "source": [
        "from sklearn.model_selection import StratifiedKFold\n",
        "\n",
        "cv = StratifiedKFold(n_splits=10, shuffle=True, random_state=1121218)"
      ]
    },
    {
      "cell_type": "markdown",
      "id": "87eqgLlsjr04",
      "metadata": {
        "id": "87eqgLlsjr04"
      },
      "source": [
        "## Models"
      ]
    },
    {
      "cell_type": "code",
      "execution_count": 87,
      "id": "osVpM9w3mlmt",
      "metadata": {
        "id": "osVpM9w3mlmt"
      },
      "outputs": [],
      "source": [
        "def fit_model(model,dataset,cv=None):\n",
        "  x = dataset[0]\n",
        "  y = dataset[1]\n",
        "\n",
        "  f1_evaluation =[]\n",
        "  for train_index, test_index in cv.split(x, y): \n",
        "    X_train_fold, X_test_fold = x[train_index], x[test_index] \n",
        "    y_train_fold, y_test_fold = y[train_index], y[test_index] \n",
        "    model.fit(X_train_fold, y_train_fold) \n",
        "    y_pred = model.predict(X_test_fold)\n",
        "    f1 = f1_score(y_test_fold,y_pred)\n",
        "    f1_evaluation.append(f1)\n",
        "\n",
        "  return model,f1_evaluation"
      ]
    },
    {
      "cell_type": "code",
      "execution_count": 88,
      "id": "HzlhQdeZuOFq",
      "metadata": {
        "id": "HzlhQdeZuOFq"
      },
      "outputs": [],
      "source": [
        "def metrics(y_true,y_pred,f1_scores_list=None):\n",
        "  print('f1 score :',f1_score(y_true,y_pred))\n",
        "  print()\n",
        "  print('accuracy :',accuracy_score(y_true,y_pred))\n",
        "  print()\n",
        "  print('Classification Report--')\n",
        "  print(classification_report(y_true,y_pred,target_names=class_names))\n",
        "  print()\n",
        "  print('Confussion matrix--')\n",
        "  print(confusion_matrix(y_true,y_pred))\n",
        "  print()\n",
        "  if f1_scores_list is not None:\n",
        "    print('Minimum f1 score[TRAINING] :',min(f1_scores_list))\n",
        "    print('Maximum f1 score[TRAINING] :',max(f1_scores_list))\n",
        "    print('Average f1 score[TRAINING] :',np.mean(f1_scores_list))\n",
        "\n"
      ]
    },
    {
      "cell_type": "markdown",
      "id": "jQBH1bdRmgDT",
      "metadata": {
        "id": "jQBH1bdRmgDT"
      },
      "source": [
        "### Naive Bias"
      ]
    },
    {
      "cell_type": "code",
      "execution_count": 27,
      "id": "WiwQbjiymiUw",
      "metadata": {
        "id": "WiwQbjiymiUw"
      },
      "outputs": [],
      "source": [
        "from sklearn.naive_bayes import GaussianNB\n",
        "nb = GaussianNB()\n",
        "nb,f1_scores_nb = fit_model(nb,[x_train_scaled,y_train],cv=cv)"
      ]
    },
    {
      "cell_type": "code",
      "execution_count": 28,
      "id": "bAYY-o7_qUcX",
      "metadata": {
        "id": "bAYY-o7_qUcX"
      },
      "outputs": [],
      "source": [
        "y_pred = nb.predict(x_test_scaled)"
      ]
    },
    {
      "cell_type": "code",
      "execution_count": 29,
      "id": "-VAXG5wyviHy",
      "metadata": {
        "colab": {
          "base_uri": "https://localhost:8080/"
        },
        "id": "-VAXG5wyviHy",
        "outputId": "6af91623-e95b-474a-af5f-3655c227188d"
      },
      "outputs": [
        {
          "name": "stdout",
          "output_type": "stream",
          "text": [
            "f1 score : 0.9572649572649573\n",
            "\n",
            "accuracy : 0.9635036496350365\n",
            "\n",
            "Classification Report--\n",
            "               precision    recall  f1-score   support\n",
            "\n",
            "non-cancerous       0.97      0.96      0.97        79\n",
            "    cancerous       0.95      0.97      0.96        58\n",
            "\n",
            "     accuracy                           0.96       137\n",
            "    macro avg       0.96      0.96      0.96       137\n",
            " weighted avg       0.96      0.96      0.96       137\n",
            "\n",
            "\n",
            "Confussion matrix--\n",
            "[[76  3]\n",
            " [ 2 56]]\n",
            "\n",
            "Minimum f1 score[TRAINING] : 0.8888888888888888\n",
            "Maximum f1 score[TRAINING] : 0.972972972972973\n",
            "Average f1 score[TRAINING] : 0.9471247833763881\n"
          ]
        }
      ],
      "source": [
        "metrics(y_test,y_pred,f1_scores_nb)"
      ]
    },
    {
      "cell_type": "markdown",
      "id": "RztTOiF0sbgV",
      "metadata": {
        "id": "RztTOiF0sbgV"
      },
      "source": [
        "### Ridge Classifier"
      ]
    },
    {
      "cell_type": "markdown",
      "id": "HBW_v7J5ndjI",
      "metadata": {
        "id": "HBW_v7J5ndjI"
      },
      "source": [
        "### Random Forest Classifier"
      ]
    },
    {
      "cell_type": "markdown",
      "id": "0wAreq80woad",
      "metadata": {
        "id": "0wAreq80woad"
      },
      "source": [
        "### Logistic Regression"
      ]
    },
    {
      "cell_type": "markdown",
      "id": "Dim3uGy9x6pS",
      "metadata": {
        "id": "Dim3uGy9x6pS"
      },
      "source": [
        "### K-Nearest Neighbours"
      ]
    },
    {
      "cell_type": "markdown",
      "id": "6_qVizHnylij",
      "metadata": {
        "id": "6_qVizHnylij"
      },
      "source": [
        "### Feed-forward-neural-network"
      ]
    },
    {
      "cell_type": "code",
      "execution_count": 42,
      "id": "bA7RjeHX0LOz",
      "metadata": {
        "id": "bA7RjeHX0LOz"
      },
      "outputs": [],
      "source": [
        "import tensorflow as tf\n",
        "from tensorflow.keras.layers import Dense"
      ]
    },
    {
      "cell_type": "code",
      "execution_count": 63,
      "id": "qiWVLR-f0SNN",
      "metadata": {
        "colab": {
          "base_uri": "https://localhost:8080/"
        },
        "id": "qiWVLR-f0SNN",
        "outputId": "dea05d3e-c7ab-4837-9088-74d4865720ed"
      },
      "outputs": [
        {
          "name": "stdout",
          "output_type": "stream",
          "text": [
            "Epoch 1/50\n",
            "18/18 [==============================] - 1s 11ms/step - loss: 0.6876 - accuracy: 0.6960 - val_loss: 0.6808 - val_accuracy: 0.7080\n",
            "Epoch 2/50\n",
            "18/18 [==============================] - 0s 3ms/step - loss: 0.6794 - accuracy: 0.7875 - val_loss: 0.6707 - val_accuracy: 0.7518\n",
            "Epoch 3/50\n",
            "18/18 [==============================] - 0s 4ms/step - loss: 0.6690 - accuracy: 0.8425 - val_loss: 0.6576 - val_accuracy: 0.8102\n",
            "Epoch 4/50\n",
            "18/18 [==============================] - 0s 4ms/step - loss: 0.6568 - accuracy: 0.8663 - val_loss: 0.6430 - val_accuracy: 0.8467\n",
            "Epoch 5/50\n",
            "18/18 [==============================] - 0s 4ms/step - loss: 0.6441 - accuracy: 0.9011 - val_loss: 0.6273 - val_accuracy: 0.9051\n",
            "Epoch 6/50\n",
            "18/18 [==============================] - 0s 3ms/step - loss: 0.6308 - accuracy: 0.9212 - val_loss: 0.6118 - val_accuracy: 0.9270\n",
            "Epoch 7/50\n",
            "18/18 [==============================] - 0s 3ms/step - loss: 0.6167 - accuracy: 0.9304 - val_loss: 0.5958 - val_accuracy: 0.9343\n",
            "Epoch 8/50\n",
            "18/18 [==============================] - 0s 4ms/step - loss: 0.6018 - accuracy: 0.9396 - val_loss: 0.5785 - val_accuracy: 0.9343\n",
            "Epoch 9/50\n",
            "18/18 [==============================] - 0s 4ms/step - loss: 0.5862 - accuracy: 0.9396 - val_loss: 0.5621 - val_accuracy: 0.9489\n",
            "Epoch 10/50\n",
            "18/18 [==============================] - 0s 4ms/step - loss: 0.5710 - accuracy: 0.9396 - val_loss: 0.5448 - val_accuracy: 0.9489\n",
            "Epoch 11/50\n",
            "18/18 [==============================] - 0s 3ms/step - loss: 0.5549 - accuracy: 0.9432 - val_loss: 0.5273 - val_accuracy: 0.9489\n",
            "Epoch 12/50\n",
            "18/18 [==============================] - 0s 3ms/step - loss: 0.5398 - accuracy: 0.9451 - val_loss: 0.5115 - val_accuracy: 0.9416\n",
            "Epoch 13/50\n",
            "18/18 [==============================] - 0s 3ms/step - loss: 0.5259 - accuracy: 0.9487 - val_loss: 0.4961 - val_accuracy: 0.9489\n",
            "Epoch 14/50\n",
            "18/18 [==============================] - 0s 4ms/step - loss: 0.5128 - accuracy: 0.9505 - val_loss: 0.4840 - val_accuracy: 0.9562\n",
            "Epoch 15/50\n",
            "18/18 [==============================] - 0s 4ms/step - loss: 0.5006 - accuracy: 0.9542 - val_loss: 0.4700 - val_accuracy: 0.9489\n",
            "Epoch 16/50\n",
            "18/18 [==============================] - 0s 4ms/step - loss: 0.4883 - accuracy: 0.9542 - val_loss: 0.4571 - val_accuracy: 0.9489\n",
            "Epoch 17/50\n",
            "18/18 [==============================] - 0s 3ms/step - loss: 0.4766 - accuracy: 0.9560 - val_loss: 0.4448 - val_accuracy: 0.9489\n",
            "Epoch 18/50\n",
            "18/18 [==============================] - 0s 4ms/step - loss: 0.4660 - accuracy: 0.9505 - val_loss: 0.4335 - val_accuracy: 0.9489\n",
            "Epoch 19/50\n",
            "18/18 [==============================] - 0s 3ms/step - loss: 0.4568 - accuracy: 0.9505 - val_loss: 0.4239 - val_accuracy: 0.9489\n",
            "Epoch 20/50\n",
            "18/18 [==============================] - 0s 4ms/step - loss: 0.4482 - accuracy: 0.9487 - val_loss: 0.4153 - val_accuracy: 0.9489\n",
            "Epoch 21/50\n",
            "18/18 [==============================] - 0s 3ms/step - loss: 0.4403 - accuracy: 0.9524 - val_loss: 0.4076 - val_accuracy: 0.9489\n",
            "Epoch 22/50\n",
            "18/18 [==============================] - 0s 3ms/step - loss: 0.4328 - accuracy: 0.9524 - val_loss: 0.3996 - val_accuracy: 0.9489\n",
            "Epoch 23/50\n",
            "18/18 [==============================] - 0s 4ms/step - loss: 0.4251 - accuracy: 0.9542 - val_loss: 0.3928 - val_accuracy: 0.9489\n",
            "Epoch 24/50\n",
            "18/18 [==============================] - 0s 3ms/step - loss: 0.4181 - accuracy: 0.9542 - val_loss: 0.3856 - val_accuracy: 0.9489\n",
            "Epoch 25/50\n",
            "18/18 [==============================] - 0s 3ms/step - loss: 0.4116 - accuracy: 0.9542 - val_loss: 0.3788 - val_accuracy: 0.9489\n",
            "Epoch 26/50\n",
            "18/18 [==============================] - 0s 3ms/step - loss: 0.4054 - accuracy: 0.9597 - val_loss: 0.3742 - val_accuracy: 0.9489\n",
            "Epoch 27/50\n",
            "18/18 [==============================] - 0s 3ms/step - loss: 0.3995 - accuracy: 0.9597 - val_loss: 0.3688 - val_accuracy: 0.9489\n",
            "Epoch 28/50\n",
            "18/18 [==============================] - 0s 4ms/step - loss: 0.3939 - accuracy: 0.9597 - val_loss: 0.3632 - val_accuracy: 0.9489\n",
            "Epoch 29/50\n",
            "18/18 [==============================] - 0s 4ms/step - loss: 0.3885 - accuracy: 0.9597 - val_loss: 0.3575 - val_accuracy: 0.9489\n",
            "Epoch 30/50\n",
            "18/18 [==============================] - 0s 3ms/step - loss: 0.3830 - accuracy: 0.9597 - val_loss: 0.3520 - val_accuracy: 0.9562\n",
            "Epoch 31/50\n",
            "18/18 [==============================] - 0s 3ms/step - loss: 0.3779 - accuracy: 0.9597 - val_loss: 0.3471 - val_accuracy: 0.9562\n",
            "Epoch 32/50\n",
            "18/18 [==============================] - 0s 2ms/step - loss: 0.3730 - accuracy: 0.9597 - val_loss: 0.3425 - val_accuracy: 0.9562\n",
            "Epoch 33/50\n",
            "18/18 [==============================] - 0s 3ms/step - loss: 0.3682 - accuracy: 0.9597 - val_loss: 0.3375 - val_accuracy: 0.9708\n",
            "Epoch 34/50\n",
            "18/18 [==============================] - 0s 3ms/step - loss: 0.3634 - accuracy: 0.9597 - val_loss: 0.3336 - val_accuracy: 0.9708\n",
            "Epoch 35/50\n",
            "18/18 [==============================] - 0s 3ms/step - loss: 0.3588 - accuracy: 0.9615 - val_loss: 0.3292 - val_accuracy: 0.9708\n",
            "Epoch 36/50\n",
            "18/18 [==============================] - 0s 4ms/step - loss: 0.3543 - accuracy: 0.9615 - val_loss: 0.3253 - val_accuracy: 0.9708\n",
            "Epoch 37/50\n",
            "18/18 [==============================] - 0s 3ms/step - loss: 0.3500 - accuracy: 0.9615 - val_loss: 0.3216 - val_accuracy: 0.9708\n",
            "Epoch 38/50\n",
            "18/18 [==============================] - 0s 3ms/step - loss: 0.3457 - accuracy: 0.9634 - val_loss: 0.3204 - val_accuracy: 0.9708\n",
            "Epoch 39/50\n",
            "18/18 [==============================] - 0s 4ms/step - loss: 0.3423 - accuracy: 0.9670 - val_loss: 0.3167 - val_accuracy: 0.9708\n",
            "Epoch 40/50\n",
            "18/18 [==============================] - 0s 4ms/step - loss: 0.3383 - accuracy: 0.9670 - val_loss: 0.3125 - val_accuracy: 0.9708\n",
            "Epoch 41/50\n",
            "18/18 [==============================] - 0s 3ms/step - loss: 0.3345 - accuracy: 0.9670 - val_loss: 0.3086 - val_accuracy: 0.9708\n",
            "Epoch 42/50\n",
            "18/18 [==============================] - 0s 4ms/step - loss: 0.3308 - accuracy: 0.9670 - val_loss: 0.3057 - val_accuracy: 0.9708\n",
            "Epoch 43/50\n",
            "18/18 [==============================] - 0s 3ms/step - loss: 0.3272 - accuracy: 0.9670 - val_loss: 0.3028 - val_accuracy: 0.9708\n",
            "Epoch 44/50\n",
            "18/18 [==============================] - 0s 4ms/step - loss: 0.3235 - accuracy: 0.9670 - val_loss: 0.2992 - val_accuracy: 0.9708\n",
            "Epoch 45/50\n",
            "18/18 [==============================] - 0s 3ms/step - loss: 0.3199 - accuracy: 0.9670 - val_loss: 0.2964 - val_accuracy: 0.9781\n",
            "Epoch 46/50\n",
            "18/18 [==============================] - 0s 3ms/step - loss: 0.3164 - accuracy: 0.9689 - val_loss: 0.2929 - val_accuracy: 0.9854\n",
            "Epoch 47/50\n",
            "18/18 [==============================] - 0s 3ms/step - loss: 0.3130 - accuracy: 0.9689 - val_loss: 0.2900 - val_accuracy: 0.9854\n",
            "Epoch 48/50\n",
            "18/18 [==============================] - 0s 3ms/step - loss: 0.3095 - accuracy: 0.9689 - val_loss: 0.2864 - val_accuracy: 0.9854\n",
            "Epoch 49/50\n",
            "18/18 [==============================] - 0s 4ms/step - loss: 0.3063 - accuracy: 0.9670 - val_loss: 0.2830 - val_accuracy: 0.9854\n",
            "Epoch 50/50\n",
            "18/18 [==============================] - 0s 3ms/step - loss: 0.3030 - accuracy: 0.9689 - val_loss: 0.2804 - val_accuracy: 0.9854\n"
          ]
        }
      ],
      "source": [
        "tf.random.set_seed(200)\n",
        "\n",
        "#model\n",
        "\n",
        "fnn = tf.keras.Sequential()\n",
        "\n",
        "## adding layers\n",
        "\n",
        "fnn.add(tf.keras.layers.Dense(4,activation='relu'))\n",
        "fnn.add(tf.keras.layers.Dense(2,activation='relu'))\n",
        "fnn.add(tf.keras.layers.Dense(1,activation='sigmoid'))\n",
        "             \n",
        "#compile\n",
        "fnn.compile(\n",
        "    loss = tf.keras.losses.binary_crossentropy,\n",
        "    optimizer = tf.keras.optimizers.Adam(),\n",
        "    metrics =['accuracy'])\n",
        "             \n",
        "#fitting data\n",
        "history = fnn.fit(x_train_scaled,\n",
        "            y_train,\n",
        "            validation_data=(x_test_scaled,y_test),\n",
        "            epochs=50)\n"
      ]
    },
    {
      "cell_type": "code",
      "execution_count": 56,
      "id": "c9LUvQJv0-M3",
      "metadata": {
        "colab": {
          "base_uri": "https://localhost:8080/",
          "height": 387
        },
        "id": "c9LUvQJv0-M3",
        "outputId": "5be52e63-6978-4dfd-998b-55c8d3a05a57"
      },
      "outputs": [
        {
          "data": {
            "text/plain": [
              "<matplotlib.axes._subplots.AxesSubplot at 0x7f7a64b0a4d0>"
            ]
          },
          "execution_count": 56,
          "metadata": {},
          "output_type": "execute_result"
        },
        {
          "data": {
            "text/plain": [
              "<Figure size 864x720 with 0 Axes>"
            ]
          },
          "metadata": {},
          "output_type": "display_data"
        },
        {
          "data": {
            "image/png": "[encoded data removed]",
            "text/plain": [
              "<Figure size 576x396 with 1 Axes>"
            ]
          },
          "metadata": {},
          "output_type": "display_data"
        }
      ],
      "source": [
        "plt.figure(figsize=(12,10))\n",
        "pd.DataFrame(history.history).plot()\n"
      ]
    },
    {
      "cell_type": "code",
      "execution_count": 57,
      "id": "lfzHpp-y4GOQ",
      "metadata": {
        "id": "lfzHpp-y4GOQ"
      },
      "outputs": [],
      "source": [
        "y_pred = fnn.predict(x_test_scaled)\n",
        "y_pred = tf.round(y_pred).numpy()"
      ]
    },
    {
      "cell_type": "code",
      "execution_count": 58,
      "id": "5O3n8rvQ58yH",
      "metadata": {
        "colab": {
          "base_uri": "https://localhost:8080/"
        },
        "id": "5O3n8rvQ58yH",
        "outputId": "7a3abd98-e426-4a5e-b4af-5b7f2dde0e96"
      },
      "outputs": [
        {
          "name": "stdout",
          "output_type": "stream",
          "text": [
            "f1 score : 0.983050847457627\n",
            "\n",
            "accuracy : 0.9854014598540146\n",
            "\n",
            "Classification Report--\n",
            "               precision    recall  f1-score   support\n",
            "\n",
            "non-cancerous       1.00      0.97      0.99        79\n",
            "    cancerous       0.97      1.00      0.98        58\n",
            "\n",
            "     accuracy                           0.99       137\n",
            "    macro avg       0.98      0.99      0.99       137\n",
            " weighted avg       0.99      0.99      0.99       137\n",
            "\n",
            "\n",
            "Confussion matrix--\n",
            "[[77  2]\n",
            " [ 0 58]]\n",
            "\n"
          ]
        }
      ],
      "source": [
        "metrics(y_test,y_pred)"
      ]
    },
    {
      "cell_type": "code",
      "execution_count": null,
      "id": "0U_MT-fH6BP8",
      "metadata": {
        "id": "0U_MT-fH6BP8"
      },
      "outputs": [],
      "source": []
    }
  ],
  "metadata": {
    "colab": {
      "collapsed_sections": [
        "7008492c-9648-4a8d-81ec-33404ff684e3",
        "01b6b267-0515-4135-9bdc-fb1d1e622961",
        "70ce000f-dfbd-4de6-ae1b-04ffe9ed46c8",
        "2f10ff87-a172-45b3-bc6f-fae5bd5061df",
        "71a56074-0baa-4c48-bdb8-526377d6e82b",
        "e996e6cf-b8f8-4b78-892c-e1e23059bc25",
        "4dde51e6-7c85-4379-945d-3d518a265f33",
        "87eqgLlsjr04",
        "jQBH1bdRmgDT",
        "RztTOiF0sbgV",
        "HBW_v7J5ndjI",
        "0wAreq80woad",
        "Dim3uGy9x6pS",
        "6_qVizHnylij"
      ],
      "name": "Cancer_prediction.ipynb",
      "provenance": []
    },
    "gpuClass": "standard",
    "kernelspec": {
      "display_name": "Python 3",
      "name": "python3"
    },
    "language_info": {
      "name": "python"
    }
  },
  "nbformat": 4,
  "nbformat_minor": 5
}
