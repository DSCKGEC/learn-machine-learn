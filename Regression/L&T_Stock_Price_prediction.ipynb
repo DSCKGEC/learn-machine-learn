{
 "cells": [
  {
   "cell_type": "markdown",
   "metadata": {
    "id": "PftKPC5ptUBG"
   },
   "source": [
    "# DATA PRE-PROCESSING"
   ]
  },
  {
   "cell_type": "code",
   "execution_count": 1,
   "metadata": {
    "id": "azkUvNvbvhLr"
   },
   "outputs": [],
   "source": [
    "import numpy as np\n",
    "import matplotlib.pyplot as plt\n",
    "import pandas as pd"
   ]
  },
  {
   "cell_type": "code",
   "execution_count": 2,
   "metadata": {
    "id": "mgkoE-Skwiux"
   },
   "outputs": [],
   "source": [
    "dataset = pd.read_csv(\"./Datasets/LT.csv\")\n",
    "x = dataset.iloc[1:, 1:5].values\n",
    "y = dataset.iloc[1:, -1].values"
   ]
  },
  {
   "cell_type": "code",
   "execution_count": 3,
   "metadata": {
    "id": "UdN7ZqwOKNzD"
   },
   "outputs": [],
   "source": [
    "from sklearn.impute import SimpleImputer\n",
    "imputer = SimpleImputer(missing_values=np.nan, strategy=\"mean\")\n",
    "imputer.fit(x[:, :-1])\n",
    "x[:, :-1] = imputer.transform(x[:, :-1])"
   ]
  },
  {
   "cell_type": "code",
   "execution_count": 4,
   "metadata": {
    "id": "HleHSauIxqFn"
   },
   "outputs": [],
   "source": [
    "from sklearn.model_selection import train_test_split\n",
    "xtrain, xtest, ytrain, ytest = train_test_split(x,y,test_size=0.2)"
   ]
  },
  {
   "cell_type": "markdown",
   "metadata": {
    "id": "aIkbmMhWYV_y"
   },
   "source": [
    "# LINEAR REGRESSION MULTIVARIABLE\n"
   ]
  },
  {
   "cell_type": "code",
   "execution_count": 5,
   "metadata": {
    "id": "PYgQDkOQx6oM"
   },
   "outputs": [],
   "source": [
    "from sklearn.linear_model import LinearRegression\n",
    "lr_m =  LinearRegression()\n",
    "lr_m.fit(xtrain,ytrain)\n",
    "lr_m_pred = lr_m.predict(xtest)"
   ]
  },
  {
   "cell_type": "code",
   "execution_count": 6,
   "metadata": {
    "colab": {
     "base_uri": "https://localhost:8080/"
    },
    "id": "vvrHfaPYOnPG",
    "outputId": "556d53da-d6bc-4c91-b17a-eb1fef5cb80a"
   },
   "outputs": [
    {
     "name": "stdout",
     "output_type": "stream",
     "text": [
      "[[1697.9  1703.57]\n",
      " [1374.6  1376.4 ]\n",
      " [1064.95 1080.03]\n",
      " ...\n",
      " [2647.75 2609.08]\n",
      " [ 951.2   952.65]\n",
      " [1440.6  1445.12]]\n"
     ]
    }
   ],
   "source": [
    "np.set_printoptions(precision=2)\n",
    "print(np.concatenate((ytest.reshape(len(ytest),1), lr_m.predict(xtest).reshape(len(lr_m.predict(xtest)),1)),1))"
   ]
  },
  {
   "cell_type": "markdown",
   "metadata": {
    "id": "X9pyc_ehYgm1"
   },
   "source": [
    "# LINEAR REGRESSION SINGLE VARIABLE"
   ]
  },
  {
   "cell_type": "code",
   "execution_count": 7,
   "metadata": {
    "colab": {
     "base_uri": "https://localhost:8080/"
    },
    "id": "3A4ZbfsxU2c8",
    "outputId": "668521d3-94dd-4bad-a4d2-6d1f88193a11"
   },
   "outputs": [
    {
     "data": {
      "text/plain": [
       "LinearRegression()"
      ]
     },
     "execution_count": 7,
     "metadata": {},
     "output_type": "execute_result"
    }
   ],
   "source": [
    "from sklearn.linear_model import LinearRegression\n",
    "lr = LinearRegression()\n",
    "lr.fit(xtrain[:,0].reshape(-1,1), ytrain)"
   ]
  },
  {
   "cell_type": "code",
   "execution_count": 8,
   "metadata": {
    "colab": {
     "base_uri": "https://localhost:8080/"
    },
    "id": "WVFZoQT6VVII",
    "outputId": "b81835fd-2314-4fcc-ff18-9d66f491fb8e"
   },
   "outputs": [
    {
     "name": "stdout",
     "output_type": "stream",
     "text": [
      "[[1697.9  1720.19]\n",
      " [1374.6  1365.62]\n",
      " [1064.95 1087.96]\n",
      " ...\n",
      " [2647.75 2628.87]\n",
      " [ 951.2   946.67]\n",
      " [1440.6  1467.03]]\n"
     ]
    }
   ],
   "source": [
    "lr_pred = lr.predict(xtest[:,0].reshape(-1,1))\n",
    "print(np.concatenate((ytest.reshape(-1,1), lr_pred.reshape(-1,1)),-1))"
   ]
  },
  {
   "cell_type": "markdown",
   "metadata": {
    "id": "4w7v7_2_t_K8"
   },
   "source": [
    "# POLYNOMIAL LINEAR REGRESSION"
   ]
  },
  {
   "cell_type": "code",
   "execution_count": 9,
   "metadata": {},
   "outputs": [],
   "source": [
    "from sklearn.preprocessing import PolynomialFeatures\n",
    "poly = PolynomialFeatures(degree = 1)\n",
    "X_poly = poly.fit_transform(x) \n",
    "lin2 = LinearRegression()"
   ]
  },
  {
   "cell_type": "code",
   "execution_count": 10,
   "metadata": {},
   "outputs": [],
   "source": [
    "plrxtrain, plrxtest, plrytrain, plrytest = train_test_split(X_poly,y,test_size=0.2)"
   ]
  },
  {
   "cell_type": "code",
   "execution_count": 11,
   "metadata": {},
   "outputs": [
    {
     "data": {
      "text/plain": [
       "LinearRegression()"
      ]
     },
     "execution_count": 11,
     "metadata": {},
     "output_type": "execute_result"
    }
   ],
   "source": [
    "lin2.fit(plrxtrain, plrytrain)"
   ]
  },
  {
   "cell_type": "code",
   "execution_count": 12,
   "metadata": {},
   "outputs": [
    {
     "name": "stdout",
     "output_type": "stream",
     "text": [
      "[[ 784.2   791.21]\n",
      " [ 965.65  964.74]\n",
      " [1333.95 1340.37]\n",
      " ...\n",
      " [ 875.35  872.51]\n",
      " [1783.65 1776.13]\n",
      " [1171.25 1168.74]]\n"
     ]
    }
   ],
   "source": [
    "plr_pred = lin2.predict(plrxtest)\n",
    "print(np.concatenate((plrytest.reshape(-1,1), plr_pred.reshape(-1,1)),-1))"
   ]
  },
  {
   "cell_type": "markdown",
   "metadata": {
    "id": "Z2ACc-Cii0Hr"
   },
   "source": [
    "# SUPPORT VECTOR REGRESSION"
   ]
  },
  {
   "cell_type": "code",
   "execution_count": 13,
   "metadata": {
    "colab": {
     "base_uri": "https://localhost:8080/"
    },
    "id": "pT9fF8_fhxLt",
    "outputId": "399867bb-9ac3-4610-a417-71deb79ff3e9"
   },
   "outputs": [
    {
     "data": {
      "text/plain": [
       "StandardScaler()"
      ]
     },
     "execution_count": 13,
     "metadata": {},
     "output_type": "execute_result"
    }
   ],
   "source": [
    "from sklearn.preprocessing import StandardScaler\n",
    "scaler = StandardScaler()\n",
    "scaler.fit(x)"
   ]
  },
  {
   "cell_type": "code",
   "execution_count": 14,
   "metadata": {
    "id": "S-_VW59XhxLt"
   },
   "outputs": [],
   "source": [
    "temp = scaler.fit_transform(x)"
   ]
  },
  {
   "cell_type": "code",
   "execution_count": 15,
   "metadata": {
    "id": "duRzklA7hxLu"
   },
   "outputs": [],
   "source": [
    "svrxtrain, svrxtest, svrytrain, svrytest = train_test_split(temp,y,test_size=0.2)"
   ]
  },
  {
   "cell_type": "code",
   "execution_count": 16,
   "metadata": {
    "colab": {
     "base_uri": "https://localhost:8080/"
    },
    "id": "CjODWscJhxLu",
    "outputId": "c7fe7e13-cf9c-4b41-b0e2-54cab3f99686"
   },
   "outputs": [
    {
     "data": {
      "text/plain": [
       "SVR(C=100, gamma='auto')"
      ]
     },
     "execution_count": 16,
     "metadata": {},
     "output_type": "execute_result"
    }
   ],
   "source": [
    "from sklearn.svm import SVR\n",
    "clf_svr= SVR(kernel=\"rbf\", C=100, gamma=\"auto\")\n",
    "clf_svr.fit(svrxtrain,svrytrain)"
   ]
  },
  {
   "cell_type": "code",
   "execution_count": 17,
   "metadata": {
    "colab": {
     "base_uri": "https://localhost:8080/"
    },
    "id": "E0hxNeBLhxLu",
    "outputId": "b8805cf0-fe40-4728-f972-8170edbcd6e7"
   },
   "outputs": [
    {
     "name": "stdout",
     "output_type": "stream",
     "text": [
      "[[2982.65 2977.41]\n",
      " [1562.5  1555.16]\n",
      " [ 892.6   892.54]\n",
      " ...\n",
      " [1247.   1236.79]\n",
      " [1375.2  1375.24]\n",
      " [1290.3  1291.45]]\n"
     ]
    }
   ],
   "source": [
    "svr_pred = clf_svr.predict(svrxtest)\n",
    "print(np.concatenate((svrytest.reshape(-1,1), svr_pred.reshape(-1,1)),-1))"
   ]
  },
  {
   "cell_type": "markdown",
   "metadata": {
    "id": "Z2kD5PJVFW5a"
   },
   "source": [
    "# DECISION TREE REGRESSION"
   ]
  },
  {
   "cell_type": "code",
   "execution_count": 18,
   "metadata": {
    "colab": {
     "base_uri": "https://localhost:8080/"
    },
    "id": "_K7ojyxMeK9-",
    "outputId": "c1316537-6cb5-47cb-efdc-819a799bc339"
   },
   "outputs": [
    {
     "data": {
      "text/plain": [
       "DecisionTreeRegressor(random_state=0)"
      ]
     },
     "execution_count": 18,
     "metadata": {},
     "output_type": "execute_result"
    }
   ],
   "source": [
    "from sklearn.tree import DecisionTreeRegressor \n",
    "  \n",
    "regressor = DecisionTreeRegressor(random_state = 0) \n",
    "\n",
    "regressor.fit(xtrain, ytrain)"
   ]
  },
  {
   "cell_type": "code",
   "execution_count": 19,
   "metadata": {
    "id": "3mTM4cJneLL5"
   },
   "outputs": [],
   "source": [
    "ypred = regressor.predict(xtest)"
   ]
  },
  {
   "cell_type": "code",
   "execution_count": 20,
   "metadata": {
    "colab": {
     "base_uri": "https://localhost:8080/"
    },
    "id": "q-cgIkUDhInY",
    "outputId": "14ded741-2f36-4fcc-f4f3-2a6d2ea0bae5"
   },
   "outputs": [
    {
     "name": "stdout",
     "output_type": "stream",
     "text": [
      "r2 value: 0.9979126769063308\n"
     ]
    }
   ],
   "source": [
    "from sklearn import metrics\n",
    "print('r2 value:',metrics.r2_score(ytest, ypred))"
   ]
  },
  {
   "cell_type": "code",
   "execution_count": 21,
   "metadata": {
    "colab": {
     "base_uri": "https://localhost:8080/"
    },
    "id": "t0IahEquhXPk",
    "outputId": "6f87f702-65ff-4509-d62b-54474957bf30"
   },
   "outputs": [
    {
     "name": "stdout",
     "output_type": "stream",
     "text": [
      "accuracy 99.11815308907912\n"
     ]
    }
   ],
   "source": [
    "print('accuracy',100- (np.mean(np.abs((ytest - ypred) / ytest)) * 100))"
   ]
  },
  {
   "cell_type": "markdown",
   "metadata": {
    "id": "d9NTB77emgBv"
   },
   "source": [
    "# RANDOM FOREST REGRESSION"
   ]
  },
  {
   "cell_type": "code",
   "execution_count": 22,
   "metadata": {
    "id": "zvhKijoMhxLv"
   },
   "outputs": [],
   "source": [
    "from sklearn.ensemble import RandomForestRegressor\n",
    "rand_reg = RandomForestRegressor()\n",
    "rand_reg.fit(xtrain, ytrain)\n",
    "rand_pred = rand_reg.predict(xtest)"
   ]
  },
  {
   "cell_type": "code",
   "execution_count": 23,
   "metadata": {},
   "outputs": [
    {
     "name": "stdout",
     "output_type": "stream",
     "text": [
      "[[1697.9  1711.53]\n",
      " [1374.6  1374.29]\n",
      " [1064.95 1083.17]\n",
      " ...\n",
      " [2647.75 2600.84]\n",
      " [ 951.2   953.22]\n",
      " [1440.6  1447.64]]\n"
     ]
    }
   ],
   "source": [
    "print(np.concatenate((ytest.reshape(-1,1), rand_pred.reshape(-1,1)),-1))"
   ]
  },
  {
   "cell_type": "markdown",
   "metadata": {
    "id": "KDGIYq2YnJoG"
   },
   "source": [
    "# Comparing Model R2 score"
   ]
  },
  {
   "cell_type": "code",
   "execution_count": 28,
   "metadata": {},
   "outputs": [
    {
     "name": "stdout",
     "output_type": "stream",
     "text": [
      "r2 value decision tree Regression: 0.9979126769063308\n",
      "r2 value Random Forest Regression: 0.9986835032464421\n",
      "r2 value Support Vector Regression: 0.9976561045394448\n",
      "r2 value Polynomial Linear Regression: 0.9990091286256881\n",
      "r2 value Linear Regression Single Variable: 0.9953538212782052\n",
      "r2 value Linear Regression Multi-Variable: 0.9987146689033681\n"
     ]
    }
   ],
   "source": [
    "print('r2 value decision tree Regression:',metrics.r2_score(ytest, ypred))\n",
    "print('r2 value Random Forest Regression:',metrics.r2_score(ytest, rand_pred))\n",
    "print('r2 value Support Vector Regression:',metrics.r2_score(svrytest, svr_pred))\n",
    "print('r2 value Polynomial Linear Regression:',metrics.r2_score(plrytest, plr_pred))\n",
    "print('r2 value Linear Regression Single Variable:',metrics.r2_score(ytest, lr_pred))\n",
    "print('r2 value Linear Regression Multi-Variable:',metrics.r2_score(ytest, lr_m.predict(xtest)))"
   ]
  },
  {
   "cell_type": "code",
   "execution_count": 46,
   "metadata": {},
   "outputs": [],
   "source": [
    "model_comp = pd.DataFrame({'models':['Decision Tree Regression',\n",
    "                                     'Random Forest Regression',\n",
    "                                     'Support Vector Regression',\n",
    "                                     'Polynomial Linear Regression',\n",
    "                                     'Linear Regression Single Variable',\n",
    "                                     'Linear Regression Multi-Variable'],\n",
    "                           'accuracy': [metrics.r2_score(ytest, ypred),\n",
    "                                        metrics.r2_score(ytest, rand_pred),\n",
    "                                        metrics.r2_score(svrytest, svr_pred),\n",
    "                                        metrics.r2_score(plrytest, plr_pred),\n",
    "                                        metrics.r2_score(ytest, lr_pred),\n",
    "                                        metrics.r2_score(ytest, lr_m.predict(xtest))]\n",
    "})"
   ]
  },
  {
   "cell_type": "code",
   "execution_count": 47,
   "metadata": {},
   "outputs": [
    {
     "data": {
      "text/html": [
       "<div>\n",
       "<style scoped>\n",
       "    .dataframe tbody tr th:only-of-type {\n",
       "        vertical-align: middle;\n",
       "    }\n",
       "\n",
       "    .dataframe tbody tr th {\n",
       "        vertical-align: top;\n",
       "    }\n",
       "\n",
       "    .dataframe thead th {\n",
       "        text-align: right;\n",
       "    }\n",
       "</style>\n",
       "<table border=\"1\" class=\"dataframe\">\n",
       "  <thead>\n",
       "    <tr style=\"text-align: right;\">\n",
       "      <th></th>\n",
       "      <th>models</th>\n",
       "      <th>accuracy</th>\n",
       "    </tr>\n",
       "  </thead>\n",
       "  <tbody>\n",
       "    <tr>\n",
       "      <th>3</th>\n",
       "      <td>Polynomial Linear Regression</td>\n",
       "      <td>0.999009</td>\n",
       "    </tr>\n",
       "    <tr>\n",
       "      <th>5</th>\n",
       "      <td>Linear Regression Multi-Variable</td>\n",
       "      <td>0.998715</td>\n",
       "    </tr>\n",
       "    <tr>\n",
       "      <th>1</th>\n",
       "      <td>Random Forest Regression</td>\n",
       "      <td>0.998684</td>\n",
       "    </tr>\n",
       "    <tr>\n",
       "      <th>0</th>\n",
       "      <td>Decision Tree Regression</td>\n",
       "      <td>0.997913</td>\n",
       "    </tr>\n",
       "    <tr>\n",
       "      <th>2</th>\n",
       "      <td>Support Vector Regression</td>\n",
       "      <td>0.997656</td>\n",
       "    </tr>\n",
       "    <tr>\n",
       "      <th>4</th>\n",
       "      <td>Linear Regression Single Variable</td>\n",
       "      <td>0.995354</td>\n",
       "    </tr>\n",
       "  </tbody>\n",
       "</table>\n",
       "</div>"
      ],
      "text/plain": [
       "                              models  accuracy\n",
       "3       Polynomial Linear Regression  0.999009\n",
       "5   Linear Regression Multi-Variable  0.998715\n",
       "1           Random Forest Regression  0.998684\n",
       "0           Decision Tree Regression  0.997913\n",
       "2          Support Vector Regression  0.997656\n",
       "4  Linear Regression Single Variable  0.995354"
      ]
     },
     "execution_count": 47,
     "metadata": {},
     "output_type": "execute_result"
    }
   ],
   "source": [
    "model_comp.sort_values(by=['accuracy'],ascending=False)"
   ]
  },
  {
   "cell_type": "markdown",
   "metadata": {
    "id": "IvwxKuh2nO6F"
   },
   "source": [
    "Linear Regression Multivariable"
   ]
  },
  {
   "cell_type": "markdown",
   "metadata": {
    "id": "krls1QoWnVHd"
   },
   "source": [
    "Linear Regression Simple"
   ]
  },
  {
   "cell_type": "markdown",
   "metadata": {
    "id": "jiKQDqmRnVnb"
   },
   "source": [
    "Linear Regression Polynomial"
   ]
  },
  {
   "cell_type": "markdown",
   "metadata": {
    "id": "dbe6XKvKnV_e"
   },
   "source": [
    "Support Vector Regression"
   ]
  },
  {
   "cell_type": "markdown",
   "metadata": {
    "id": "3Gv4uFwHnWX7"
   },
   "source": [
    "Decision Tree Regression"
   ]
  },
  {
   "cell_type": "markdown",
   "metadata": {
    "id": "9b2111dcniwX"
   },
   "source": [
    "Random Forest Regression"
   ]
  },
  {
   "cell_type": "markdown",
   "metadata": {
    "id": "Q6n_6AzWspLe"
   },
   "source": [
    "# Results"
   ]
  }
 ],
 "metadata": {
  "colab": {
   "collapsed_sections": [
    "4w7v7_2_t_K8",
    "Z2kD5PJVFW5a",
    "KDGIYq2YnJoG",
    "Q6n_6AzWspLe"
   ],
   "name": "L&T_Stock_Price_prediction.ipynb",
   "provenance": []
  },
  "kernelspec": {
   "display_name": "Python 3 (ipykernel)",
   "language": "python",
   "name": "python3"
  },
  "language_info": {
   "codemirror_mode": {
    "name": "ipython",
    "version": 3
   },
   "file_extension": ".py",
   "mimetype": "text/x-python",
   "name": "python",
   "nbconvert_exporter": "python",
   "pygments_lexer": "ipython3",
   "version": "3.9.7"
  }
 },
 "nbformat": 4,
 "nbformat_minor": 1
}
