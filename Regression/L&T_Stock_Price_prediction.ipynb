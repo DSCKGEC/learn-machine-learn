{
 "cells": [
  {
   "cell_type": "markdown",
   "metadata": {
    "id": "PftKPC5ptUBG"
   },
   "source": [
    "# DATA PRE-PROCESSING"
   ]
  },
  {
   "cell_type": "code",
   "execution_count": 1,
   "metadata": {
    "id": "azkUvNvbvhLr"
   },
   "outputs": [],
   "source": [
    "import numpy as np\n",
    "import matplotlib.pyplot as plt\n",
    "import pandas as pd"
   ]
  },
  {
   "cell_type": "code",
   "execution_count": 2,
   "metadata": {
    "id": "mgkoE-Skwiux"
   },
   "outputs": [],
   "source": [
    "dataset = pd.read_csv(\"./Datasets/LT.csv\")\n",
    "x = dataset.iloc[1:, 1:5].values\n",
    "y = dataset.iloc[1:, -1].values"
   ]
  },
  {
   "cell_type": "code",
   "execution_count": 3,
   "metadata": {
    "id": "UdN7ZqwOKNzD"
   },
   "outputs": [],
   "source": [
    "from sklearn.impute import SimpleImputer\n",
    "imputer = SimpleImputer(missing_values=np.nan, strategy=\"mean\")\n",
    "imputer.fit(x[:, :-1])\n",
    "x[:, :-1] = imputer.transform(x[:, :-1])"
   ]
  },
  {
   "cell_type": "code",
   "execution_count": 4,
   "metadata": {
    "id": "HleHSauIxqFn"
   },
   "outputs": [],
   "source": [
    "from sklearn.model_selection import train_test_split\n",
    "xtrain, xtest, ytrain, ytest = train_test_split(x,y,test_size=0.2)"
   ]
  },
  {
   "cell_type": "markdown",
   "metadata": {
    "id": "aIkbmMhWYV_y"
   },
   "source": [
    "# LINEAR REGRESSION MULTIVARIABLE\n"
   ]
  },
  {
   "cell_type": "code",
   "execution_count": 5,
   "metadata": {
    "id": "PYgQDkOQx6oM"
   },
   "outputs": [],
   "source": [
    "from sklearn.linear_model import LinearRegression\n",
    "lr_m =  LinearRegression()\n",
    "lr_m.fit(xtrain,ytrain)\n",
    "lr_m_pred = lr_m.predict(xtest)"
   ]
  },
  {
   "cell_type": "code",
   "execution_count": 6,
   "metadata": {
    "colab": {
     "base_uri": "https://localhost:8080/"
    },
    "id": "vvrHfaPYOnPG",
    "outputId": "39c97f50-c1b9-4125-8c7d-dcf30630a74e"
   },
   "outputs": [
    {
     "name": "stdout",
     "output_type": "stream",
     "text": [
      "[[1360.15 1360.12]\n",
      " [1540.   1545.18]\n",
      " [1620.1  1614.14]\n",
      " ...\n",
      " [2837.65 2838.92]\n",
      " [1260.45 1259.  ]\n",
      " [1044.15 1042.4 ]]\n"
     ]
    }
   ],
   "source": [
    "np.set_printoptions(precision=2)\n",
    "print(np.concatenate((ytest.reshape(len(ytest),1), lr_m.predict(xtest).reshape(len(lr_m.predict(xtest)),1)),1))"
   ]
  },
  {
   "cell_type": "markdown",
   "metadata": {
    "id": "X9pyc_ehYgm1"
   },
   "source": [
    "# LINEAR REGRESSION SINGLE VARIABLE"
   ]
  },
  {
   "cell_type": "code",
   "execution_count": 7,
   "metadata": {
    "colab": {
     "base_uri": "https://localhost:8080/"
    },
    "id": "3A4ZbfsxU2c8",
    "outputId": "c46eb0c5-9493-46e6-a216-c5f9059ea3c6"
   },
   "outputs": [
    {
     "data": {
      "text/plain": [
       "LinearRegression()"
      ]
     },
     "execution_count": 7,
     "metadata": {},
     "output_type": "execute_result"
    }
   ],
   "source": [
    "from sklearn.linear_model import LinearRegression\n",
    "lr = LinearRegression()\n",
    "lr.fit(xtrain[:,0].reshape(-1,1), ytrain)"
   ]
  },
  {
   "cell_type": "code",
   "execution_count": 8,
   "metadata": {
    "colab": {
     "base_uri": "https://localhost:8080/"
    },
    "id": "WVFZoQT6VVII",
    "outputId": "e024f9b4-45cc-4000-a7a7-6dede2ee884e"
   },
   "outputs": [
    {
     "name": "stdout",
     "output_type": "stream",
     "text": [
      "[[1360.15 1361.79]\n",
      " [1540.   1533.74]\n",
      " [1620.1  1616.21]\n",
      " ...\n",
      " [2837.65 2758.73]\n",
      " [1260.45 1275.35]\n",
      " [1044.15 1033.23]]\n"
     ]
    }
   ],
   "source": [
    "lr_pred = lr.predict(xtest[:,0].reshape(-1,1))\n",
    "print(np.concatenate((ytest.reshape(-1,1), lr_pred.reshape(-1,1)),-1))"
   ]
  },
  {
   "cell_type": "markdown",
   "metadata": {
    "id": "4w7v7_2_t_K8"
   },
   "source": [
    "# POLYNOMIAL LINEAR REGRESSION"
   ]
  },
  {
   "cell_type": "markdown",
   "metadata": {
    "id": "Z2ACc-Cii0Hr"
   },
   "source": [
    "# SUPPORT VECTOR REGRESSION"
   ]
  },
  {
   "cell_type": "code",
   "execution_count": 9,
   "metadata": {},
   "outputs": [
    {
     "data": {
      "text/plain": [
       "SVR(C=100, gamma='auto', kernel='linear')"
      ]
     },
     "execution_count": 9,
     "metadata": {},
     "output_type": "execute_result"
    }
   ],
   "source": [
    "from sklearn.svm import SVR\n",
    "clf_svr= SVR(kernel=\"linear\", C=100, gamma=\"auto\")\n",
    "clf_svr.fit(xtrain,ytrain)"
   ]
  },
  {
   "cell_type": "code",
   "execution_count": 10,
   "metadata": {},
   "outputs": [
    {
     "name": "stdout",
     "output_type": "stream",
     "text": [
      "[[1360.15 1495.84]\n",
      " [1540.   1743.35]\n",
      " [1620.1  1804.67]\n",
      " ...\n",
      " [2837.65 3366.29]\n",
      " [1260.45 1350.94]\n",
      " [1044.15 1036.54]]\n"
     ]
    }
   ],
   "source": [
    "svr_pred = clf_svr.predict(xtest)\n",
    "print(np.concatenate((ytest.reshape(-1,1), svr_pred.reshape(-1,1)),-1))"
   ]
  },
  {
   "cell_type": "markdown",
   "metadata": {
    "id": "Z2kD5PJVFW5a"
   },
   "source": [
    "# DECISION TREE REGRESSION"
   ]
  },
  {
   "cell_type": "markdown",
   "metadata": {
    "id": "d9NTB77emgBv"
   },
   "source": [
    "# RANDOM FOREST REGRESSION"
   ]
  },
  {
   "cell_type": "code",
   "execution_count": 11,
   "metadata": {},
   "outputs": [],
   "source": [
    "from sklearn.ensemble import RandomForestRegressor\n",
    "rand_reg = RandomForestRegressor(n_estimators=10)\n",
    "rand_reg.fit(xtrain, ytrain)\n",
    "rand_pred = rand_reg.predict(xtest)"
   ]
  },
  {
   "cell_type": "markdown",
   "metadata": {
    "id": "KDGIYq2YnJoG"
   },
   "source": [
    "# Comparing Model R2 score"
   ]
  },
  {
   "cell_type": "markdown",
   "metadata": {
    "id": "IvwxKuh2nO6F"
   },
   "source": [
    "Linear Regression Multivariable"
   ]
  },
  {
   "cell_type": "markdown",
   "metadata": {
    "id": "krls1QoWnVHd"
   },
   "source": [
    "Linear Regression Simple"
   ]
  },
  {
   "cell_type": "markdown",
   "metadata": {
    "id": "jiKQDqmRnVnb"
   },
   "source": [
    "Linear Regression Polynomial"
   ]
  },
  {
   "cell_type": "markdown",
   "metadata": {
    "id": "dbe6XKvKnV_e"
   },
   "source": [
    "Support Vector Regression"
   ]
  },
  {
   "cell_type": "markdown",
   "metadata": {
    "id": "3Gv4uFwHnWX7"
   },
   "source": [
    "Decision Tree Regression"
   ]
  },
  {
   "cell_type": "markdown",
   "metadata": {
    "id": "9b2111dcniwX"
   },
   "source": [
    "Random Forest Regression"
   ]
  },
  {
   "cell_type": "markdown",
   "metadata": {
    "id": "Q6n_6AzWspLe"
   },
   "source": [
    "# Results"
   ]
  }
 ],
 "metadata": {
  "colab": {
   "collapsed_sections": [
    "PftKPC5ptUBG",
    "aIkbmMhWYV_y",
    "X9pyc_ehYgm1",
    "4w7v7_2_t_K8",
    "Z2ACc-Cii0Hr",
    "Z2kD5PJVFW5a",
    "d9NTB77emgBv",
    "KDGIYq2YnJoG",
    "Q6n_6AzWspLe"
   ],
   "name": "Copy of LT_pred.ipynb",
   "provenance": [],
   "toc_visible": true
  },
  "kernelspec": {
   "display_name": "Python 3 (ipykernel)",
   "language": "python",
   "name": "python3"
  },
  "language_info": {
   "codemirror_mode": {
    "name": "ipython",
    "version": 3
   },
   "file_extension": ".py",
   "mimetype": "text/x-python",
   "name": "python",
   "nbconvert_exporter": "python",
   "pygments_lexer": "ipython3",
   "version": "3.9.7"
  }
 },
 "nbformat": 4,
 "nbformat_minor": 1
}
