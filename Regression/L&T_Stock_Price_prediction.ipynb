{
  "cells": [
    {
      "cell_type": "markdown",
      "metadata": {
        "id": "PftKPC5ptUBG"
      },
      "source": [
        "# DATA PRE-PROCESSING"
      ]
    },
    {
      "cell_type": "code",
      "execution_count": 4,
      "metadata": {
        "id": "azkUvNvbvhLr"
      },
      "outputs": [],
      "source": [
        "import numpy as np\n",
        "import matplotlib.pyplot as plt\n",
        "import pandas as pd"
      ]
    },
    {
      "cell_type": "code",
      "execution_count": 5,
      "metadata": {
        "id": "mgkoE-Skwiux"
      },
      "outputs": [],
      "source": [
        "dataset = pd.read_csv(\"/content/LT.csv\")\n",
        "x = dataset.iloc[1:, 1:5].values\n",
        "y = dataset.iloc[1:, -1].values"
      ]
    },
    {
      "cell_type": "code",
      "execution_count": 6,
      "metadata": {
        "id": "UdN7ZqwOKNzD"
      },
      "outputs": [],
      "source": [
        "from sklearn.impute import SimpleImputer\n",
        "imputer = SimpleImputer(missing_values=np.nan, strategy=\"mean\")\n",
        "imputer.fit(x[:, :-1])\n",
        "x[:, :-1] = imputer.transform(x[:, :-1])"
      ]
    },
    {
      "cell_type": "code",
      "execution_count": 7,
      "metadata": {
        "id": "HleHSauIxqFn"
      },
      "outputs": [],
      "source": [
        "from sklearn.model_selection import train_test_split\n",
        "xtrain, xtest, ytrain, ytest = train_test_split(x,y,test_size=0.2)"
      ]
    },
    {
      "cell_type": "markdown",
      "metadata": {
        "id": "aIkbmMhWYV_y"
      },
      "source": [
        "# LINEAR REGRESSION MULTIVARIABLE\n"
      ]
    },
    {
      "cell_type": "code",
      "execution_count": 8,
      "metadata": {
        "id": "PYgQDkOQx6oM"
      },
      "outputs": [],
      "source": [
        "from sklearn.linear_model import LinearRegression\n",
        "lr_m =  LinearRegression()\n",
        "lr_m.fit(xtrain,ytrain)\n",
        "lr_m_pred = lr_m.predict(xtest)"
      ]
    },
    {
      "cell_type": "code",
      "execution_count": 9,
      "metadata": {
        "colab": {
          "base_uri": "https://localhost:8080/"
        },
        "id": "vvrHfaPYOnPG",
        "outputId": "556d53da-d6bc-4c91-b17a-eb1fef5cb80a"
      },
      "outputs": [
        {
          "output_type": "stream",
          "name": "stdout",
          "text": [
            "[[2428.7  2393.79]\n",
            " [1131.7  1129.49]\n",
            " [1314.3  1309.8 ]\n",
            " ...\n",
            " [1387.4  1379.07]\n",
            " [2902.   2909.11]\n",
            " [1327.15 1327.89]]\n"
          ]
        }
      ],
      "source": [
        "np.set_printoptions(precision=2)\n",
        "print(np.concatenate((ytest.reshape(len(ytest),1), lr_m.predict(xtest).reshape(len(lr_m.predict(xtest)),1)),1))"
      ]
    },
    {
      "cell_type": "markdown",
      "metadata": {
        "id": "X9pyc_ehYgm1"
      },
      "source": [
        "# LINEAR REGRESSION SINGLE VARIABLE"
      ]
    },
    {
      "cell_type": "code",
      "execution_count": 10,
      "metadata": {
        "colab": {
          "base_uri": "https://localhost:8080/"
        },
        "id": "3A4ZbfsxU2c8",
        "outputId": "668521d3-94dd-4bad-a4d2-6d1f88193a11"
      },
      "outputs": [
        {
          "output_type": "execute_result",
          "data": {
            "text/plain": [
              "LinearRegression()"
            ]
          },
          "metadata": {},
          "execution_count": 10
        }
      ],
      "source": [
        "from sklearn.linear_model import LinearRegression\n",
        "lr = LinearRegression()\n",
        "lr.fit(xtrain[:,0].reshape(-1,1), ytrain)"
      ]
    },
    {
      "cell_type": "code",
      "execution_count": 11,
      "metadata": {
        "colab": {
          "base_uri": "https://localhost:8080/"
        },
        "id": "WVFZoQT6VVII",
        "outputId": "b81835fd-2314-4fcc-ff18-9d66f491fb8e"
      },
      "outputs": [
        {
          "output_type": "stream",
          "name": "stdout",
          "text": [
            "[[2428.7  2446.46]\n",
            " [1131.7  1125.41]\n",
            " [1314.3  1295.07]\n",
            " ...\n",
            " [1387.4  1362.57]\n",
            " [2902.   2898.15]\n",
            " [1327.15 1291.04]]\n"
          ]
        }
      ],
      "source": [
        "lr_pred = lr.predict(xtest[:,0].reshape(-1,1))\n",
        "print(np.concatenate((ytest.reshape(-1,1), lr_pred.reshape(-1,1)),-1))"
      ]
    },
    {
      "cell_type": "markdown",
      "metadata": {
        "id": "4w7v7_2_t_K8"
      },
      "source": [
        "# POLYNOMIAL LINEAR REGRESSION"
      ]
    },
    {
      "cell_type": "markdown",
      "metadata": {
        "id": "Z2ACc-Cii0Hr"
      },
      "source": [
        "# SUPPORT VECTOR REGRESSION"
      ]
    },
    {
      "cell_type": "code",
      "execution_count": 12,
      "metadata": {
        "colab": {
          "base_uri": "https://localhost:8080/"
        },
        "id": "pT9fF8_fhxLt",
        "outputId": "399867bb-9ac3-4610-a417-71deb79ff3e9"
      },
      "outputs": [
        {
          "output_type": "execute_result",
          "data": {
            "text/plain": [
              "StandardScaler()"
            ]
          },
          "metadata": {},
          "execution_count": 12
        }
      ],
      "source": [
        "from sklearn.preprocessing import StandardScaler\n",
        "scaler = StandardScaler()\n",
        "scaler.fit(x)"
      ]
    },
    {
      "cell_type": "code",
      "execution_count": 13,
      "metadata": {
        "id": "S-_VW59XhxLt"
      },
      "outputs": [],
      "source": [
        "temp = scaler.fit_transform(x)"
      ]
    },
    {
      "cell_type": "code",
      "execution_count": 14,
      "metadata": {
        "id": "duRzklA7hxLu"
      },
      "outputs": [],
      "source": [
        "svrxtrain, svrxtest, svrytrain, svrytest = train_test_split(temp,y,test_size=0.2)"
      ]
    },
    {
      "cell_type": "code",
      "execution_count": 15,
      "metadata": {
        "colab": {
          "base_uri": "https://localhost:8080/"
        },
        "id": "CjODWscJhxLu",
        "outputId": "c7fe7e13-cf9c-4b41-b0e2-54cab3f99686"
      },
      "outputs": [
        {
          "output_type": "execute_result",
          "data": {
            "text/plain": [
              "SVR(C=100, gamma='auto')"
            ]
          },
          "metadata": {},
          "execution_count": 15
        }
      ],
      "source": [
        "from sklearn.svm import SVR\n",
        "clf_svr= SVR(kernel=\"rbf\", C=100, gamma=\"auto\")\n",
        "clf_svr.fit(svrxtrain,svrytrain)"
      ]
    },
    {
      "cell_type": "code",
      "execution_count": 16,
      "metadata": {
        "colab": {
          "base_uri": "https://localhost:8080/"
        },
        "id": "E0hxNeBLhxLu",
        "outputId": "b8805cf0-fe40-4728-f972-8170edbcd6e7"
      },
      "outputs": [
        {
          "output_type": "stream",
          "name": "stdout",
          "text": [
            "[[1551.4  1550.21]\n",
            " [1309.   1303.25]\n",
            " [1437.85 1442.61]\n",
            " ...\n",
            " [ 656.4   680.54]\n",
            " [ 825.55  827.16]\n",
            " [1688.   1672.62]]\n"
          ]
        }
      ],
      "source": [
        "svr_pred = clf_svr.predict(svrxtest)\n",
        "print(np.concatenate((svrytest.reshape(-1,1), svr_pred.reshape(-1,1)),-1))"
      ]
    },
    {
      "cell_type": "markdown",
      "metadata": {
        "id": "Z2kD5PJVFW5a"
      },
      "source": [
        "# DECISION TREE REGRESSION"
      ]
    },
    {
      "cell_type": "code",
      "source": [
        "from sklearn.tree import DecisionTreeRegressor \n",
        "  \n",
        "regressor = DecisionTreeRegressor(random_state = 0) \n",
        "\n",
        "regressor.fit(xtrain, ytrain)"
      ],
      "metadata": {
        "colab": {
          "base_uri": "https://localhost:8080/"
        },
        "id": "_K7ojyxMeK9-",
        "outputId": "c1316537-6cb5-47cb-efdc-819a799bc339"
      },
      "execution_count": 28,
      "outputs": [
        {
          "output_type": "execute_result",
          "data": {
            "text/plain": [
              "DecisionTreeRegressor(random_state=0)"
            ]
          },
          "metadata": {},
          "execution_count": 28
        }
      ]
    },
    {
      "cell_type": "code",
      "source": [
        "ypred = regressor.predict(xtest)"
      ],
      "metadata": {
        "id": "3mTM4cJneLL5"
      },
      "execution_count": 29,
      "outputs": []
    },
    {
      "cell_type": "code",
      "source": [
        "from sklearn import metrics\n",
        "print('r2 value:',metrics.r2_score(ytest, ypred))"
      ],
      "metadata": {
        "colab": {
          "base_uri": "https://localhost:8080/"
        },
        "id": "q-cgIkUDhInY",
        "outputId": "14ded741-2f36-4fcc-f4f3-2a6d2ea0bae5"
      },
      "execution_count": 30,
      "outputs": [
        {
          "output_type": "stream",
          "name": "stdout",
          "text": [
            "r2 value: 0.9981096450066252\n"
          ]
        }
      ]
    },
    {
      "cell_type": "code",
      "source": [
        "print('accuracy',100- (np.mean(np.abs((ytest - ypred) / ytest)) * 100))"
      ],
      "metadata": {
        "colab": {
          "base_uri": "https://localhost:8080/"
        },
        "id": "t0IahEquhXPk",
        "outputId": "6f87f702-65ff-4509-d62b-54474957bf30"
      },
      "execution_count": 31,
      "outputs": [
        {
          "output_type": "stream",
          "name": "stdout",
          "text": [
            "accuracy 99.10794333962592\n"
          ]
        }
      ]
    },
    {
      "cell_type": "markdown",
      "metadata": {
        "id": "d9NTB77emgBv"
      },
      "source": [
        "# RANDOM FOREST REGRESSION"
      ]
    },
    {
      "cell_type": "code",
      "execution_count": 18,
      "metadata": {
        "id": "zvhKijoMhxLv"
      },
      "outputs": [],
      "source": [
        "from sklearn.ensemble import RandomForestRegressor\n",
        "rand_reg = RandomForestRegressor(n_estimators=10)\n",
        "rand_reg.fit(xtrain, ytrain)\n",
        "rand_pred = rand_reg.predict(xtest)"
      ]
    },
    {
      "cell_type": "markdown",
      "metadata": {
        "id": "KDGIYq2YnJoG"
      },
      "source": [
        "# Comparing Model R2 score"
      ]
    },
    {
      "cell_type": "markdown",
      "metadata": {
        "id": "IvwxKuh2nO6F"
      },
      "source": [
        "Linear Regression Multivariable"
      ]
    },
    {
      "cell_type": "markdown",
      "metadata": {
        "id": "krls1QoWnVHd"
      },
      "source": [
        "Linear Regression Simple"
      ]
    },
    {
      "cell_type": "markdown",
      "metadata": {
        "id": "jiKQDqmRnVnb"
      },
      "source": [
        "Linear Regression Polynomial"
      ]
    },
    {
      "cell_type": "markdown",
      "metadata": {
        "id": "dbe6XKvKnV_e"
      },
      "source": [
        "Support Vector Regression"
      ]
    },
    {
      "cell_type": "markdown",
      "metadata": {
        "id": "3Gv4uFwHnWX7"
      },
      "source": [
        "Decision Tree Regression"
      ]
    },
    {
      "cell_type": "markdown",
      "metadata": {
        "id": "9b2111dcniwX"
      },
      "source": [
        "Random Forest Regression"
      ]
    },
    {
      "cell_type": "markdown",
      "metadata": {
        "id": "Q6n_6AzWspLe"
      },
      "source": [
        "# Results"
      ]
    }
  ],
  "metadata": {
    "colab": {
      "collapsed_sections": [
        "4w7v7_2_t_K8",
        "Z2kD5PJVFW5a",
        "KDGIYq2YnJoG",
        "Q6n_6AzWspLe"
      ],
      "name": "L&T_Stock_Price_prediction.ipynb",
      "provenance": []
    },
    "kernelspec": {
      "display_name": "Python 3 (ipykernel)",
      "language": "python",
      "name": "python3"
    },
    "language_info": {
      "codemirror_mode": {
        "name": "ipython",
        "version": 3
      },
      "file_extension": ".py",
      "mimetype": "text/x-python",
      "name": "python",
      "nbconvert_exporter": "python",
      "pygments_lexer": "ipython3",
      "version": "3.9.7"
    }
  },
  "nbformat": 4,
  "nbformat_minor": 0
}