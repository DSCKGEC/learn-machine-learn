{
  "cells": [
    {
      "cell_type": "markdown",
      "metadata": {
        "id": "PftKPC5ptUBG"
      },
      "source": [
        "# DATA PRE-PROCESSING"
      ]
    },
    {
      "cell_type": "code",
      "execution_count": null,
      "metadata": {
        "id": "azkUvNvbvhLr"
      },
      "outputs": [],
      "source": [
        "import numpy as np\n",
        "import matplotlib.pyplot as plt\n",
        "import pandas as pd"
      ]
    },
    {
      "cell_type": "code",
      "execution_count": null,
      "metadata": {
        "id": "mgkoE-Skwiux"
      },
      "outputs": [],
      "source": [
        "dataset = pd.read_csv(\"LT.csv\")\n",
        "x = dataset.iloc[1:, 1:5].values\n",
        "y = dataset.iloc[1:, -1].values"
      ]
    },
    {
      "cell_type": "code",
      "execution_count": null,
      "metadata": {
        "id": "UdN7ZqwOKNzD"
      },
      "outputs": [],
      "source": [
        "from sklearn.impute import SimpleImputer\n",
        "imputer = SimpleImputer(missing_values=np.nan, strategy=\"mean\")\n",
        "imputer.fit(x[:, :-1])\n",
        "x[:, :-1] = imputer.transform(x[:, :-1])"
      ]
    },
    {
      "cell_type": "code",
      "execution_count": null,
      "metadata": {
        "id": "HleHSauIxqFn"
      },
      "outputs": [],
      "source": [
        "from sklearn.model_selection import train_test_split\n",
        "xtrain, xtest, ytrain, ytest = train_test_split(x,y,test_size=0.2)"
      ]
    },
    {
      "cell_type": "markdown",
      "metadata": {
        "id": "aIkbmMhWYV_y"
      },
      "source": [
        "# LINEAR REGRESSION MULTIVARIABLE\n"
      ]
    },
    {
      "cell_type": "code",
      "execution_count": null,
      "metadata": {
        "id": "PYgQDkOQx6oM"
      },
      "outputs": [],
      "source": [
        "from sklearn.linear_model import LinearRegression\n",
        "lr_m =  LinearRegression()\n",
        "lr_m.fit(xtrain,ytrain)\n",
        "lr_m_pred = lr_m.predict(xtest)"
      ]
    },
    {
      "cell_type": "code",
      "execution_count": null,
      "metadata": {
        "colab": {
          "base_uri": "https://localhost:8080/"
        },
        "id": "vvrHfaPYOnPG",
        "outputId": "39c97f50-c1b9-4125-8c7d-dcf30630a74e"
      },
      "outputs": [
        {
          "name": "stdout",
          "output_type": "stream",
          "text": [
            "[[1399.05 1400.87]\n",
            " [2040.55 2028.77]\n",
            " [1357.45 1350.06]\n",
            " ...\n",
            " [1392.6  1418.73]\n",
            " [1199.4  1204.2 ]\n",
            " [1628.75 1658.46]]\n"
          ]
        }
      ],
      "source": [
        "np.set_printoptions(precision=2)\n",
        "print(np.concatenate((ytest.reshape(len(ytest),1), lr_m.predict(xtest).reshape(len(lr_m.predict(xtest)),1)),1))"
      ]
    },
    {
      "cell_type": "markdown",
      "metadata": {
        "id": "X9pyc_ehYgm1"
      },
      "source": [
        "# LINEAR REGRESSION SINGLE VARIABLE"
      ]
    },
    {
      "cell_type": "code",
      "execution_count": null,
      "metadata": {
        "colab": {
          "base_uri": "https://localhost:8080/"
        },
        "id": "3A4ZbfsxU2c8",
        "outputId": "c46eb0c5-9493-46e6-a216-c5f9059ea3c6"
      },
      "outputs": [
        {
          "data": {
            "text/plain": [
              "LinearRegression()"
            ]
          },
          "execution_count": 10,
          "metadata": {},
          "output_type": "execute_result"
        }
      ],
      "source": [
        "from sklearn.linear_model import LinearRegression\n",
        "lr = LinearRegression()\n",
        "lr.fit(xtrain[:,0].reshape(-1,1), ytrain)"
      ]
    },
    {
      "cell_type": "code",
      "execution_count": null,
      "metadata": {
        "colab": {
          "base_uri": "https://localhost:8080/"
        },
        "id": "WVFZoQT6VVII",
        "outputId": "e024f9b4-45cc-4000-a7a7-6dede2ee884e"
      },
      "outputs": [
        {
          "name": "stdout",
          "output_type": "stream",
          "text": [
            "[[1399.05 1399.27]\n",
            " [2040.55 2032.47]\n",
            " [1357.45 1353.73]\n",
            " ...\n",
            " [1392.6  1437.09]\n",
            " [1199.4  1207.61]\n",
            " [1628.75 1572.76]]\n"
          ]
        }
      ],
      "source": [
        "lr_pred = lr.predict(xtest[:,0].reshape(-1,1))\n",
        "print(np.concatenate((ytest.reshape(-1,1), lr_pred.reshape(-1,1)),-1))"
      ]
    },
    {
      "cell_type": "markdown",
      "metadata": {
        "id": "4w7v7_2_t_K8"
      },
      "source": [
        "# POLYNOMIAL LINEAR REGRESSION"
      ]
    },
    {
      "cell_type": "markdown",
      "metadata": {
        "id": "Z2ACc-Cii0Hr"
      },
      "source": [
        "# SUPPORT VECTOR REGRESSION"
      ]
    },
    {
      "cell_type": "markdown",
      "metadata": {
        "id": "Z2kD5PJVFW5a"
      },
      "source": [
        "# DECISION TREE REGRESSION"
      ]
    },
    {
      "cell_type": "markdown",
      "metadata": {
        "id": "d9NTB77emgBv"
      },
      "source": [
        "# RANDOM FOREST REGRESSION"
      ]
    },
    {
      "cell_type": "code",
      "execution_count": null,
      "metadata": {},
      "outputs": [],
      "source": [
        "from sklearn.ensemble import RandomForestRegressor\n",
        "rand_reg = RandomForestRegressor(n_estimators=10)\n",
        "rand_reg.fit(xtrain, ytrain)\n",
        "rand_pred = rand_reg.predict(xtest)"
      ]
    },
    {
      "cell_type": "markdown",
      "metadata": {
        "id": "KDGIYq2YnJoG"
      },
      "source": [
        "# Comparing Model R2 score"
      ]
    },
    {
      "cell_type": "markdown",
      "metadata": {
        "id": "IvwxKuh2nO6F"
      },
      "source": [
        "Linear Regression Multivariable"
      ]
    },
    {
      "cell_type": "markdown",
      "metadata": {
        "id": "krls1QoWnVHd"
      },
      "source": [
        "Linear Regression Simple"
      ]
    },
    {
      "cell_type": "markdown",
      "metadata": {
        "id": "jiKQDqmRnVnb"
      },
      "source": [
        "Linear Regression Polynomial"
      ]
    },
    {
      "cell_type": "markdown",
      "metadata": {
        "id": "dbe6XKvKnV_e"
      },
      "source": [
        "Support Vector Regression"
      ]
    },
    {
      "cell_type": "markdown",
      "metadata": {
        "id": "3Gv4uFwHnWX7"
      },
      "source": [
        "Decision Tree Regression"
      ]
    },
    {
      "cell_type": "markdown",
      "metadata": {
        "id": "9b2111dcniwX"
      },
      "source": [
        "Random Forest Regression"
      ]
    },
    {
      "cell_type": "markdown",
      "metadata": {
        "id": "Q6n_6AzWspLe"
      },
      "source": [
        "# Results"
      ]
    }
  ],
  "metadata": {
    "colab": {
      "collapsed_sections": [
        "PftKPC5ptUBG",
        "aIkbmMhWYV_y",
        "X9pyc_ehYgm1",
        "4w7v7_2_t_K8",
        "Z2ACc-Cii0Hr",
        "Z2kD5PJVFW5a",
        "d9NTB77emgBv",
        "KDGIYq2YnJoG",
        "Q6n_6AzWspLe"
      ],
      "name": "Copy of LT_pred.ipynb",
      "provenance": [],
      "toc_visible": true
    },
    "kernelspec": {
      "display_name": "Python 3",
      "name": "python3"
    },
    "language_info": {
      "name": "python"
    }
  },
  "nbformat": 4,
  "nbformat_minor": 0
}
