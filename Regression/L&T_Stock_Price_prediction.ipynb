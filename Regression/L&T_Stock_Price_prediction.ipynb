{
 "cells": [
  {
   "cell_type": "markdown",
   "metadata": {
    "id": "PftKPC5ptUBG"
   },
   "source": [
    "# DATA PRE-PROCESSING"
   ]
  },
  {
   "cell_type": "code",
   "execution_count": 1,
   "metadata": {
    "id": "azkUvNvbvhLr"
   },
   "outputs": [],
   "source": [
    "import numpy as np\n",
    "import matplotlib.pyplot as plt\n",
    "import pandas as pd"
   ]
  },
  {
   "cell_type": "code",
   "execution_count": 2,
   "metadata": {
    "id": "mgkoE-Skwiux"
   },
   "outputs": [],
   "source": [
    "dataset = pd.read_csv(\"./Datasets/LT.csv\")\n",
    "x = dataset.iloc[1:, 1:5].values\n",
    "y = dataset.iloc[1:, -1].values"
   ]
  },
  {
   "cell_type": "code",
   "execution_count": 3,
   "metadata": {
    "id": "UdN7ZqwOKNzD"
   },
   "outputs": [],
   "source": [
    "from sklearn.impute import SimpleImputer\n",
    "imputer = SimpleImputer(missing_values=np.nan, strategy=\"mean\")\n",
    "imputer.fit(x[:, :-1])\n",
    "x[:, :-1] = imputer.transform(x[:, :-1])"
   ]
  },
  {
   "cell_type": "code",
   "execution_count": 4,
   "metadata": {
    "id": "HleHSauIxqFn"
   },
   "outputs": [],
   "source": [
    "from sklearn.model_selection import train_test_split\n",
    "xtrain, xtest, ytrain, ytest = train_test_split(x,y,test_size=0.2)"
   ]
  },
  {
   "cell_type": "markdown",
   "metadata": {
    "id": "aIkbmMhWYV_y"
   },
   "source": [
    "# LINEAR REGRESSION MULTIVARIABLE\n"
   ]
  },
  {
   "cell_type": "code",
   "execution_count": 5,
   "metadata": {
    "id": "PYgQDkOQx6oM"
   },
   "outputs": [],
   "source": [
    "from sklearn.linear_model import LinearRegression\n",
    "lr_m =  LinearRegression()\n",
    "lr_m.fit(xtrain,ytrain)\n",
    "lr_m_pred = lr_m.predict(xtest)"
   ]
  },
  {
   "cell_type": "code",
   "execution_count": 6,
   "metadata": {
    "colab": {
     "base_uri": "https://localhost:8080/"
    },
    "id": "vvrHfaPYOnPG",
    "outputId": "39c97f50-c1b9-4125-8c7d-dcf30630a74e"
   },
   "outputs": [
    {
     "name": "stdout",
     "output_type": "stream",
     "text": [
      "[[ 967.25  965.89]\n",
      " [2009.4  2024.65]\n",
      " [1398.3  1396.32]\n",
      " ...\n",
      " [ 954.05  969.88]\n",
      " [1400.05 1400.93]\n",
      " [1252.8  1275.96]]\n"
     ]
    }
   ],
   "source": [
    "np.set_printoptions(precision=2)\n",
    "print(np.concatenate((ytest.reshape(len(ytest),1), lr_m.predict(xtest).reshape(len(lr_m.predict(xtest)),1)),1))"
   ]
  },
  {
   "cell_type": "markdown",
   "metadata": {
    "id": "X9pyc_ehYgm1"
   },
   "source": [
    "# LINEAR REGRESSION SINGLE VARIABLE"
   ]
  },
  {
   "cell_type": "code",
   "execution_count": 7,
   "metadata": {
    "colab": {
     "base_uri": "https://localhost:8080/"
    },
    "id": "3A4ZbfsxU2c8",
    "outputId": "c46eb0c5-9493-46e6-a216-c5f9059ea3c6"
   },
   "outputs": [
    {
     "data": {
      "text/plain": [
       "LinearRegression()"
      ]
     },
     "execution_count": 7,
     "metadata": {},
     "output_type": "execute_result"
    }
   ],
   "source": [
    "from sklearn.linear_model import LinearRegression\n",
    "lr = LinearRegression()\n",
    "lr.fit(xtrain[:,0].reshape(-1,1), ytrain)"
   ]
  },
  {
   "cell_type": "code",
   "execution_count": 8,
   "metadata": {
    "colab": {
     "base_uri": "https://localhost:8080/"
    },
    "id": "WVFZoQT6VVII",
    "outputId": "e024f9b4-45cc-4000-a7a7-6dede2ee884e"
   },
   "outputs": [
    {
     "name": "stdout",
     "output_type": "stream",
     "text": [
      "[[ 967.25  980.76]\n",
      " [2009.4  2019.8 ]\n",
      " [1398.3  1372.11]\n",
      " ...\n",
      " [ 954.05  925.27]\n",
      " [1400.05 1412.1 ]\n",
      " [1252.8  1306.22]]\n"
     ]
    }
   ],
   "source": [
    "lr_pred = lr.predict(xtest[:,0].reshape(-1,1))\n",
    "print(np.concatenate((ytest.reshape(-1,1), lr_pred.reshape(-1,1)),-1))"
   ]
  },
  {
   "cell_type": "markdown",
   "metadata": {
    "id": "4w7v7_2_t_K8"
   },
   "source": [
    "# POLYNOMIAL LINEAR REGRESSION"
   ]
  },
  {
   "cell_type": "code",
   "execution_count": 9,
   "metadata": {},
   "outputs": [],
   "source": [
    "from sklearn.preprocessing import PolynomialFeatures\n",
    "poly = PolynomialFeatures(degree = 1)\n",
    "X_poly = poly.fit_transform(x) \n",
    "lin2 = LinearRegression()"
   ]
  },
  {
   "cell_type": "code",
   "execution_count": 10,
   "metadata": {},
   "outputs": [],
   "source": [
    "plrxtrain, plrxtest, plrytrain, plrytest = train_test_split(X_poly,y,test_size=0.2)"
   ]
  },
  {
   "cell_type": "code",
   "execution_count": 11,
   "metadata": {},
   "outputs": [
    {
     "data": {
      "text/plain": [
       "LinearRegression()"
      ]
     },
     "execution_count": 11,
     "metadata": {},
     "output_type": "execute_result"
    }
   ],
   "source": [
    "lin2.fit(plrxtrain, plrytrain)"
   ]
  },
  {
   "cell_type": "code",
   "execution_count": 12,
   "metadata": {
    "scrolled": true
   },
   "outputs": [
    {
     "name": "stdout",
     "output_type": "stream",
     "text": [
      "[[2420.2  2456.15]\n",
      " [1906.75 1894.21]\n",
      " [ 855.85  856.66]\n",
      " ...\n",
      " [1559.4  1574.8 ]\n",
      " [1658.25 1680.8 ]\n",
      " [1340.65 1332.78]]\n"
     ]
    }
   ],
   "source": [
    "plr_pred = lin2.predict(plrxtest)\n",
    "print(np.concatenate((plrytest.reshape(-1,1), plr_pred.reshape(-1,1)),-1))"
   ]
  },
  {
   "cell_type": "markdown",
   "metadata": {
    "id": "Z2ACc-Cii0Hr"
   },
   "source": [
    "# SUPPORT VECTOR REGRESSION"
   ]
  },
  {
   "cell_type": "code",
   "execution_count": 13,
   "metadata": {},
   "outputs": [
    {
     "data": {
      "text/plain": [
       "StandardScaler()"
      ]
     },
     "execution_count": 13,
     "metadata": {},
     "output_type": "execute_result"
    }
   ],
   "source": [
    "from sklearn.preprocessing import StandardScaler\n",
    "scaler = StandardScaler()\n",
    "scaler.fit(x)"
   ]
  },
  {
   "cell_type": "code",
   "execution_count": 14,
   "metadata": {},
   "outputs": [],
   "source": [
    "temp = scaler.fit_transform(x)\n",
    "svrxtrain, svrxtest, svrytrain, svrytest = train_test_split(temp,y,test_size=0.2)"
   ]
  },
  {
   "cell_type": "code",
   "execution_count": 15,
   "metadata": {},
   "outputs": [
    {
     "data": {
      "text/plain": [
       "SVR(C=100, gamma='auto')"
      ]
     },
     "execution_count": 15,
     "metadata": {},
     "output_type": "execute_result"
    }
   ],
   "source": [
    "from sklearn.svm import SVR\n",
    "clf_svr= SVR(kernel=\"rbf\", C=100, gamma=\"auto\")\n",
    "clf_svr.fit(svrxtrain,svrytrain)"
   ]
  },
  {
   "cell_type": "code",
   "execution_count": 16,
   "metadata": {},
   "outputs": [
    {
     "name": "stdout",
     "output_type": "stream",
     "text": [
      "[[1585.1  1584.11]\n",
      " [1323.75 1322.7 ]\n",
      " [1361.7  1367.8 ]\n",
      " ...\n",
      " [1766.55 1760.28]\n",
      " [3529.25 3658.94]\n",
      " [1492.65 1488.89]]\n"
     ]
    }
   ],
   "source": [
    "svr_pred = clf_svr.predict(svrxtest)\n",
    "print(np.concatenate((svrytest.reshape(-1,1), svr_pred.reshape(-1,1)),-1))"
   ]
  },
  {
   "cell_type": "markdown",
   "metadata": {
    "id": "Z2kD5PJVFW5a"
   },
   "source": [
    "# DECISION TREE REGRESSION"
   ]
  },
  {
   "cell_type": "markdown",
   "metadata": {
    "id": "d9NTB77emgBv"
   },
   "source": [
    "# RANDOM FOREST REGRESSION"
   ]
  },
  {
   "cell_type": "code",
   "execution_count": 17,
   "metadata": {},
   "outputs": [],
   "source": [
    "from sklearn.ensemble import RandomForestRegressor\n",
    "rand_reg = RandomForestRegressor(n_estimators=10)\n",
    "rand_reg.fit(xtrain, ytrain)\n",
    "rand_pred = rand_reg.predict(xtest)"
   ]
  },
  {
   "cell_type": "markdown",
   "metadata": {
    "id": "KDGIYq2YnJoG"
   },
   "source": [
    "# Comparing Model R2 score"
   ]
  },
  {
   "cell_type": "markdown",
   "metadata": {
    "id": "IvwxKuh2nO6F"
   },
   "source": [
    "Linear Regression Multivariable"
   ]
  },
  {
   "cell_type": "markdown",
   "metadata": {
    "id": "krls1QoWnVHd"
   },
   "source": [
    "Linear Regression Simple"
   ]
  },
  {
   "cell_type": "markdown",
   "metadata": {
    "id": "jiKQDqmRnVnb"
   },
   "source": [
    "Linear Regression Polynomial"
   ]
  },
  {
   "cell_type": "markdown",
   "metadata": {
    "id": "dbe6XKvKnV_e"
   },
   "source": [
    "Support Vector Regression"
   ]
  },
  {
   "cell_type": "markdown",
   "metadata": {
    "id": "3Gv4uFwHnWX7"
   },
   "source": [
    "Decision Tree Regression"
   ]
  },
  {
   "cell_type": "markdown",
   "metadata": {
    "id": "9b2111dcniwX"
   },
   "source": [
    "Random Forest Regression"
   ]
  },
  {
   "cell_type": "markdown",
   "metadata": {
    "id": "Q6n_6AzWspLe"
   },
   "source": [
    "# Results"
   ]
  }
 ],
 "metadata": {
  "colab": {
   "collapsed_sections": [
    "PftKPC5ptUBG",
    "aIkbmMhWYV_y",
    "X9pyc_ehYgm1",
    "4w7v7_2_t_K8",
    "Z2ACc-Cii0Hr",
    "Z2kD5PJVFW5a",
    "d9NTB77emgBv",
    "KDGIYq2YnJoG",
    "Q6n_6AzWspLe"
   ],
   "name": "Copy of LT_pred.ipynb",
   "provenance": [],
   "toc_visible": true
  },
  "kernelspec": {
   "display_name": "Python 3 (ipykernel)",
   "language": "python",
   "name": "python3"
  },
  "language_info": {
   "codemirror_mode": {
    "name": "ipython",
    "version": 3
   },
   "file_extension": ".py",
   "mimetype": "text/x-python",
   "name": "python",
   "nbconvert_exporter": "python",
   "pygments_lexer": "ipython3",
   "version": "3.9.7"
  }
 },
 "nbformat": 4,
 "nbformat_minor": 1
}
