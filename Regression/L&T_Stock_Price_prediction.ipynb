{
 "cells": [
  {
   "cell_type": "markdown",
   "metadata": {
    "id": "PftKPC5ptUBG"
   },
   "source": [
    "# DATA PRE-PROCESSING"
   ]
  },
  {
   "cell_type": "code",
   "execution_count": 1,
   "metadata": {
    "id": "azkUvNvbvhLr"
   },
   "outputs": [],
   "source": [
    "import numpy as np\n",
    "import matplotlib.pyplot as plt\n",
    "import pandas as pd"
   ]
  },
  {
   "cell_type": "code",
   "execution_count": 2,
   "metadata": {
    "id": "mgkoE-Skwiux"
   },
   "outputs": [],
   "source": [
    "dataset = pd.read_csv(\"./Datasets/LT.csv\")\n",
    "x = dataset.iloc[1:, 1:5].values\n",
    "y = dataset.iloc[1:, -1].values"
   ]
  },
  {
   "cell_type": "code",
   "execution_count": 3,
   "metadata": {
    "id": "UdN7ZqwOKNzD"
   },
   "outputs": [],
   "source": [
    "from sklearn.impute import SimpleImputer\n",
    "imputer = SimpleImputer(missing_values=np.nan, strategy=\"mean\")\n",
    "imputer.fit(x[:, :-1])\n",
    "x[:, :-1] = imputer.transform(x[:, :-1])"
   ]
  },
  {
   "cell_type": "code",
   "execution_count": 4,
   "metadata": {
    "id": "HleHSauIxqFn"
   },
   "outputs": [],
   "source": [
    "from sklearn.model_selection import train_test_split\n",
    "xtrain, xtest, ytrain, ytest = train_test_split(x,y,test_size=0.2)"
   ]
  },
  {
   "cell_type": "markdown",
   "metadata": {
    "id": "aIkbmMhWYV_y"
   },
   "source": [
    "# LINEAR REGRESSION MULTIVARIABLE\n"
   ]
  },
  {
   "cell_type": "code",
   "execution_count": 5,
   "metadata": {
    "id": "PYgQDkOQx6oM"
   },
   "outputs": [],
   "source": [
    "from sklearn.linear_model import LinearRegression\n",
    "lr_m =  LinearRegression()\n",
    "lr_m.fit(xtrain,ytrain)\n",
    "lr_m_pred = lr_m.predict(xtest)"
   ]
  },
  {
   "cell_type": "code",
   "execution_count": 6,
   "metadata": {
    "colab": {
     "base_uri": "https://localhost:8080/"
    },
    "id": "vvrHfaPYOnPG",
    "outputId": "556d53da-d6bc-4c91-b17a-eb1fef5cb80a"
   },
   "outputs": [
    {
     "name": "stdout",
     "output_type": "stream",
     "text": [
      "[[1110.65 1109.9 ]\n",
      " [ 839.2   841.55]\n",
      " [1960.2  1951.71]\n",
      " ...\n",
      " [1370.9  1374.41]\n",
      " [1802.5  1806.97]\n",
      " [ 765.45  765.72]]\n"
     ]
    }
   ],
   "source": [
    "np.set_printoptions(precision=2)\n",
    "print(np.concatenate((ytest.reshape(len(ytest),1), lr_m.predict(xtest).reshape(len(lr_m.predict(xtest)),1)),1))"
   ]
  },
  {
   "cell_type": "markdown",
   "metadata": {
    "id": "X9pyc_ehYgm1"
   },
   "source": [
    "# LINEAR REGRESSION SINGLE VARIABLE"
   ]
  },
  {
   "cell_type": "code",
   "execution_count": 7,
   "metadata": {
    "colab": {
     "base_uri": "https://localhost:8080/"
    },
    "id": "3A4ZbfsxU2c8",
    "outputId": "668521d3-94dd-4bad-a4d2-6d1f88193a11"
   },
   "outputs": [
    {
     "data": {
      "text/plain": [
       "LinearRegression()"
      ]
     },
     "execution_count": 7,
     "metadata": {},
     "output_type": "execute_result"
    }
   ],
   "source": [
    "from sklearn.linear_model import LinearRegression\n",
    "lr = LinearRegression()\n",
    "lr.fit(xtrain[:,0].reshape(-1,1), ytrain)"
   ]
  },
  {
   "cell_type": "code",
   "execution_count": 8,
   "metadata": {
    "colab": {
     "base_uri": "https://localhost:8080/"
    },
    "id": "WVFZoQT6VVII",
    "outputId": "b81835fd-2314-4fcc-ff18-9d66f491fb8e"
   },
   "outputs": [
    {
     "name": "stdout",
     "output_type": "stream",
     "text": [
      "[[1110.65 1088.83]\n",
      " [ 839.2   848.43]\n",
      " [1960.2  1931.74]\n",
      " ...\n",
      " [1370.9  1358.47]\n",
      " [1802.5  1812.06]\n",
      " [ 765.45  779.1 ]]\n"
     ]
    }
   ],
   "source": [
    "lr_pred = lr.predict(xtest[:,0].reshape(-1,1))\n",
    "print(np.concatenate((ytest.reshape(-1,1), lr_pred.reshape(-1,1)),-1))"
   ]
  },
  {
   "cell_type": "markdown",
   "metadata": {
    "id": "4w7v7_2_t_K8"
   },
   "source": [
    "# POLYNOMIAL LINEAR REGRESSION"
   ]
  },
  {
   "cell_type": "code",
   "execution_count": 20,
   "metadata": {},
   "outputs": [],
   "source": [
    "from sklearn.preprocessing import PolynomialFeatures\n",
    "poly = PolynomialFeatures(degree = 1)\n",
    "X_poly = poly.fit_transform(x) \n",
    "lin2 = LinearRegression()"
   ]
  },
  {
   "cell_type": "code",
   "execution_count": 21,
   "metadata": {},
   "outputs": [],
   "source": [
    "plrxtrain, plrxtest, plrytrain, plrytest = train_test_split(X_poly,y,test_size=0.2)"
   ]
  },
  {
   "cell_type": "code",
   "execution_count": 22,
   "metadata": {},
   "outputs": [
    {
     "data": {
      "text/plain": [
       "LinearRegression()"
      ]
     },
     "execution_count": 22,
     "metadata": {},
     "output_type": "execute_result"
    }
   ],
   "source": [
    "lin2.fit(plrxtrain, plrytrain)"
   ]
  },
  {
   "cell_type": "code",
   "execution_count": 23,
   "metadata": {},
   "outputs": [
    {
     "name": "stdout",
     "output_type": "stream",
     "text": [
      "[[1740.25 1735.04]\n",
      " [1367.3  1364.95]\n",
      " [1240.55 1237.06]\n",
      " ...\n",
      " [2448.4  2442.29]\n",
      " [1332.45 1321.1 ]\n",
      " [2297.6  2315.43]]\n"
     ]
    }
   ],
   "source": [
    "plr_pred = lin2.predict(plrxtest)\n",
    "print(np.concatenate((plrytest.reshape(-1,1), plr_pred.reshape(-1,1)),-1))"
   ]
  },
  {
   "cell_type": "markdown",
   "metadata": {
    "id": "Z2ACc-Cii0Hr"
   },
   "source": [
    "# SUPPORT VECTOR REGRESSION"
   ]
  },
  {
   "cell_type": "code",
   "execution_count": 9,
   "metadata": {
    "colab": {
     "base_uri": "https://localhost:8080/"
    },
    "id": "pT9fF8_fhxLt",
    "outputId": "399867bb-9ac3-4610-a417-71deb79ff3e9"
   },
   "outputs": [
    {
     "data": {
      "text/plain": [
       "StandardScaler()"
      ]
     },
     "execution_count": 9,
     "metadata": {},
     "output_type": "execute_result"
    }
   ],
   "source": [
    "from sklearn.preprocessing import StandardScaler\n",
    "scaler = StandardScaler()\n",
    "scaler.fit(x)"
   ]
  },
  {
   "cell_type": "code",
   "execution_count": 10,
   "metadata": {
    "id": "S-_VW59XhxLt"
   },
   "outputs": [],
   "source": [
    "temp = scaler.fit_transform(x)"
   ]
  },
  {
   "cell_type": "code",
   "execution_count": 11,
   "metadata": {
    "id": "duRzklA7hxLu"
   },
   "outputs": [],
   "source": [
    "svrxtrain, svrxtest, svrytrain, svrytest = train_test_split(temp,y,test_size=0.2)"
   ]
  },
  {
   "cell_type": "code",
   "execution_count": 12,
   "metadata": {
    "colab": {
     "base_uri": "https://localhost:8080/"
    },
    "id": "CjODWscJhxLu",
    "outputId": "c7fe7e13-cf9c-4b41-b0e2-54cab3f99686"
   },
   "outputs": [
    {
     "data": {
      "text/plain": [
       "SVR(C=100, gamma='auto')"
      ]
     },
     "execution_count": 12,
     "metadata": {},
     "output_type": "execute_result"
    }
   ],
   "source": [
    "from sklearn.svm import SVR\n",
    "clf_svr= SVR(kernel=\"rbf\", C=100, gamma=\"auto\")\n",
    "clf_svr.fit(svrxtrain,svrytrain)"
   ]
  },
  {
   "cell_type": "code",
   "execution_count": 13,
   "metadata": {
    "colab": {
     "base_uri": "https://localhost:8080/"
    },
    "id": "E0hxNeBLhxLu",
    "outputId": "b8805cf0-fe40-4728-f972-8170edbcd6e7"
   },
   "outputs": [
    {
     "name": "stdout",
     "output_type": "stream",
     "text": [
      "[[1873.85 1878.46]\n",
      " [1363.6  1367.55]\n",
      " [1366.95 1370.62]\n",
      " ...\n",
      " [1437.85 1442.66]\n",
      " [1578.05 1576.37]\n",
      " [1146.9  1150.68]]\n"
     ]
    }
   ],
   "source": [
    "svr_pred = clf_svr.predict(svrxtest)\n",
    "print(np.concatenate((svrytest.reshape(-1,1), svr_pred.reshape(-1,1)),-1))"
   ]
  },
  {
   "cell_type": "markdown",
   "metadata": {
    "id": "Z2kD5PJVFW5a"
   },
   "source": [
    "# DECISION TREE REGRESSION"
   ]
  },
  {
   "cell_type": "code",
   "execution_count": 14,
   "metadata": {
    "colab": {
     "base_uri": "https://localhost:8080/"
    },
    "id": "_K7ojyxMeK9-",
    "outputId": "c1316537-6cb5-47cb-efdc-819a799bc339"
   },
   "outputs": [
    {
     "data": {
      "text/plain": [
       "DecisionTreeRegressor(random_state=0)"
      ]
     },
     "execution_count": 14,
     "metadata": {},
     "output_type": "execute_result"
    }
   ],
   "source": [
    "from sklearn.tree import DecisionTreeRegressor \n",
    "  \n",
    "regressor = DecisionTreeRegressor(random_state = 0) \n",
    "\n",
    "regressor.fit(xtrain, ytrain)"
   ]
  },
  {
   "cell_type": "code",
   "execution_count": 15,
   "metadata": {
    "id": "3mTM4cJneLL5"
   },
   "outputs": [],
   "source": [
    "ypred = regressor.predict(xtest)"
   ]
  },
  {
   "cell_type": "code",
   "execution_count": 16,
   "metadata": {
    "colab": {
     "base_uri": "https://localhost:8080/"
    },
    "id": "q-cgIkUDhInY",
    "outputId": "14ded741-2f36-4fcc-f4f3-2a6d2ea0bae5"
   },
   "outputs": [
    {
     "name": "stdout",
     "output_type": "stream",
     "text": [
      "r2 value: 0.9953921411007015\n"
     ]
    }
   ],
   "source": [
    "from sklearn import metrics\n",
    "print('r2 value:',metrics.r2_score(ytest, ypred))"
   ]
  },
  {
   "cell_type": "code",
   "execution_count": 17,
   "metadata": {
    "colab": {
     "base_uri": "https://localhost:8080/"
    },
    "id": "t0IahEquhXPk",
    "outputId": "6f87f702-65ff-4509-d62b-54474957bf30"
   },
   "outputs": [
    {
     "name": "stdout",
     "output_type": "stream",
     "text": [
      "accuracy 99.07086848047787\n"
     ]
    }
   ],
   "source": [
    "print('accuracy',100- (np.mean(np.abs((ytest - ypred) / ytest)) * 100))"
   ]
  },
  {
   "cell_type": "markdown",
   "metadata": {
    "id": "d9NTB77emgBv"
   },
   "source": [
    "# RANDOM FOREST REGRESSION"
   ]
  },
  {
   "cell_type": "code",
   "execution_count": 18,
   "metadata": {
    "id": "zvhKijoMhxLv"
   },
   "outputs": [],
   "source": [
    "from sklearn.ensemble import RandomForestRegressor\n",
    "rand_reg = RandomForestRegressor()\n",
    "rand_reg.fit(xtrain, ytrain)\n",
    "rand_pred = rand_reg.predict(xtest)"
   ]
  },
  {
   "cell_type": "code",
   "execution_count": 19,
   "metadata": {},
   "outputs": [
    {
     "name": "stdout",
     "output_type": "stream",
     "text": [
      "[[1110.65 1106.6 ]\n",
      " [ 839.2   844.89]\n",
      " [1960.2  1945.46]\n",
      " ...\n",
      " [1370.9  1371.85]\n",
      " [1802.5  1805.19]\n",
      " [ 765.45  767.21]]\n"
     ]
    }
   ],
   "source": [
    "print(np.concatenate((ytest.reshape(-1,1), rand_pred.reshape(-1,1)),-1))"
   ]
  },
  {
   "cell_type": "markdown",
   "metadata": {
    "id": "KDGIYq2YnJoG"
   },
   "source": [
    "# Comparing Model R2 score"
   ]
  },
  {
   "cell_type": "markdown",
   "metadata": {
    "id": "IvwxKuh2nO6F"
   },
   "source": [
    "Linear Regression Multivariable"
   ]
  },
  {
   "cell_type": "markdown",
   "metadata": {
    "id": "krls1QoWnVHd"
   },
   "source": [
    "Linear Regression Simple"
   ]
  },
  {
   "cell_type": "markdown",
   "metadata": {
    "id": "jiKQDqmRnVnb"
   },
   "source": [
    "Linear Regression Polynomial"
   ]
  },
  {
   "cell_type": "markdown",
   "metadata": {
    "id": "dbe6XKvKnV_e"
   },
   "source": [
    "Support Vector Regression"
   ]
  },
  {
   "cell_type": "markdown",
   "metadata": {
    "id": "3Gv4uFwHnWX7"
   },
   "source": [
    "Decision Tree Regression"
   ]
  },
  {
   "cell_type": "markdown",
   "metadata": {
    "id": "9b2111dcniwX"
   },
   "source": [
    "Random Forest Regression"
   ]
  },
  {
   "cell_type": "markdown",
   "metadata": {
    "id": "Q6n_6AzWspLe"
   },
   "source": [
    "# Results"
   ]
  }
 ],
 "metadata": {
  "colab": {
   "collapsed_sections": [
    "4w7v7_2_t_K8",
    "Z2kD5PJVFW5a",
    "KDGIYq2YnJoG",
    "Q6n_6AzWspLe"
   ],
   "name": "L&T_Stock_Price_prediction.ipynb",
   "provenance": []
  },
  "kernelspec": {
   "display_name": "Python 3 (ipykernel)",
   "language": "python",
   "name": "python3"
  },
  "language_info": {
   "codemirror_mode": {
    "name": "ipython",
    "version": 3
   },
   "file_extension": ".py",
   "mimetype": "text/x-python",
   "name": "python",
   "nbconvert_exporter": "python",
   "pygments_lexer": "ipython3",
   "version": "3.9.7"
  }
 },
 "nbformat": 4,
 "nbformat_minor": 1
}
